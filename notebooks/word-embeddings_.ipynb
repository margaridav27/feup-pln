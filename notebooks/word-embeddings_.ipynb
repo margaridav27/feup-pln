{
 "cells": [
  {
   "attachments": {},
   "cell_type": "markdown",
   "metadata": {},
   "source": [
    "Notebook prepared by Henrique Lopes Cardoso (hlc@fe.up.pt), based on [Word2Vec Tutorial Notebook](https://github.com/kavgan/nlp-in-practice/tree/master/word2vec) by Kavita Ganesan and on [Gensim's documentation on the Word2Vec Model](https://radimrehurek.com/gensim/auto_examples/tutorials/run_word2vec.html).\n",
    "\n",
    "# WORD EMBEDDINGS\n"
   ]
  },
  {
   "attachments": {},
   "cell_type": "markdown",
   "metadata": {},
   "source": [
    "## Word2Vec in Gensim\n",
    "\n",
    "[Word2Vec](https://code.google.com/archive/p/word2vec/) is a model for training word embeddings that revolutionized the way words are represented. [Gensim](https://radimrehurek.com/gensim_3.8.3/models/word2vec.html) provides an implementation of the algorithm, with which we can train our own word embeddings.\n"
   ]
  },
  {
   "attachments": {},
   "cell_type": "markdown",
   "metadata": {},
   "source": [
    "#### The data\n",
    "\n",
    "Training embeddings requires a big corpus, the bigger the better.\n",
    "\n",
    "For illustration purposes, we'll make use of the (not very big) [OpinRank](http://kavita-ganesan.com/entity-ranking-data/) dataset, which includes full reviews of cars and hotels. More specifically, we'll use an 84MB compressed file with 255404 hotel reviews.\n",
    "\n",
    "This is how each review looks like:\n"
   ]
  },
  {
   "cell_type": "code",
   "execution_count": 1,
   "metadata": {},
   "outputs": [
    {
     "name": "stdout",
     "output_type": "stream",
     "text": [
      "b\"Oct 12 2009 \\tNice trendy hotel location not too bad.\\tI stayed in this hotel for one night. As this is a fairly new place some of the taxi drivers did not know where it was and/or did not want to drive there. Once I have eventually arrived at the hotel, I was very pleasantly surprised with the decor of the lobby/ground floor area. It was very stylish and modern. I found the reception's staff geeting me with 'Aloha' a bit out of place, but I guess they are briefed to say that to keep up the coroporate image.As I have a Starwood Preferred Guest member, I was given a small gift upon-check in. It was only a couple of fridge magnets in a gift box, but nevertheless a nice gesture.My room was nice and roomy, there are tea and coffee facilities in each room and you get two complimentary bottles of water plus some toiletries by 'bliss'.The location is not great. It is at the last metro stop and you then need to take a taxi, but if you are not planning on going to see the historic sites in Beijing, then you will be ok.I chose to have some breakfast in the hotel, which was really tasty and there was a good selection of dishes. There are a couple of computers to use in the communal area, as well as a pool table. There is also a small swimming pool and a gym area.I would definitely stay in this hotel again, but only if I did not plan to travel to central Beijing, as it can take a long time. The location is ok if you plan to do a lot of shopping, as there is a big shopping centre just few minutes away from the hotel and there are plenty of eating options around, including restaurants that serve a dog meat!\\t\\r\\n\"\n"
     ]
    }
   ],
   "source": [
    "import gzip\n",
    "\n",
    "data_file = \"../reviews/reviews_data.txt.gz\"\n",
    "\n",
    "with gzip.open(data_file, \"rb\") as f:\n",
    "    for i, line in enumerate(f):\n",
    "        print(line)\n",
    "        break"
   ]
  },
  {
   "attachments": {},
   "cell_type": "markdown",
   "metadata": {},
   "source": [
    "Let's read the whole dataset into a list, while providing some logging information.\n",
    "\n",
    "In the process of reading the data directly from the compressed file, we'll perform some pre-processing of the reviews using [gensim.utils.simple_preprocess](https://tedboy.github.io/nlps/generated/generated/gensim.utils.simple_preprocess.html). This does some basic pre-processing such as tokenization and lowercasing, and returns back a list of tokens (words).\n"
   ]
  },
  {
   "cell_type": "code",
   "execution_count": 2,
   "metadata": {},
   "outputs": [],
   "source": [
    "import gensim\n",
    "import logging\n",
    "\n",
    "logging.basicConfig(format=\"%(asctime)s : %(levelname)s : %(message)s\", level=logging.INFO)\n",
    "\n",
    "\n",
    "def read_input(input_file):\n",
    "    \"\"\"This method reads the input file which is in gzip format\"\"\"\n",
    "\n",
    "    logging.info(f\"reading file {input_file}...this may take a while\")\n",
    "\n",
    "    with gzip.open(input_file, \"rb\") as f:\n",
    "        for i, line in enumerate(f):\n",
    "\n",
    "            if i % 10000 == 0:\n",
    "                logging.info(f\"read {i} reviews\")\n",
    "\n",
    "            # do some pre-processing and return a list of words for each review text\n",
    "            yield gensim.utils.simple_preprocess(line)\n",
    "    logging.info(\"Done reading data file\")"
   ]
  },
  {
   "cell_type": "code",
   "execution_count": 3,
   "metadata": {},
   "outputs": [
    {
     "name": "stderr",
     "output_type": "stream",
     "text": [
      "2023-03-10 14:22:50,164 : INFO : reading file ../reviews/reviews_data.txt.gz...this may take a while\n",
      "2023-03-10 14:22:50,165 : INFO : read 0 reviews\n",
      "2023-03-10 14:22:51,534 : INFO : read 10000 reviews\n",
      "2023-03-10 14:22:52,914 : INFO : read 20000 reviews\n",
      "2023-03-10 14:22:54,521 : INFO : read 30000 reviews\n",
      "2023-03-10 14:22:56,037 : INFO : read 40000 reviews\n",
      "2023-03-10 14:22:57,899 : INFO : read 50000 reviews\n",
      "2023-03-10 14:22:59,505 : INFO : read 60000 reviews\n",
      "2023-03-10 14:23:00,854 : INFO : read 70000 reviews\n",
      "2023-03-10 14:23:02,094 : INFO : read 80000 reviews\n",
      "2023-03-10 14:23:03,401 : INFO : read 90000 reviews\n",
      "2023-03-10 14:23:04,642 : INFO : read 100000 reviews\n",
      "2023-03-10 14:23:05,893 : INFO : read 110000 reviews\n",
      "2023-03-10 14:23:07,131 : INFO : read 120000 reviews\n",
      "2023-03-10 14:23:08,388 : INFO : read 130000 reviews\n",
      "2023-03-10 14:23:10,094 : INFO : read 140000 reviews\n",
      "2023-03-10 14:23:11,332 : INFO : read 150000 reviews\n",
      "2023-03-10 14:23:12,617 : INFO : read 160000 reviews\n",
      "2023-03-10 14:23:13,890 : INFO : read 170000 reviews\n",
      "2023-03-10 14:23:15,206 : INFO : read 180000 reviews\n",
      "2023-03-10 14:23:16,512 : INFO : read 190000 reviews\n",
      "2023-03-10 14:23:17,919 : INFO : read 200000 reviews\n",
      "2023-03-10 14:23:19,235 : INFO : read 210000 reviews\n",
      "2023-03-10 14:23:20,589 : INFO : read 220000 reviews\n",
      "2023-03-10 14:23:22,408 : INFO : read 230000 reviews\n",
      "2023-03-10 14:23:23,681 : INFO : read 240000 reviews\n",
      "2023-03-10 14:23:24,948 : INFO : read 250000 reviews\n",
      "2023-03-10 14:23:25,631 : INFO : Done reading data file\n"
     ]
    },
    {
     "data": {
      "text/plain": [
       "255404"
      ]
     },
     "execution_count": 3,
     "metadata": {},
     "output_type": "execute_result"
    }
   ],
   "source": [
    "# compressed file with the data\n",
    "data_file = \"../reviews/reviews_data.txt.gz\"\n",
    "\n",
    "# read the tokenized reviews into a list\n",
    "documents = list(read_input(data_file))\n",
    "\n",
    "len(documents)"
   ]
  },
  {
   "attachments": {},
   "cell_type": "markdown",
   "metadata": {},
   "source": [
    "Each review item becomes a list of words, so what we have is a list of lists.\n"
   ]
  },
  {
   "cell_type": "code",
   "execution_count": 4,
   "metadata": {},
   "outputs": [
    {
     "name": "stdout",
     "output_type": "stream",
     "text": [
      "['oct', 'nice', 'trendy', 'hotel', 'location', 'not', 'too', 'bad', 'stayed', 'in', 'this', 'hotel', 'for', 'one', 'night', 'as', 'this', 'is', 'fairly', 'new', 'place', 'some', 'of', 'the', 'taxi', 'drivers', 'did', 'not', 'know', 'where', 'it', 'was', 'and', 'or', 'did', 'not', 'want', 'to', 'drive', 'there', 'once', 'have', 'eventually', 'arrived', 'at', 'the', 'hotel', 'was', 'very', 'pleasantly', 'surprised', 'with', 'the', 'decor', 'of', 'the', 'lobby', 'ground', 'floor', 'area', 'it', 'was', 'very', 'stylish', 'and', 'modern', 'found', 'the', 'reception', 'staff', 'geeting', 'me', 'with', 'aloha', 'bit', 'out', 'of', 'place', 'but', 'guess', 'they', 'are', 'briefed', 'to', 'say', 'that', 'to', 'keep', 'up', 'the', 'coroporate', 'image', 'as', 'have', 'starwood', 'preferred', 'guest', 'member', 'was', 'given', 'small', 'gift', 'upon', 'check', 'in', 'it', 'was', 'only', 'couple', 'of', 'fridge', 'magnets', 'in', 'gift', 'box', 'but', 'nevertheless', 'nice', 'gesture', 'my', 'room', 'was', 'nice', 'and', 'roomy', 'there', 'are', 'tea', 'and', 'coffee', 'facilities', 'in', 'each', 'room', 'and', 'you', 'get', 'two', 'complimentary', 'bottles', 'of', 'water', 'plus', 'some', 'toiletries', 'by', 'bliss', 'the', 'location', 'is', 'not', 'great', 'it', 'is', 'at', 'the', 'last', 'metro', 'stop', 'and', 'you', 'then', 'need', 'to', 'take', 'taxi', 'but', 'if', 'you', 'are', 'not', 'planning', 'on', 'going', 'to', 'see', 'the', 'historic', 'sites', 'in', 'beijing', 'then', 'you', 'will', 'be', 'ok', 'chose', 'to', 'have', 'some', 'breakfast', 'in', 'the', 'hotel', 'which', 'was', 'really', 'tasty', 'and', 'there', 'was', 'good', 'selection', 'of', 'dishes', 'there', 'are', 'couple', 'of', 'computers', 'to', 'use', 'in', 'the', 'communal', 'area', 'as', 'well', 'as', 'pool', 'table', 'there', 'is', 'also', 'small', 'swimming', 'pool', 'and', 'gym', 'area', 'would', 'definitely', 'stay', 'in', 'this', 'hotel', 'again', 'but', 'only', 'if', 'did', 'not', 'plan', 'to', 'travel', 'to', 'central', 'beijing', 'as', 'it', 'can', 'take', 'long', 'time', 'the', 'location', 'is', 'ok', 'if', 'you', 'plan', 'to', 'do', 'lot', 'of', 'shopping', 'as', 'there', 'is', 'big', 'shopping', 'centre', 'just', 'few', 'minutes', 'away', 'from', 'the', 'hotel', 'and', 'there', 'are', 'plenty', 'of', 'eating', 'options', 'around', 'including', 'restaurants', 'that', 'serve', 'dog', 'meat']\n"
     ]
    }
   ],
   "source": [
    "print(documents[0])\n"
   ]
  },
  {
   "attachments": {},
   "cell_type": "markdown",
   "metadata": {},
   "source": [
    "#### Training the Word2Vec model\n",
    "\n",
    "To train a Word2Vec model, we instantiate Word2Vec and pass it the text we have loaded before. You can check the available options for [instantiation](https://radimrehurek.com/gensim_3.8.3/models/word2vec.html#gensim.models.word2vec.Word2Vec) and for [training](https://radimrehurek.com/gensim_3.8.3/models/word2vec.html#gensim.models.word2vec.Word2Vec.train).\n",
    "\n",
    "Training a Word2Vec model takes time, depending on your hardware. In this particular case, expect training to take something between 5 to 10 minutes on an Intel Core-i7 16GB desktop. I know, that's a very wide range, but of course it depends on which other processes are running in the same machine...\n"
   ]
  },
  {
   "cell_type": "code",
   "execution_count": 5,
   "metadata": {},
   "outputs": [
    {
     "name": "stderr",
     "output_type": "stream",
     "text": [
      "2023-03-10 14:23:25,704 : INFO : collecting all words and their counts\n",
      "2023-03-10 14:23:25,705 : INFO : PROGRESS: at sentence #0, processed 0 words, keeping 0 word types\n",
      "2023-03-10 14:23:25,912 : INFO : PROGRESS: at sentence #10000, processed 1655714 words, keeping 25777 word types\n",
      "2023-03-10 14:23:26,123 : INFO : PROGRESS: at sentence #20000, processed 3317863 words, keeping 35016 word types\n",
      "2023-03-10 14:23:26,375 : INFO : PROGRESS: at sentence #30000, processed 5264072 words, keeping 47518 word types\n",
      "2023-03-10 14:23:26,607 : INFO : PROGRESS: at sentence #40000, processed 7081746 words, keeping 56675 word types\n",
      "2023-03-10 14:23:26,858 : INFO : PROGRESS: at sentence #50000, processed 9089491 words, keeping 63744 word types\n",
      "2023-03-10 14:23:27,101 : INFO : PROGRESS: at sentence #60000, processed 11013728 words, keeping 76788 word types\n",
      "2023-03-10 14:23:27,309 : INFO : PROGRESS: at sentence #70000, processed 12637530 words, keeping 83201 word types\n",
      "2023-03-10 14:23:27,505 : INFO : PROGRESS: at sentence #80000, processed 14099756 words, keeping 88461 word types\n",
      "2023-03-10 14:23:27,719 : INFO : PROGRESS: at sentence #90000, processed 15662154 words, keeping 93359 word types\n",
      "2023-03-10 14:23:27,917 : INFO : PROGRESS: at sentence #100000, processed 17164492 words, keeping 97888 word types\n",
      "2023-03-10 14:23:28,115 : INFO : PROGRESS: at sentence #110000, processed 18652297 words, keeping 102134 word types\n",
      "2023-03-10 14:23:28,320 : INFO : PROGRESS: at sentence #120000, processed 20152534 words, keeping 105925 word types\n",
      "2023-03-10 14:23:28,524 : INFO : PROGRESS: at sentence #130000, processed 21684335 words, keeping 110106 word types\n",
      "2023-03-10 14:23:28,742 : INFO : PROGRESS: at sentence #140000, processed 23330211 words, keeping 114110 word types\n",
      "2023-03-10 14:23:28,942 : INFO : PROGRESS: at sentence #150000, processed 24838759 words, keeping 118176 word types\n",
      "2023-03-10 14:23:29,148 : INFO : PROGRESS: at sentence #160000, processed 26390915 words, keeping 118672 word types\n",
      "2023-03-10 14:23:29,352 : INFO : PROGRESS: at sentence #170000, processed 27913921 words, keeping 123358 word types\n",
      "2023-03-10 14:23:29,564 : INFO : PROGRESS: at sentence #180000, processed 29535617 words, keeping 126750 word types\n",
      "2023-03-10 14:23:29,769 : INFO : PROGRESS: at sentence #190000, processed 31096464 words, keeping 129849 word types\n",
      "2023-03-10 14:23:29,999 : INFO : PROGRESS: at sentence #200000, processed 32805276 words, keeping 133257 word types\n",
      "2023-03-10 14:23:30,214 : INFO : PROGRESS: at sentence #210000, processed 34434203 words, keeping 136366 word types\n",
      "2023-03-10 14:23:30,432 : INFO : PROGRESS: at sentence #220000, processed 36083487 words, keeping 139420 word types\n",
      "2023-03-10 14:23:30,628 : INFO : PROGRESS: at sentence #230000, processed 37571767 words, keeping 142401 word types\n",
      "2023-03-10 14:23:30,835 : INFO : PROGRESS: at sentence #240000, processed 39138195 words, keeping 145234 word types\n",
      "2023-03-10 14:23:31,040 : INFO : PROGRESS: at sentence #250000, processed 40695054 words, keeping 147968 word types\n",
      "2023-03-10 14:23:31,151 : INFO : collected 150061 word types from a corpus of 41519360 raw words and 255404 sentences\n",
      "2023-03-10 14:23:31,152 : INFO : Creating a fresh vocabulary\n",
      "2023-03-10 14:23:31,335 : INFO : Word2Vec lifecycle event {'msg': 'effective_min_count=2 retains 70537 unique words (47.01% of original 150061, drops 79524)', 'datetime': '2023-03-10T14:23:31.335743', 'gensim': '4.3.1', 'python': '3.11.1 (main, Jan  6 2023, 00:00:00) [GCC 12.2.1 20221121 (Red Hat 12.2.1-4)]', 'platform': 'Linux-6.1.7-200.fc37.x86_64-x86_64-with-glibc2.36', 'event': 'prepare_vocab'}\n",
      "2023-03-10 14:23:31,336 : INFO : Word2Vec lifecycle event {'msg': 'effective_min_count=2 leaves 41439836 word corpus (99.81% of original 41519360, drops 79524)', 'datetime': '2023-03-10T14:23:31.336183', 'gensim': '4.3.1', 'python': '3.11.1 (main, Jan  6 2023, 00:00:00) [GCC 12.2.1 20221121 (Red Hat 12.2.1-4)]', 'platform': 'Linux-6.1.7-200.fc37.x86_64-x86_64-with-glibc2.36', 'event': 'prepare_vocab'}\n",
      "2023-03-10 14:23:31,581 : INFO : deleting the raw counts dictionary of 150061 items\n",
      "2023-03-10 14:23:31,585 : INFO : sample=0.001 downsamples 55 most-common words\n",
      "2023-03-10 14:23:31,585 : INFO : Word2Vec lifecycle event {'msg': 'downsampling leaves estimated 30349251.36700416 word corpus (73.2%% of prior 41439836)', 'datetime': '2023-03-10T14:23:31.585851', 'gensim': '4.3.1', 'python': '3.11.1 (main, Jan  6 2023, 00:00:00) [GCC 12.2.1 20221121 (Red Hat 12.2.1-4)]', 'platform': 'Linux-6.1.7-200.fc37.x86_64-x86_64-with-glibc2.36', 'event': 'prepare_vocab'}\n",
      "2023-03-10 14:23:31,982 : INFO : estimated required memory for 70537 words and 150 dimensions: 119912900 bytes\n",
      "2023-03-10 14:23:31,983 : INFO : resetting layer weights\n",
      "2023-03-10 14:23:32,031 : INFO : Word2Vec lifecycle event {'update': False, 'trim_rule': 'None', 'datetime': '2023-03-10T14:23:32.031084', 'gensim': '4.3.1', 'python': '3.11.1 (main, Jan  6 2023, 00:00:00) [GCC 12.2.1 20221121 (Red Hat 12.2.1-4)]', 'platform': 'Linux-6.1.7-200.fc37.x86_64-x86_64-with-glibc2.36', 'event': 'build_vocab'}\n",
      "2023-03-10 14:23:32,031 : INFO : Word2Vec lifecycle event {'msg': 'training model with 10 workers on 70537 vocabulary and 150 features, using sg=1 hs=0 sample=0.001 negative=5 window=10 shrink_windows=True', 'datetime': '2023-03-10T14:23:32.031694', 'gensim': '4.3.1', 'python': '3.11.1 (main, Jan  6 2023, 00:00:00) [GCC 12.2.1 20221121 (Red Hat 12.2.1-4)]', 'platform': 'Linux-6.1.7-200.fc37.x86_64-x86_64-with-glibc2.36', 'event': 'train'}\n",
      "2023-03-10 14:23:33,052 : INFO : EPOCH 0 - PROGRESS: at 1.03% examples, 326909 words/s, in_qsize 20, out_qsize 0\n",
      "2023-03-10 14:23:34,082 : INFO : EPOCH 0 - PROGRESS: at 2.16% examples, 334867 words/s, in_qsize 20, out_qsize 0\n",
      "2023-03-10 14:23:35,111 : INFO : EPOCH 0 - PROGRESS: at 3.46% examples, 349435 words/s, in_qsize 19, out_qsize 0\n",
      "2023-03-10 14:23:36,113 : INFO : EPOCH 0 - PROGRESS: at 4.76% examples, 359300 words/s, in_qsize 20, out_qsize 0\n",
      "2023-03-10 14:23:37,137 : INFO : EPOCH 0 - PROGRESS: at 6.12% examples, 370098 words/s, in_qsize 19, out_qsize 0\n",
      "2023-03-10 14:23:38,149 : INFO : EPOCH 0 - PROGRESS: at 7.43% examples, 374787 words/s, in_qsize 19, out_qsize 0\n",
      "2023-03-10 14:23:39,159 : INFO : EPOCH 0 - PROGRESS: at 8.72% examples, 378221 words/s, in_qsize 19, out_qsize 0\n",
      "2023-03-10 14:23:40,168 : INFO : EPOCH 0 - PROGRESS: at 9.80% examples, 381592 words/s, in_qsize 19, out_qsize 0\n",
      "2023-03-10 14:23:41,192 : INFO : EPOCH 0 - PROGRESS: at 10.87% examples, 382151 words/s, in_qsize 19, out_qsize 0\n",
      "2023-03-10 14:23:42,212 : INFO : EPOCH 0 - PROGRESS: at 11.90% examples, 382588 words/s, in_qsize 19, out_qsize 0\n",
      "2023-03-10 14:23:43,216 : INFO : EPOCH 0 - PROGRESS: at 13.09% examples, 385659 words/s, in_qsize 19, out_qsize 0\n",
      "2023-03-10 14:23:44,218 : INFO : EPOCH 0 - PROGRESS: at 14.26% examples, 386978 words/s, in_qsize 19, out_qsize 0\n",
      "2023-03-10 14:23:45,229 : INFO : EPOCH 0 - PROGRESS: at 15.41% examples, 386313 words/s, in_qsize 19, out_qsize 0\n",
      "2023-03-10 14:23:46,236 : INFO : EPOCH 0 - PROGRESS: at 16.51% examples, 386882 words/s, in_qsize 19, out_qsize 0\n",
      "2023-03-10 14:23:47,242 : INFO : EPOCH 0 - PROGRESS: at 17.60% examples, 387863 words/s, in_qsize 19, out_qsize 0\n",
      "2023-03-10 14:23:48,257 : INFO : EPOCH 0 - PROGRESS: at 18.69% examples, 387927 words/s, in_qsize 19, out_qsize 0\n",
      "2023-03-10 14:23:49,262 : INFO : EPOCH 0 - PROGRESS: at 19.66% examples, 387693 words/s, in_qsize 19, out_qsize 0\n",
      "2023-03-10 14:23:50,268 : INFO : EPOCH 0 - PROGRESS: at 20.64% examples, 387915 words/s, in_qsize 19, out_qsize 0\n",
      "2023-03-10 14:23:51,277 : INFO : EPOCH 0 - PROGRESS: at 22.01% examples, 388377 words/s, in_qsize 19, out_qsize 0\n",
      "2023-03-10 14:23:52,283 : INFO : EPOCH 0 - PROGRESS: at 23.02% examples, 388293 words/s, in_qsize 19, out_qsize 0\n",
      "2023-03-10 14:23:53,287 : INFO : EPOCH 0 - PROGRESS: at 23.97% examples, 387858 words/s, in_qsize 19, out_qsize 0\n",
      "2023-03-10 14:23:54,305 : INFO : EPOCH 0 - PROGRESS: at 25.29% examples, 388872 words/s, in_qsize 19, out_qsize 0\n",
      "2023-03-10 14:23:55,307 : INFO : EPOCH 0 - PROGRESS: at 26.72% examples, 388890 words/s, in_qsize 19, out_qsize 0\n",
      "2023-03-10 14:23:56,329 : INFO : EPOCH 0 - PROGRESS: at 28.24% examples, 389181 words/s, in_qsize 19, out_qsize 0\n",
      "2023-03-10 14:23:57,336 : INFO : EPOCH 0 - PROGRESS: at 29.71% examples, 390185 words/s, in_qsize 19, out_qsize 0\n",
      "2023-03-10 14:23:58,357 : INFO : EPOCH 0 - PROGRESS: at 31.22% examples, 390734 words/s, in_qsize 19, out_qsize 0\n",
      "2023-03-10 14:23:59,387 : INFO : EPOCH 0 - PROGRESS: at 32.71% examples, 391246 words/s, in_qsize 19, out_qsize 0\n",
      "2023-03-10 14:24:00,436 : INFO : EPOCH 0 - PROGRESS: at 34.04% examples, 391034 words/s, in_qsize 19, out_qsize 0\n",
      "2023-03-10 14:24:01,447 : INFO : EPOCH 0 - PROGRESS: at 35.50% examples, 391853 words/s, in_qsize 19, out_qsize 0\n",
      "2023-03-10 14:24:02,482 : INFO : EPOCH 0 - PROGRESS: at 36.95% examples, 391997 words/s, in_qsize 19, out_qsize 0\n",
      "2023-03-10 14:24:03,492 : INFO : EPOCH 0 - PROGRESS: at 38.42% examples, 392432 words/s, in_qsize 19, out_qsize 0\n",
      "2023-03-10 14:24:04,507 : INFO : EPOCH 0 - PROGRESS: at 39.88% examples, 393078 words/s, in_qsize 19, out_qsize 0\n",
      "2023-03-10 14:24:05,518 : INFO : EPOCH 0 - PROGRESS: at 41.38% examples, 393058 words/s, in_qsize 19, out_qsize 0\n",
      "2023-03-10 14:24:06,520 : INFO : EPOCH 0 - PROGRESS: at 42.79% examples, 393311 words/s, in_qsize 19, out_qsize 0\n",
      "2023-03-10 14:24:07,590 : INFO : EPOCH 0 - PROGRESS: at 44.41% examples, 393451 words/s, in_qsize 19, out_qsize 0\n",
      "2023-03-10 14:24:08,609 : INFO : EPOCH 0 - PROGRESS: at 45.90% examples, 393721 words/s, in_qsize 19, out_qsize 0\n",
      "2023-03-10 14:24:09,624 : INFO : EPOCH 0 - PROGRESS: at 47.27% examples, 394185 words/s, in_qsize 19, out_qsize 0\n",
      "2023-03-10 14:24:10,625 : INFO : EPOCH 0 - PROGRESS: at 48.68% examples, 394255 words/s, in_qsize 19, out_qsize 0\n",
      "2023-03-10 14:24:11,658 : INFO : EPOCH 0 - PROGRESS: at 50.16% examples, 394499 words/s, in_qsize 20, out_qsize 0\n",
      "2023-03-10 14:24:12,675 : INFO : EPOCH 0 - PROGRESS: at 51.54% examples, 394522 words/s, in_qsize 19, out_qsize 0\n",
      "2023-03-10 14:24:13,678 : INFO : EPOCH 0 - PROGRESS: at 52.78% examples, 394519 words/s, in_qsize 19, out_qsize 0\n",
      "2023-03-10 14:24:14,679 : INFO : EPOCH 0 - PROGRESS: at 54.05% examples, 394390 words/s, in_qsize 19, out_qsize 0\n",
      "2023-03-10 14:24:15,686 : INFO : EPOCH 0 - PROGRESS: at 55.47% examples, 394245 words/s, in_qsize 19, out_qsize 0\n",
      "2023-03-10 14:24:16,718 : INFO : EPOCH 0 - PROGRESS: at 56.85% examples, 394056 words/s, in_qsize 19, out_qsize 0\n",
      "2023-03-10 14:24:17,734 : INFO : EPOCH 0 - PROGRESS: at 58.20% examples, 393962 words/s, in_qsize 19, out_qsize 0\n",
      "2023-03-10 14:24:18,785 : INFO : EPOCH 0 - PROGRESS: at 59.59% examples, 393616 words/s, in_qsize 19, out_qsize 0\n",
      "2023-03-10 14:24:19,790 : INFO : EPOCH 0 - PROGRESS: at 60.93% examples, 393405 words/s, in_qsize 19, out_qsize 0\n",
      "2023-03-10 14:24:20,799 : INFO : EPOCH 0 - PROGRESS: at 62.20% examples, 393135 words/s, in_qsize 19, out_qsize 0\n",
      "2023-03-10 14:24:21,800 : INFO : EPOCH 0 - PROGRESS: at 63.75% examples, 393486 words/s, in_qsize 19, out_qsize 0\n",
      "2023-03-10 14:24:22,851 : INFO : EPOCH 0 - PROGRESS: at 65.26% examples, 393555 words/s, in_qsize 19, out_qsize 0\n",
      "2023-03-10 14:24:23,852 : INFO : EPOCH 0 - PROGRESS: at 66.45% examples, 393150 words/s, in_qsize 19, out_qsize 0\n",
      "2023-03-10 14:24:24,854 : INFO : EPOCH 0 - PROGRESS: at 67.86% examples, 393430 words/s, in_qsize 19, out_qsize 0\n",
      "2023-03-10 14:24:25,866 : INFO : EPOCH 0 - PROGRESS: at 69.17% examples, 393393 words/s, in_qsize 19, out_qsize 0\n",
      "2023-03-10 14:24:26,874 : INFO : EPOCH 0 - PROGRESS: at 70.32% examples, 392978 words/s, in_qsize 19, out_qsize 0\n",
      "2023-03-10 14:24:27,903 : INFO : EPOCH 0 - PROGRESS: at 71.63% examples, 392726 words/s, in_qsize 19, out_qsize 0\n",
      "2023-03-10 14:24:28,906 : INFO : EPOCH 0 - PROGRESS: at 73.07% examples, 393013 words/s, in_qsize 19, out_qsize 0\n",
      "2023-03-10 14:24:29,924 : INFO : EPOCH 0 - PROGRESS: at 74.40% examples, 392694 words/s, in_qsize 19, out_qsize 0\n",
      "2023-03-10 14:24:30,934 : INFO : EPOCH 0 - PROGRESS: at 75.66% examples, 392709 words/s, in_qsize 19, out_qsize 0\n",
      "2023-03-10 14:24:31,941 : INFO : EPOCH 0 - PROGRESS: at 76.89% examples, 392702 words/s, in_qsize 19, out_qsize 0\n",
      "2023-03-10 14:24:32,988 : INFO : EPOCH 0 - PROGRESS: at 78.12% examples, 392435 words/s, in_qsize 19, out_qsize 0\n",
      "2023-03-10 14:24:34,010 : INFO : EPOCH 0 - PROGRESS: at 79.38% examples, 392122 words/s, in_qsize 19, out_qsize 0\n",
      "2023-03-10 14:24:35,018 : INFO : EPOCH 0 - PROGRESS: at 80.62% examples, 392022 words/s, in_qsize 19, out_qsize 0\n",
      "2023-03-10 14:24:36,054 : INFO : EPOCH 0 - PROGRESS: at 81.90% examples, 391631 words/s, in_qsize 19, out_qsize 0\n",
      "2023-03-10 14:24:37,058 : INFO : EPOCH 0 - PROGRESS: at 83.04% examples, 390804 words/s, in_qsize 19, out_qsize 0\n",
      "2023-03-10 14:24:38,074 : INFO : EPOCH 0 - PROGRESS: at 84.27% examples, 390565 words/s, in_qsize 19, out_qsize 0\n",
      "2023-03-10 14:24:39,098 : INFO : EPOCH 0 - PROGRESS: at 85.51% examples, 390581 words/s, in_qsize 19, out_qsize 0\n",
      "2023-03-10 14:24:40,113 : INFO : EPOCH 0 - PROGRESS: at 86.90% examples, 390373 words/s, in_qsize 19, out_qsize 0\n",
      "2023-03-10 14:24:41,132 : INFO : EPOCH 0 - PROGRESS: at 88.22% examples, 389933 words/s, in_qsize 19, out_qsize 0\n",
      "2023-03-10 14:24:42,135 : INFO : EPOCH 0 - PROGRESS: at 89.51% examples, 389525 words/s, in_qsize 19, out_qsize 0\n",
      "2023-03-10 14:24:43,174 : INFO : EPOCH 0 - PROGRESS: at 90.88% examples, 389320 words/s, in_qsize 18, out_qsize 1\n",
      "2023-03-10 14:24:44,186 : INFO : EPOCH 0 - PROGRESS: at 92.23% examples, 389164 words/s, in_qsize 19, out_qsize 0\n",
      "2023-03-10 14:24:45,207 : INFO : EPOCH 0 - PROGRESS: at 93.52% examples, 389149 words/s, in_qsize 19, out_qsize 0\n",
      "2023-03-10 14:24:46,234 : INFO : EPOCH 0 - PROGRESS: at 94.81% examples, 388831 words/s, in_qsize 19, out_qsize 0\n",
      "2023-03-10 14:24:47,258 : INFO : EPOCH 0 - PROGRESS: at 96.09% examples, 388529 words/s, in_qsize 19, out_qsize 0\n",
      "2023-03-10 14:24:48,276 : INFO : EPOCH 0 - PROGRESS: at 97.45% examples, 388428 words/s, in_qsize 19, out_qsize 0\n",
      "2023-03-10 14:24:49,282 : INFO : EPOCH 0 - PROGRESS: at 98.75% examples, 388225 words/s, in_qsize 19, out_qsize 0\n",
      "2023-03-10 14:24:50,186 : INFO : EPOCH 0: training on 41519360 raw words (30346274 effective words) took 78.2s, 388303 effective words/s\n",
      "2023-03-10 14:24:51,212 : INFO : EPOCH 1 - PROGRESS: at 1.02% examples, 325254 words/s, in_qsize 19, out_qsize 0\n",
      "2023-03-10 14:24:52,216 : INFO : EPOCH 1 - PROGRESS: at 2.28% examples, 356013 words/s, in_qsize 20, out_qsize 0\n",
      "2023-03-10 14:24:53,225 : INFO : EPOCH 1 - PROGRESS: at 3.51% examples, 358839 words/s, in_qsize 19, out_qsize 0\n",
      "2023-03-10 14:24:54,226 : INFO : EPOCH 1 - PROGRESS: at 4.79% examples, 364910 words/s, in_qsize 19, out_qsize 0\n",
      "2023-03-10 14:24:55,230 : INFO : EPOCH 1 - PROGRESS: at 5.94% examples, 364815 words/s, in_qsize 19, out_qsize 0\n",
      "2023-03-10 14:24:56,238 : INFO : EPOCH 1 - PROGRESS: at 7.12% examples, 362456 words/s, in_qsize 19, out_qsize 0\n",
      "2023-03-10 14:24:57,258 : INFO : EPOCH 1 - PROGRESS: at 8.36% examples, 365998 words/s, in_qsize 19, out_qsize 0\n",
      "2023-03-10 14:24:58,258 : INFO : EPOCH 1 - PROGRESS: at 9.44% examples, 366106 words/s, in_qsize 19, out_qsize 0\n",
      "2023-03-10 14:24:59,278 : INFO : EPOCH 1 - PROGRESS: at 10.40% examples, 366165 words/s, in_qsize 20, out_qsize 0\n",
      "2023-03-10 14:25:00,332 : INFO : EPOCH 1 - PROGRESS: at 11.44% examples, 365595 words/s, in_qsize 19, out_qsize 0\n",
      "2023-03-10 14:25:01,379 : INFO : EPOCH 1 - PROGRESS: at 12.41% examples, 365361 words/s, in_qsize 19, out_qsize 0\n",
      "2023-03-10 14:25:02,384 : INFO : EPOCH 1 - PROGRESS: at 13.56% examples, 366037 words/s, in_qsize 19, out_qsize 0\n",
      "2023-03-10 14:25:03,394 : INFO : EPOCH 1 - PROGRESS: at 14.65% examples, 366908 words/s, in_qsize 19, out_qsize 0\n",
      "2023-03-10 14:25:04,398 : INFO : EPOCH 1 - PROGRESS: at 15.76% examples, 366940 words/s, in_qsize 19, out_qsize 0\n",
      "2023-03-10 14:25:05,401 : INFO : EPOCH 1 - PROGRESS: at 16.72% examples, 366418 words/s, in_qsize 18, out_qsize 1\n",
      "2023-03-10 14:25:06,413 : INFO : EPOCH 1 - PROGRESS: at 17.69% examples, 366234 words/s, in_qsize 19, out_qsize 0\n",
      "2023-03-10 14:25:07,425 : INFO : EPOCH 1 - PROGRESS: at 18.73% examples, 365995 words/s, in_qsize 19, out_qsize 0\n",
      "2023-03-10 14:25:08,439 : INFO : EPOCH 1 - PROGRESS: at 19.59% examples, 364458 words/s, in_qsize 19, out_qsize 0\n",
      "2023-03-10 14:25:09,458 : INFO : EPOCH 1 - PROGRESS: at 20.48% examples, 363013 words/s, in_qsize 19, out_qsize 0\n",
      "2023-03-10 14:25:10,507 : INFO : EPOCH 1 - PROGRESS: at 21.76% examples, 362921 words/s, in_qsize 19, out_qsize 0\n",
      "2023-03-10 14:25:11,514 : INFO : EPOCH 1 - PROGRESS: at 22.72% examples, 363015 words/s, in_qsize 19, out_qsize 0\n",
      "2023-03-10 14:25:12,515 : INFO : EPOCH 1 - PROGRESS: at 23.62% examples, 362858 words/s, in_qsize 19, out_qsize 0\n",
      "2023-03-10 14:25:13,522 : INFO : EPOCH 1 - PROGRESS: at 24.55% examples, 362894 words/s, in_qsize 19, out_qsize 0\n",
      "2023-03-10 14:25:14,544 : INFO : EPOCH 1 - PROGRESS: at 25.96% examples, 363085 words/s, in_qsize 19, out_qsize 0\n",
      "2023-03-10 14:25:15,546 : INFO : EPOCH 1 - PROGRESS: at 27.32% examples, 363277 words/s, in_qsize 19, out_qsize 0\n",
      "2023-03-10 14:25:16,552 : INFO : EPOCH 1 - PROGRESS: at 28.65% examples, 363373 words/s, in_qsize 19, out_qsize 0\n",
      "2023-03-10 14:25:17,571 : INFO : EPOCH 1 - PROGRESS: at 29.92% examples, 362714 words/s, in_qsize 19, out_qsize 0\n",
      "2023-03-10 14:25:18,604 : INFO : EPOCH 1 - PROGRESS: at 31.26% examples, 362282 words/s, in_qsize 19, out_qsize 0\n",
      "2023-03-10 14:25:19,642 : INFO : EPOCH 1 - PROGRESS: at 32.56% examples, 361967 words/s, in_qsize 19, out_qsize 0\n",
      "2023-03-10 14:25:20,643 : INFO : EPOCH 1 - PROGRESS: at 33.80% examples, 362398 words/s, in_qsize 19, out_qsize 0\n",
      "2023-03-10 14:25:21,664 : INFO : EPOCH 1 - PROGRESS: at 35.04% examples, 362154 words/s, in_qsize 19, out_qsize 0\n",
      "2023-03-10 14:25:22,676 : INFO : EPOCH 1 - PROGRESS: at 36.37% examples, 361957 words/s, in_qsize 19, out_qsize 0\n",
      "2023-03-10 14:25:23,678 : INFO : EPOCH 1 - PROGRESS: at 37.57% examples, 361874 words/s, in_qsize 19, out_qsize 0\n",
      "2023-03-10 14:25:24,700 : INFO : EPOCH 1 - PROGRESS: at 38.95% examples, 361994 words/s, in_qsize 20, out_qsize 0\n",
      "2023-03-10 14:25:25,761 : INFO : EPOCH 1 - PROGRESS: at 40.29% examples, 361937 words/s, in_qsize 19, out_qsize 0\n",
      "2023-03-10 14:25:26,786 : INFO : EPOCH 1 - PROGRESS: at 41.74% examples, 362060 words/s, in_qsize 19, out_qsize 0\n",
      "2023-03-10 14:25:27,843 : INFO : EPOCH 1 - PROGRESS: at 43.04% examples, 362002 words/s, in_qsize 19, out_qsize 0\n",
      "2023-03-10 14:25:28,912 : INFO : EPOCH 1 - PROGRESS: at 44.51% examples, 361901 words/s, in_qsize 19, out_qsize 0\n",
      "2023-03-10 14:25:29,918 : INFO : EPOCH 1 - PROGRESS: at 45.83% examples, 362159 words/s, in_qsize 19, out_qsize 0\n",
      "2023-03-10 14:25:30,927 : INFO : EPOCH 1 - PROGRESS: at 46.96% examples, 361490 words/s, in_qsize 19, out_qsize 0\n",
      "2023-03-10 14:25:31,930 : INFO : EPOCH 1 - PROGRESS: at 48.21% examples, 361450 words/s, in_qsize 19, out_qsize 0\n",
      "2023-03-10 14:25:32,985 : INFO : EPOCH 1 - PROGRESS: at 49.55% examples, 361281 words/s, in_qsize 19, out_qsize 0\n",
      "2023-03-10 14:25:33,990 : INFO : EPOCH 1 - PROGRESS: at 50.83% examples, 361369 words/s, in_qsize 19, out_qsize 0\n",
      "2023-03-10 14:25:34,995 : INFO : EPOCH 1 - PROGRESS: at 52.00% examples, 361260 words/s, in_qsize 19, out_qsize 0\n",
      "2023-03-10 14:25:36,009 : INFO : EPOCH 1 - PROGRESS: at 53.06% examples, 360657 words/s, in_qsize 19, out_qsize 0\n",
      "2023-03-10 14:25:37,014 : INFO : EPOCH 1 - PROGRESS: at 54.27% examples, 360622 words/s, in_qsize 19, out_qsize 0\n",
      "2023-03-10 14:25:38,067 : INFO : EPOCH 1 - PROGRESS: at 55.63% examples, 360406 words/s, in_qsize 19, out_qsize 0\n",
      "2023-03-10 14:25:39,071 : INFO : EPOCH 1 - PROGRESS: at 56.88% examples, 360417 words/s, in_qsize 19, out_qsize 0\n",
      "2023-03-10 14:25:40,072 : INFO : EPOCH 1 - PROGRESS: at 58.07% examples, 360254 words/s, in_qsize 19, out_qsize 0\n",
      "2023-03-10 14:25:41,115 : INFO : EPOCH 1 - PROGRESS: at 59.30% examples, 359830 words/s, in_qsize 19, out_qsize 0\n",
      "2023-03-10 14:25:42,120 : INFO : EPOCH 1 - PROGRESS: at 60.53% examples, 359725 words/s, in_qsize 19, out_qsize 0\n",
      "2023-03-10 14:25:43,137 : INFO : EPOCH 1 - PROGRESS: at 61.66% examples, 359106 words/s, in_qsize 19, out_qsize 0\n",
      "2023-03-10 14:25:44,173 : INFO : EPOCH 1 - PROGRESS: at 62.95% examples, 359044 words/s, in_qsize 20, out_qsize 0\n",
      "2023-03-10 14:25:45,208 : INFO : EPOCH 1 - PROGRESS: at 64.41% examples, 358985 words/s, in_qsize 19, out_qsize 0\n",
      "2023-03-10 14:25:46,218 : INFO : EPOCH 1 - PROGRESS: at 65.55% examples, 358668 words/s, in_qsize 19, out_qsize 0\n",
      "2023-03-10 14:25:47,233 : INFO : EPOCH 1 - PROGRESS: at 66.71% examples, 358557 words/s, in_qsize 19, out_qsize 0\n",
      "2023-03-10 14:25:48,252 : INFO : EPOCH 1 - PROGRESS: at 67.88% examples, 358086 words/s, in_qsize 19, out_qsize 0\n",
      "2023-03-10 14:25:49,277 : INFO : EPOCH 1 - PROGRESS: at 69.13% examples, 358211 words/s, in_qsize 19, out_qsize 0\n",
      "2023-03-10 14:25:50,322 : INFO : EPOCH 1 - PROGRESS: at 70.20% examples, 357830 words/s, in_qsize 20, out_qsize 0\n",
      "2023-03-10 14:25:51,325 : INFO : EPOCH 1 - PROGRESS: at 71.44% examples, 357995 words/s, in_qsize 19, out_qsize 0\n",
      "2023-03-10 14:25:52,332 : INFO : EPOCH 1 - PROGRESS: at 72.56% examples, 357540 words/s, in_qsize 19, out_qsize 0\n",
      "2023-03-10 14:25:53,346 : INFO : EPOCH 1 - PROGRESS: at 73.95% examples, 357710 words/s, in_qsize 19, out_qsize 0\n",
      "2023-03-10 14:25:54,359 : INFO : EPOCH 1 - PROGRESS: at 75.02% examples, 357330 words/s, in_qsize 19, out_qsize 0\n",
      "2023-03-10 14:25:55,383 : INFO : EPOCH 1 - PROGRESS: at 76.11% examples, 357138 words/s, in_qsize 19, out_qsize 0\n",
      "2023-03-10 14:25:56,389 : INFO : EPOCH 1 - PROGRESS: at 77.20% examples, 356926 words/s, in_qsize 19, out_qsize 0\n",
      "2023-03-10 14:25:57,392 : INFO : EPOCH 1 - PROGRESS: at 78.29% examples, 356853 words/s, in_qsize 19, out_qsize 0\n",
      "2023-03-10 14:25:58,441 : INFO : EPOCH 1 - PROGRESS: at 79.50% examples, 356645 words/s, in_qsize 19, out_qsize 0\n",
      "2023-03-10 14:25:59,470 : INFO : EPOCH 1 - PROGRESS: at 80.66% examples, 356644 words/s, in_qsize 19, out_qsize 0\n",
      "2023-03-10 14:26:00,474 : INFO : EPOCH 1 - PROGRESS: at 81.77% examples, 356261 words/s, in_qsize 19, out_qsize 0\n",
      "2023-03-10 14:26:01,492 : INFO : EPOCH 1 - PROGRESS: at 83.02% examples, 356335 words/s, in_qsize 19, out_qsize 0\n",
      "2023-03-10 14:26:02,492 : INFO : EPOCH 1 - PROGRESS: at 84.19% examples, 356378 words/s, in_qsize 19, out_qsize 0\n",
      "2023-03-10 14:26:03,505 : INFO : EPOCH 1 - PROGRESS: at 85.29% examples, 356341 words/s, in_qsize 19, out_qsize 0\n",
      "2023-03-10 14:26:04,506 : INFO : EPOCH 1 - PROGRESS: at 86.56% examples, 356379 words/s, in_qsize 19, out_qsize 0\n",
      "2023-03-10 14:26:05,533 : INFO : EPOCH 1 - PROGRESS: at 87.89% examples, 356319 words/s, in_qsize 19, out_qsize 0\n",
      "2023-03-10 14:26:06,557 : INFO : EPOCH 1 - PROGRESS: at 89.06% examples, 355890 words/s, in_qsize 19, out_qsize 0\n",
      "2023-03-10 14:26:07,586 : INFO : EPOCH 1 - PROGRESS: at 90.34% examples, 355917 words/s, in_qsize 19, out_qsize 0\n",
      "2023-03-10 14:26:08,594 : INFO : EPOCH 1 - PROGRESS: at 91.54% examples, 355672 words/s, in_qsize 19, out_qsize 0\n",
      "2023-03-10 14:26:09,622 : INFO : EPOCH 1 - PROGRESS: at 92.75% examples, 355605 words/s, in_qsize 19, out_qsize 0\n",
      "2023-03-10 14:26:10,627 : INFO : EPOCH 1 - PROGRESS: at 93.87% examples, 355278 words/s, in_qsize 19, out_qsize 0\n",
      "2023-03-10 14:26:11,668 : INFO : EPOCH 1 - PROGRESS: at 95.09% examples, 355093 words/s, in_qsize 19, out_qsize 0\n",
      "2023-03-10 14:26:12,677 : INFO : EPOCH 1 - PROGRESS: at 96.29% examples, 355047 words/s, in_qsize 19, out_qsize 0\n",
      "2023-03-10 14:26:13,680 : INFO : EPOCH 1 - PROGRESS: at 97.46% examples, 354731 words/s, in_qsize 19, out_qsize 0\n",
      "2023-03-10 14:26:14,695 : INFO : EPOCH 1 - PROGRESS: at 98.69% examples, 354735 words/s, in_qsize 19, out_qsize 0\n",
      "2023-03-10 14:26:15,695 : INFO : EPOCH 1: training on 41519360 raw words (30348861 effective words) took 85.5s, 354937 effective words/s\n",
      "2023-03-10 14:26:16,741 : INFO : EPOCH 2 - PROGRESS: at 0.97% examples, 305709 words/s, in_qsize 19, out_qsize 0\n",
      "2023-03-10 14:26:17,750 : INFO : EPOCH 2 - PROGRESS: at 2.08% examples, 320537 words/s, in_qsize 19, out_qsize 0\n",
      "2023-03-10 14:26:18,754 : INFO : EPOCH 2 - PROGRESS: at 3.13% examples, 316720 words/s, in_qsize 19, out_qsize 0\n",
      "2023-03-10 14:26:19,763 : INFO : EPOCH 2 - PROGRESS: at 4.14% examples, 314396 words/s, in_qsize 19, out_qsize 0\n",
      "2023-03-10 14:26:20,774 : INFO : EPOCH 2 - PROGRESS: at 5.19% examples, 315825 words/s, in_qsize 19, out_qsize 0\n",
      "2023-03-10 14:26:21,780 : INFO : EPOCH 2 - PROGRESS: at 6.21% examples, 315480 words/s, in_qsize 19, out_qsize 0\n",
      "2023-03-10 14:26:22,781 : INFO : EPOCH 2 - PROGRESS: at 7.27% examples, 316575 words/s, in_qsize 19, out_qsize 0\n",
      "2023-03-10 14:26:23,784 : INFO : EPOCH 2 - PROGRESS: at 8.33% examples, 319058 words/s, in_qsize 19, out_qsize 0\n",
      "2023-03-10 14:26:24,795 : INFO : EPOCH 2 - PROGRESS: at 9.33% examples, 320020 words/s, in_qsize 20, out_qsize 0\n",
      "2023-03-10 14:26:25,811 : INFO : EPOCH 2 - PROGRESS: at 10.19% examples, 322651 words/s, in_qsize 19, out_qsize 0\n",
      "2023-03-10 14:26:26,827 : INFO : EPOCH 2 - PROGRESS: at 11.22% examples, 326121 words/s, in_qsize 19, out_qsize 0\n",
      "2023-03-10 14:26:27,882 : INFO : EPOCH 2 - PROGRESS: at 12.13% examples, 327358 words/s, in_qsize 19, out_qsize 0\n",
      "2023-03-10 14:26:28,908 : INFO : EPOCH 2 - PROGRESS: at 13.14% examples, 327605 words/s, in_qsize 19, out_qsize 0\n",
      "2023-03-10 14:26:29,921 : INFO : EPOCH 2 - PROGRESS: at 14.14% examples, 328504 words/s, in_qsize 19, out_qsize 0\n",
      "2023-03-10 14:26:30,948 : INFO : EPOCH 2 - PROGRESS: at 15.11% examples, 328557 words/s, in_qsize 19, out_qsize 0\n",
      "2023-03-10 14:26:31,987 : INFO : EPOCH 2 - PROGRESS: at 16.16% examples, 329372 words/s, in_qsize 19, out_qsize 0\n",
      "2023-03-10 14:26:32,996 : INFO : EPOCH 2 - PROGRESS: at 17.06% examples, 329280 words/s, in_qsize 19, out_qsize 0\n",
      "2023-03-10 14:26:34,019 : INFO : EPOCH 2 - PROGRESS: at 17.96% examples, 329378 words/s, in_qsize 18, out_qsize 1\n",
      "2023-03-10 14:26:35,051 : INFO : EPOCH 2 - PROGRESS: at 18.92% examples, 329580 words/s, in_qsize 19, out_qsize 0\n",
      "2023-03-10 14:26:36,085 : INFO : EPOCH 2 - PROGRESS: at 19.81% examples, 330415 words/s, in_qsize 19, out_qsize 0\n",
      "2023-03-10 14:26:37,099 : INFO : EPOCH 2 - PROGRESS: at 20.66% examples, 330853 words/s, in_qsize 19, out_qsize 0\n",
      "2023-03-10 14:26:38,107 : INFO : EPOCH 2 - PROGRESS: at 21.87% examples, 331247 words/s, in_qsize 19, out_qsize 0\n",
      "2023-03-10 14:26:39,107 : INFO : EPOCH 2 - PROGRESS: at 22.75% examples, 330964 words/s, in_qsize 19, out_qsize 0\n",
      "2023-03-10 14:26:40,130 : INFO : EPOCH 2 - PROGRESS: at 23.62% examples, 331539 words/s, in_qsize 19, out_qsize 0\n",
      "2023-03-10 14:26:41,130 : INFO : EPOCH 2 - PROGRESS: at 24.50% examples, 332074 words/s, in_qsize 19, out_qsize 0\n",
      "2023-03-10 14:26:42,156 : INFO : EPOCH 2 - PROGRESS: at 25.72% examples, 331993 words/s, in_qsize 19, out_qsize 0\n",
      "2023-03-10 14:26:43,185 : INFO : EPOCH 2 - PROGRESS: at 27.02% examples, 332195 words/s, in_qsize 19, out_qsize 0\n",
      "2023-03-10 14:26:44,208 : INFO : EPOCH 2 - PROGRESS: at 28.24% examples, 331674 words/s, in_qsize 19, out_qsize 0\n",
      "2023-03-10 14:26:45,254 : INFO : EPOCH 2 - PROGRESS: at 29.48% examples, 331848 words/s, in_qsize 19, out_qsize 0\n",
      "2023-03-10 14:26:46,259 : INFO : EPOCH 2 - PROGRESS: at 30.59% examples, 331342 words/s, in_qsize 19, out_qsize 0\n",
      "2023-03-10 14:26:47,275 : INFO : EPOCH 2 - PROGRESS: at 31.88% examples, 330971 words/s, in_qsize 19, out_qsize 0\n",
      "2023-03-10 14:26:48,287 : INFO : EPOCH 2 - PROGRESS: at 33.05% examples, 331289 words/s, in_qsize 19, out_qsize 0\n",
      "2023-03-10 14:26:49,290 : INFO : EPOCH 2 - PROGRESS: at 34.07% examples, 330875 words/s, in_qsize 19, out_qsize 0\n",
      "2023-03-10 14:26:50,306 : INFO : EPOCH 2 - PROGRESS: at 35.27% examples, 331191 words/s, in_qsize 19, out_qsize 0\n",
      "2023-03-10 14:26:51,346 : INFO : EPOCH 2 - PROGRESS: at 36.50% examples, 331027 words/s, in_qsize 19, out_qsize 0\n",
      "2023-03-10 14:26:52,366 : INFO : EPOCH 2 - PROGRESS: at 37.70% examples, 331444 words/s, in_qsize 19, out_qsize 0\n",
      "2023-03-10 14:26:53,376 : INFO : EPOCH 2 - PROGRESS: at 38.93% examples, 331550 words/s, in_qsize 19, out_qsize 0\n",
      "2023-03-10 14:26:54,381 : INFO : EPOCH 2 - PROGRESS: at 40.15% examples, 331707 words/s, in_qsize 19, out_qsize 0\n",
      "2023-03-10 14:26:55,393 : INFO : EPOCH 2 - PROGRESS: at 41.40% examples, 331805 words/s, in_qsize 19, out_qsize 0\n",
      "2023-03-10 14:26:56,402 : INFO : EPOCH 2 - PROGRESS: at 42.59% examples, 331860 words/s, in_qsize 19, out_qsize 0\n",
      "2023-03-10 14:26:57,404 : INFO : EPOCH 2 - PROGRESS: at 43.84% examples, 332040 words/s, in_qsize 19, out_qsize 0\n",
      "2023-03-10 14:26:58,429 : INFO : EPOCH 2 - PROGRESS: at 45.17% examples, 332321 words/s, in_qsize 19, out_qsize 0\n",
      "2023-03-10 14:26:59,442 : INFO : EPOCH 2 - PROGRESS: at 46.34% examples, 332223 words/s, in_qsize 19, out_qsize 0\n",
      "2023-03-10 14:27:00,473 : INFO : EPOCH 2 - PROGRESS: at 47.48% examples, 332269 words/s, in_qsize 19, out_qsize 0\n",
      "2023-03-10 14:27:01,480 : INFO : EPOCH 2 - PROGRESS: at 48.68% examples, 332378 words/s, in_qsize 19, out_qsize 0\n",
      "2023-03-10 14:27:02,507 : INFO : EPOCH 2 - PROGRESS: at 49.85% examples, 332308 words/s, in_qsize 19, out_qsize 0\n",
      "2023-03-10 14:27:03,512 : INFO : EPOCH 2 - PROGRESS: at 51.04% examples, 332410 words/s, in_qsize 19, out_qsize 0\n",
      "2023-03-10 14:27:04,514 : INFO : EPOCH 2 - PROGRESS: at 52.13% examples, 332324 words/s, in_qsize 19, out_qsize 0\n",
      "2023-03-10 14:27:05,537 : INFO : EPOCH 2 - PROGRESS: at 53.19% examples, 332428 words/s, in_qsize 20, out_qsize 0\n",
      "2023-03-10 14:27:06,553 : INFO : EPOCH 2 - PROGRESS: at 54.27% examples, 332045 words/s, in_qsize 19, out_qsize 0\n",
      "2023-03-10 14:27:07,591 : INFO : EPOCH 2 - PROGRESS: at 55.54% examples, 332093 words/s, in_qsize 19, out_qsize 0\n",
      "2023-03-10 14:27:08,601 : INFO : EPOCH 2 - PROGRESS: at 56.70% examples, 332045 words/s, in_qsize 19, out_qsize 0\n",
      "2023-03-10 14:27:09,650 : INFO : EPOCH 2 - PROGRESS: at 57.81% examples, 331615 words/s, in_qsize 19, out_qsize 0\n",
      "2023-03-10 14:27:10,731 : INFO : EPOCH 2 - PROGRESS: at 59.07% examples, 331658 words/s, in_qsize 20, out_qsize 0\n",
      "2023-03-10 14:27:11,735 : INFO : EPOCH 2 - PROGRESS: at 60.17% examples, 331535 words/s, in_qsize 19, out_qsize 0\n",
      "2023-03-10 14:27:12,787 : INFO : EPOCH 2 - PROGRESS: at 61.38% examples, 331522 words/s, in_qsize 19, out_qsize 0\n",
      "2023-03-10 14:27:13,833 : INFO : EPOCH 2 - PROGRESS: at 62.54% examples, 331281 words/s, in_qsize 19, out_qsize 0\n",
      "2023-03-10 14:27:14,837 : INFO : EPOCH 2 - PROGRESS: at 63.76% examples, 331153 words/s, in_qsize 20, out_qsize 1\n",
      "2023-03-10 14:27:15,848 : INFO : EPOCH 2 - PROGRESS: at 64.98% examples, 330959 words/s, in_qsize 19, out_qsize 0\n",
      "2023-03-10 14:27:16,850 : INFO : EPOCH 2 - PROGRESS: at 65.98% examples, 330954 words/s, in_qsize 19, out_qsize 0\n",
      "2023-03-10 14:27:17,870 : INFO : EPOCH 2 - PROGRESS: at 67.13% examples, 330925 words/s, in_qsize 19, out_qsize 0\n",
      "2023-03-10 14:27:18,881 : INFO : EPOCH 2 - PROGRESS: at 68.26% examples, 330877 words/s, in_qsize 20, out_qsize 1\n",
      "2023-03-10 14:27:19,891 : INFO : EPOCH 2 - PROGRESS: at 69.37% examples, 330920 words/s, in_qsize 19, out_qsize 0\n",
      "2023-03-10 14:27:21,004 : INFO : EPOCH 2 - PROGRESS: at 70.49% examples, 330692 words/s, in_qsize 18, out_qsize 1\n",
      "2023-03-10 14:27:22,008 : INFO : EPOCH 2 - PROGRESS: at 71.61% examples, 330806 words/s, in_qsize 19, out_qsize 0\n",
      "2023-03-10 14:27:23,009 : INFO : EPOCH 2 - PROGRESS: at 72.81% examples, 331034 words/s, in_qsize 19, out_qsize 0\n",
      "2023-03-10 14:27:24,012 : INFO : EPOCH 2 - PROGRESS: at 74.11% examples, 331433 words/s, in_qsize 18, out_qsize 1\n",
      "2023-03-10 14:27:25,023 : INFO : EPOCH 2 - PROGRESS: at 75.15% examples, 331374 words/s, in_qsize 19, out_qsize 0\n",
      "2023-03-10 14:27:26,028 : INFO : EPOCH 2 - PROGRESS: at 76.17% examples, 331347 words/s, in_qsize 19, out_qsize 0\n",
      "2023-03-10 14:27:27,043 : INFO : EPOCH 2 - PROGRESS: at 77.31% examples, 331676 words/s, in_qsize 19, out_qsize 0\n",
      "2023-03-10 14:27:28,068 : INFO : EPOCH 2 - PROGRESS: at 78.38% examples, 331651 words/s, in_qsize 19, out_qsize 0\n",
      "2023-03-10 14:27:29,102 : INFO : EPOCH 2 - PROGRESS: at 79.52% examples, 331685 words/s, in_qsize 19, out_qsize 0\n",
      "2023-03-10 14:27:30,108 : INFO : EPOCH 2 - PROGRESS: at 80.60% examples, 331753 words/s, in_qsize 19, out_qsize 0\n",
      "2023-03-10 14:27:31,121 : INFO : EPOCH 2 - PROGRESS: at 81.76% examples, 331969 words/s, in_qsize 19, out_qsize 0\n",
      "2023-03-10 14:27:32,127 : INFO : EPOCH 2 - PROGRESS: at 82.88% examples, 331842 words/s, in_qsize 19, out_qsize 0\n",
      "2023-03-10 14:27:33,148 : INFO : EPOCH 2 - PROGRESS: at 83.91% examples, 331564 words/s, in_qsize 19, out_qsize 0\n",
      "2023-03-10 14:27:34,156 : INFO : EPOCH 2 - PROGRESS: at 84.95% examples, 331687 words/s, in_qsize 19, out_qsize 0\n",
      "2023-03-10 14:27:35,178 : INFO : EPOCH 2 - PROGRESS: at 86.07% examples, 331584 words/s, in_qsize 20, out_qsize 0\n",
      "2023-03-10 14:27:36,187 : INFO : EPOCH 2 - PROGRESS: at 87.33% examples, 331727 words/s, in_qsize 19, out_qsize 0\n",
      "2023-03-10 14:27:37,200 : INFO : EPOCH 2 - PROGRESS: at 88.61% examples, 331854 words/s, in_qsize 19, out_qsize 0\n",
      "2023-03-10 14:27:38,240 : INFO : EPOCH 2 - PROGRESS: at 89.74% examples, 331701 words/s, in_qsize 19, out_qsize 0\n",
      "2023-03-10 14:27:39,295 : INFO : EPOCH 2 - PROGRESS: at 91.03% examples, 331835 words/s, in_qsize 19, out_qsize 0\n",
      "2023-03-10 14:27:40,300 : INFO : EPOCH 2 - PROGRESS: at 92.25% examples, 331992 words/s, in_qsize 19, out_qsize 0\n",
      "2023-03-10 14:27:41,335 : INFO : EPOCH 2 - PROGRESS: at 93.34% examples, 332018 words/s, in_qsize 19, out_qsize 0\n",
      "2023-03-10 14:27:42,352 : INFO : EPOCH 2 - PROGRESS: at 94.57% examples, 332128 words/s, in_qsize 19, out_qsize 0\n",
      "2023-03-10 14:27:43,370 : INFO : EPOCH 2 - PROGRESS: at 95.73% examples, 332066 words/s, in_qsize 19, out_qsize 0\n",
      "2023-03-10 14:27:44,385 : INFO : EPOCH 2 - PROGRESS: at 96.81% examples, 331918 words/s, in_qsize 19, out_qsize 0\n",
      "2023-03-10 14:27:45,386 : INFO : EPOCH 2 - PROGRESS: at 97.99% examples, 331974 words/s, in_qsize 19, out_qsize 0\n",
      "2023-03-10 14:27:46,402 : INFO : EPOCH 2 - PROGRESS: at 99.09% examples, 331687 words/s, in_qsize 19, out_qsize 0\n",
      "2023-03-10 14:27:47,110 : INFO : EPOCH 2: training on 41519360 raw words (30348284 effective words) took 91.4s, 331997 effective words/s\n",
      "2023-03-10 14:27:48,168 : INFO : EPOCH 3 - PROGRESS: at 0.89% examples, 281081 words/s, in_qsize 19, out_qsize 0\n",
      "2023-03-10 14:27:49,183 : INFO : EPOCH 3 - PROGRESS: at 1.98% examples, 300190 words/s, in_qsize 19, out_qsize 0\n",
      "2023-03-10 14:27:50,210 : INFO : EPOCH 3 - PROGRESS: at 3.16% examples, 314651 words/s, in_qsize 19, out_qsize 0\n",
      "2023-03-10 14:27:51,222 : INFO : EPOCH 3 - PROGRESS: at 4.25% examples, 317921 words/s, in_qsize 19, out_qsize 0\n",
      "2023-03-10 14:27:52,241 : INFO : EPOCH 3 - PROGRESS: at 5.33% examples, 320810 words/s, in_qsize 19, out_qsize 0\n",
      "2023-03-10 14:27:53,253 : INFO : EPOCH 3 - PROGRESS: at 6.38% examples, 320570 words/s, in_qsize 19, out_qsize 0\n",
      "2023-03-10 14:27:54,267 : INFO : EPOCH 3 - PROGRESS: at 7.52% examples, 324344 words/s, in_qsize 19, out_qsize 0\n",
      "2023-03-10 14:27:55,288 : INFO : EPOCH 3 - PROGRESS: at 8.53% examples, 322525 words/s, in_qsize 18, out_qsize 1\n",
      "2023-03-10 14:27:56,304 : INFO : EPOCH 3 - PROGRESS: at 9.51% examples, 324428 words/s, in_qsize 19, out_qsize 0\n",
      "2023-03-10 14:27:57,309 : INFO : EPOCH 3 - PROGRESS: at 10.38% examples, 325630 words/s, in_qsize 19, out_qsize 0\n",
      "2023-03-10 14:27:58,323 : INFO : EPOCH 3 - PROGRESS: at 11.30% examples, 325607 words/s, in_qsize 19, out_qsize 0\n",
      "2023-03-10 14:27:59,356 : INFO : EPOCH 3 - PROGRESS: at 12.08% examples, 323985 words/s, in_qsize 19, out_qsize 0\n",
      "2023-03-10 14:28:00,358 : INFO : EPOCH 3 - PROGRESS: at 13.01% examples, 323927 words/s, in_qsize 19, out_qsize 0\n",
      "2023-03-10 14:28:01,399 : INFO : EPOCH 3 - PROGRESS: at 14.05% examples, 324974 words/s, in_qsize 19, out_qsize 0\n",
      "2023-03-10 14:28:02,400 : INFO : EPOCH 3 - PROGRESS: at 14.96% examples, 324429 words/s, in_qsize 19, out_qsize 0\n",
      "2023-03-10 14:28:03,426 : INFO : EPOCH 3 - PROGRESS: at 15.99% examples, 325328 words/s, in_qsize 19, out_qsize 0\n",
      "2023-03-10 14:28:04,453 : INFO : EPOCH 3 - PROGRESS: at 16.92% examples, 325104 words/s, in_qsize 19, out_qsize 0\n",
      "2023-03-10 14:28:05,542 : INFO : EPOCH 3 - PROGRESS: at 17.87% examples, 325472 words/s, in_qsize 19, out_qsize 0\n",
      "2023-03-10 14:28:06,543 : INFO : EPOCH 3 - PROGRESS: at 18.82% examples, 326385 words/s, in_qsize 19, out_qsize 0\n",
      "2023-03-10 14:28:07,588 : INFO : EPOCH 3 - PROGRESS: at 19.65% examples, 325828 words/s, in_qsize 19, out_qsize 0\n",
      "2023-03-10 14:28:08,620 : INFO : EPOCH 3 - PROGRESS: at 20.47% examples, 324822 words/s, in_qsize 19, out_qsize 0\n",
      "2023-03-10 14:28:09,620 : INFO : EPOCH 3 - PROGRESS: at 21.63% examples, 325600 words/s, in_qsize 19, out_qsize 0\n",
      "2023-03-10 14:28:10,643 : INFO : EPOCH 3 - PROGRESS: at 22.51% examples, 325551 words/s, in_qsize 19, out_qsize 0\n",
      "2023-03-10 14:28:11,649 : INFO : EPOCH 3 - PROGRESS: at 23.36% examples, 325982 words/s, in_qsize 19, out_qsize 0\n",
      "2023-03-10 14:28:12,654 : INFO : EPOCH 3 - PROGRESS: at 24.20% examples, 326074 words/s, in_qsize 19, out_qsize 0\n",
      "2023-03-10 14:28:13,674 : INFO : EPOCH 3 - PROGRESS: at 25.27% examples, 325774 words/s, in_qsize 19, out_qsize 0\n",
      "2023-03-10 14:28:14,686 : INFO : EPOCH 3 - PROGRESS: at 26.56% examples, 326390 words/s, in_qsize 19, out_qsize 0\n",
      "2023-03-10 14:28:15,725 : INFO : EPOCH 3 - PROGRESS: at 27.79% examples, 325907 words/s, in_qsize 19, out_qsize 0\n",
      "2023-03-10 14:28:16,725 : INFO : EPOCH 3 - PROGRESS: at 28.96% examples, 326107 words/s, in_qsize 19, out_qsize 0\n",
      "2023-03-10 14:28:17,782 : INFO : EPOCH 3 - PROGRESS: at 30.14% examples, 326134 words/s, in_qsize 19, out_qsize 0\n",
      "2023-03-10 14:28:18,791 : INFO : EPOCH 3 - PROGRESS: at 31.48% examples, 326712 words/s, in_qsize 19, out_qsize 0\n",
      "2023-03-10 14:28:19,844 : INFO : EPOCH 3 - PROGRESS: at 32.64% examples, 326308 words/s, in_qsize 19, out_qsize 0\n",
      "2023-03-10 14:28:20,857 : INFO : EPOCH 3 - PROGRESS: at 33.73% examples, 326367 words/s, in_qsize 19, out_qsize 0\n",
      "2023-03-10 14:28:21,860 : INFO : EPOCH 3 - PROGRESS: at 34.90% examples, 326760 words/s, in_qsize 19, out_qsize 0\n",
      "2023-03-10 14:28:22,879 : INFO : EPOCH 3 - PROGRESS: at 36.05% examples, 326522 words/s, in_qsize 19, out_qsize 0\n",
      "2023-03-10 14:28:23,885 : INFO : EPOCH 3 - PROGRESS: at 37.18% examples, 326590 words/s, in_qsize 19, out_qsize 0\n",
      "2023-03-10 14:28:24,910 : INFO : EPOCH 3 - PROGRESS: at 38.38% examples, 326272 words/s, in_qsize 19, out_qsize 0\n",
      "2023-03-10 14:28:25,952 : INFO : EPOCH 3 - PROGRESS: at 39.55% examples, 326272 words/s, in_qsize 19, out_qsize 0\n",
      "2023-03-10 14:28:26,968 : INFO : EPOCH 3 - PROGRESS: at 40.73% examples, 326278 words/s, in_qsize 19, out_qsize 0\n",
      "2023-03-10 14:28:27,970 : INFO : EPOCH 3 - PROGRESS: at 42.02% examples, 326230 words/s, in_qsize 19, out_qsize 0\n",
      "2023-03-10 14:28:28,984 : INFO : EPOCH 3 - PROGRESS: at 43.13% examples, 326046 words/s, in_qsize 19, out_qsize 0\n",
      "2023-03-10 14:28:29,995 : INFO : EPOCH 3 - PROGRESS: at 44.38% examples, 326125 words/s, in_qsize 19, out_qsize 0\n",
      "2023-03-10 14:28:30,998 : INFO : EPOCH 3 - PROGRESS: at 45.55% examples, 325879 words/s, in_qsize 19, out_qsize 0\n",
      "2023-03-10 14:28:32,008 : INFO : EPOCH 3 - PROGRESS: at 46.69% examples, 326084 words/s, in_qsize 19, out_qsize 0\n",
      "2023-03-10 14:28:33,028 : INFO : EPOCH 3 - PROGRESS: at 47.82% examples, 326069 words/s, in_qsize 19, out_qsize 0\n",
      "2023-03-10 14:28:34,044 : INFO : EPOCH 3 - PROGRESS: at 49.04% examples, 326230 words/s, in_qsize 19, out_qsize 0\n",
      "2023-03-10 14:28:35,047 : INFO : EPOCH 3 - PROGRESS: at 50.19% examples, 326300 words/s, in_qsize 19, out_qsize 0\n",
      "2023-03-10 14:28:36,112 : INFO : EPOCH 3 - PROGRESS: at 51.38% examples, 326543 words/s, in_qsize 19, out_qsize 0\n",
      "2023-03-10 14:28:37,135 : INFO : EPOCH 3 - PROGRESS: at 52.44% examples, 326181 words/s, in_qsize 19, out_qsize 0\n",
      "2023-03-10 14:28:38,137 : INFO : EPOCH 3 - PROGRESS: at 53.44% examples, 326121 words/s, in_qsize 19, out_qsize 0\n",
      "2023-03-10 14:28:39,156 : INFO : EPOCH 3 - PROGRESS: at 54.57% examples, 326154 words/s, in_qsize 19, out_qsize 0\n",
      "2023-03-10 14:28:40,228 : INFO : EPOCH 3 - PROGRESS: at 55.82% examples, 325823 words/s, in_qsize 19, out_qsize 0\n",
      "2023-03-10 14:28:41,263 : INFO : EPOCH 3 - PROGRESS: at 57.03% examples, 326136 words/s, in_qsize 19, out_qsize 0\n",
      "2023-03-10 14:28:42,265 : INFO : EPOCH 3 - PROGRESS: at 58.18% examples, 326349 words/s, in_qsize 19, out_qsize 0\n",
      "2023-03-10 14:28:43,270 : INFO : EPOCH 3 - PROGRESS: at 59.31% examples, 326298 words/s, in_qsize 19, out_qsize 0\n",
      "2023-03-10 14:28:44,331 : INFO : EPOCH 3 - PROGRESS: at 60.48% examples, 326211 words/s, in_qsize 19, out_qsize 0\n",
      "2023-03-10 14:28:45,362 : INFO : EPOCH 3 - PROGRESS: at 61.66% examples, 326404 words/s, in_qsize 19, out_qsize 0\n",
      "2023-03-10 14:28:46,367 : INFO : EPOCH 3 - PROGRESS: at 62.83% examples, 326475 words/s, in_qsize 19, out_qsize 0\n",
      "2023-03-10 14:28:47,393 : INFO : EPOCH 3 - PROGRESS: at 64.16% examples, 326545 words/s, in_qsize 20, out_qsize 0\n",
      "2023-03-10 14:28:48,400 : INFO : EPOCH 3 - PROGRESS: at 65.33% examples, 326697 words/s, in_qsize 19, out_qsize 0\n",
      "2023-03-10 14:28:49,419 : INFO : EPOCH 3 - PROGRESS: at 66.35% examples, 326527 words/s, in_qsize 18, out_qsize 1\n",
      "2023-03-10 14:28:50,429 : INFO : EPOCH 3 - PROGRESS: at 67.48% examples, 326512 words/s, in_qsize 19, out_qsize 0\n",
      "2023-03-10 14:28:51,468 : INFO : EPOCH 3 - PROGRESS: at 68.62% examples, 326519 words/s, in_qsize 19, out_qsize 0\n",
      "2023-03-10 14:28:52,470 : INFO : EPOCH 3 - PROGRESS: at 69.63% examples, 326349 words/s, in_qsize 19, out_qsize 0\n",
      "2023-03-10 14:28:53,470 : INFO : EPOCH 3 - PROGRESS: at 70.68% examples, 326317 words/s, in_qsize 19, out_qsize 0\n",
      "2023-03-10 14:28:54,522 : INFO : EPOCH 3 - PROGRESS: at 71.75% examples, 326151 words/s, in_qsize 19, out_qsize 0\n",
      "2023-03-10 14:28:55,595 : INFO : EPOCH 3 - PROGRESS: at 72.87% examples, 325569 words/s, in_qsize 19, out_qsize 0\n",
      "2023-03-10 14:28:56,601 : INFO : EPOCH 3 - PROGRESS: at 74.07% examples, 325618 words/s, in_qsize 19, out_qsize 0\n",
      "2023-03-10 14:28:57,608 : INFO : EPOCH 3 - PROGRESS: at 75.06% examples, 325453 words/s, in_qsize 19, out_qsize 0\n",
      "2023-03-10 14:28:58,649 : INFO : EPOCH 3 - PROGRESS: at 76.13% examples, 325557 words/s, in_qsize 19, out_qsize 0\n",
      "2023-03-10 14:28:59,650 : INFO : EPOCH 3 - PROGRESS: at 77.13% examples, 325427 words/s, in_qsize 19, out_qsize 0\n",
      "2023-03-10 14:29:00,663 : INFO : EPOCH 3 - PROGRESS: at 78.12% examples, 325248 words/s, in_qsize 19, out_qsize 0\n",
      "2023-03-10 14:29:01,691 : INFO : EPOCH 3 - PROGRESS: at 79.28% examples, 325404 words/s, in_qsize 19, out_qsize 0\n",
      "2023-03-10 14:29:02,702 : INFO : EPOCH 3 - PROGRESS: at 80.29% examples, 325251 words/s, in_qsize 19, out_qsize 0\n",
      "2023-03-10 14:29:03,749 : INFO : EPOCH 3 - PROGRESS: at 81.32% examples, 325020 words/s, in_qsize 18, out_qsize 1\n",
      "2023-03-10 14:29:04,749 : INFO : EPOCH 3 - PROGRESS: at 82.38% examples, 324820 words/s, in_qsize 19, out_qsize 0\n",
      "2023-03-10 14:29:05,770 : INFO : EPOCH 3 - PROGRESS: at 83.48% examples, 324727 words/s, in_qsize 19, out_qsize 0\n",
      "2023-03-10 14:29:06,779 : INFO : EPOCH 3 - PROGRESS: at 84.49% examples, 324766 words/s, in_qsize 19, out_qsize 0\n",
      "2023-03-10 14:29:07,832 : INFO : EPOCH 3 - PROGRESS: at 85.57% examples, 324709 words/s, in_qsize 19, out_qsize 0\n",
      "2023-03-10 14:29:08,845 : INFO : EPOCH 3 - PROGRESS: at 86.78% examples, 324820 words/s, in_qsize 19, out_qsize 0\n",
      "2023-03-10 14:29:09,855 : INFO : EPOCH 3 - PROGRESS: at 87.98% examples, 324782 words/s, in_qsize 19, out_qsize 0\n",
      "2023-03-10 14:29:10,867 : INFO : EPOCH 3 - PROGRESS: at 89.21% examples, 325006 words/s, in_qsize 19, out_qsize 0\n",
      "2023-03-10 14:29:11,881 : INFO : EPOCH 3 - PROGRESS: at 90.34% examples, 324959 words/s, in_qsize 19, out_qsize 0\n",
      "2023-03-10 14:29:12,940 : INFO : EPOCH 3 - PROGRESS: at 91.48% examples, 324741 words/s, in_qsize 19, out_qsize 0\n",
      "2023-03-10 14:29:13,942 : INFO : EPOCH 3 - PROGRESS: at 92.69% examples, 325061 words/s, in_qsize 19, out_qsize 0\n",
      "2023-03-10 14:29:14,982 : INFO : EPOCH 3 - PROGRESS: at 93.80% examples, 324988 words/s, in_qsize 19, out_qsize 0\n",
      "2023-03-10 14:29:15,989 : INFO : EPOCH 3 - PROGRESS: at 94.90% examples, 324892 words/s, in_qsize 19, out_qsize 0\n",
      "2023-03-10 14:29:17,086 : INFO : EPOCH 3 - PROGRESS: at 96.06% examples, 324784 words/s, in_qsize 19, out_qsize 0\n",
      "2023-03-10 14:29:18,099 : INFO : EPOCH 3 - PROGRESS: at 97.17% examples, 324644 words/s, in_qsize 19, out_qsize 0\n",
      "2023-03-10 14:29:19,150 : INFO : EPOCH 3 - PROGRESS: at 98.41% examples, 324849 words/s, in_qsize 19, out_qsize 0\n",
      "2023-03-10 14:29:20,200 : INFO : EPOCH 3 - PROGRESS: at 99.54% examples, 324672 words/s, in_qsize 18, out_qsize 0\n",
      "2023-03-10 14:29:20,484 : INFO : EPOCH 3: training on 41519360 raw words (30349373 effective words) took 93.4s, 325042 effective words/s\n",
      "2023-03-10 14:29:21,571 : INFO : EPOCH 4 - PROGRESS: at 0.91% examples, 280622 words/s, in_qsize 19, out_qsize 0\n",
      "2023-03-10 14:29:22,573 : INFO : EPOCH 4 - PROGRESS: at 2.05% examples, 308334 words/s, in_qsize 19, out_qsize 0\n",
      "2023-03-10 14:29:23,588 : INFO : EPOCH 4 - PROGRESS: at 3.13% examples, 312063 words/s, in_qsize 19, out_qsize 0\n",
      "2023-03-10 14:29:24,650 : INFO : EPOCH 4 - PROGRESS: at 4.17% examples, 308756 words/s, in_qsize 20, out_qsize 0\n",
      "2023-03-10 14:29:25,681 : INFO : EPOCH 4 - PROGRESS: at 5.24% examples, 311393 words/s, in_qsize 19, out_qsize 0\n",
      "2023-03-10 14:29:26,691 : INFO : EPOCH 4 - PROGRESS: at 6.23% examples, 310360 words/s, in_qsize 20, out_qsize 0\n",
      "2023-03-10 14:29:27,707 : INFO : EPOCH 4 - PROGRESS: at 7.22% examples, 308649 words/s, in_qsize 19, out_qsize 0\n",
      "2023-03-10 14:29:28,714 : INFO : EPOCH 4 - PROGRESS: at 8.18% examples, 308397 words/s, in_qsize 19, out_qsize 0\n",
      "2023-03-10 14:29:29,752 : INFO : EPOCH 4 - PROGRESS: at 9.22% examples, 310294 words/s, in_qsize 20, out_qsize 0\n",
      "2023-03-10 14:29:30,780 : INFO : EPOCH 4 - PROGRESS: at 10.04% examples, 310711 words/s, in_qsize 19, out_qsize 0\n",
      "2023-03-10 14:29:31,809 : INFO : EPOCH 4 - PROGRESS: at 10.95% examples, 311762 words/s, in_qsize 20, out_qsize 0\n",
      "2023-03-10 14:29:32,821 : INFO : EPOCH 4 - PROGRESS: at 11.80% examples, 313567 words/s, in_qsize 19, out_qsize 0\n",
      "2023-03-10 14:29:33,821 : INFO : EPOCH 4 - PROGRESS: at 12.64% examples, 313207 words/s, in_qsize 19, out_qsize 0\n",
      "2023-03-10 14:29:34,824 : INFO : EPOCH 4 - PROGRESS: at 13.68% examples, 314410 words/s, in_qsize 19, out_qsize 0\n",
      "2023-03-10 14:29:35,830 : INFO : EPOCH 4 - PROGRESS: at 14.62% examples, 315330 words/s, in_qsize 19, out_qsize 0\n",
      "2023-03-10 14:29:36,874 : INFO : EPOCH 4 - PROGRESS: at 15.63% examples, 315579 words/s, in_qsize 19, out_qsize 0\n",
      "2023-03-10 14:29:37,879 : INFO : EPOCH 4 - PROGRESS: at 16.51% examples, 315956 words/s, in_qsize 19, out_qsize 0\n",
      "2023-03-10 14:29:38,885 : INFO : EPOCH 4 - PROGRESS: at 17.42% examples, 317141 words/s, in_qsize 19, out_qsize 0\n",
      "2023-03-10 14:29:39,915 : INFO : EPOCH 4 - PROGRESS: at 18.30% examples, 316943 words/s, in_qsize 19, out_qsize 0\n",
      "2023-03-10 14:29:40,948 : INFO : EPOCH 4 - PROGRESS: at 19.14% examples, 316315 words/s, in_qsize 19, out_qsize 0\n",
      "2023-03-10 14:29:41,966 : INFO : EPOCH 4 - PROGRESS: at 19.99% examples, 317015 words/s, in_qsize 19, out_qsize 0\n",
      "2023-03-10 14:29:42,969 : INFO : EPOCH 4 - PROGRESS: at 20.82% examples, 317573 words/s, in_qsize 19, out_qsize 0\n",
      "2023-03-10 14:29:43,981 : INFO : EPOCH 4 - PROGRESS: at 21.97% examples, 317547 words/s, in_qsize 19, out_qsize 0\n",
      "2023-03-10 14:29:44,995 : INFO : EPOCH 4 - PROGRESS: at 22.86% examples, 317925 words/s, in_qsize 20, out_qsize 0\n",
      "2023-03-10 14:29:46,028 : INFO : EPOCH 4 - PROGRESS: at 23.68% examples, 318033 words/s, in_qsize 19, out_qsize 0\n",
      "2023-03-10 14:29:47,058 : INFO : EPOCH 4 - PROGRESS: at 24.57% examples, 318966 words/s, in_qsize 19, out_qsize 0\n",
      "2023-03-10 14:29:48,084 : INFO : EPOCH 4 - PROGRESS: at 25.77% examples, 318842 words/s, in_qsize 19, out_qsize 0\n",
      "2023-03-10 14:29:49,111 : INFO : EPOCH 4 - PROGRESS: at 27.07% examples, 319532 words/s, in_qsize 19, out_qsize 0\n",
      "2023-03-10 14:29:50,117 : INFO : EPOCH 4 - PROGRESS: at 28.28% examples, 319644 words/s, in_qsize 19, out_qsize 0\n",
      "2023-03-10 14:29:51,125 : INFO : EPOCH 4 - PROGRESS: at 29.43% examples, 319687 words/s, in_qsize 19, out_qsize 0\n",
      "2023-03-10 14:29:52,168 : INFO : EPOCH 4 - PROGRESS: at 30.49% examples, 318954 words/s, in_qsize 19, out_qsize 0\n",
      "2023-03-10 14:29:53,185 : INFO : EPOCH 4 - PROGRESS: at 31.73% examples, 318540 words/s, in_qsize 20, out_qsize 0\n",
      "2023-03-10 14:29:54,200 : INFO : EPOCH 4 - PROGRESS: at 32.86% examples, 318560 words/s, in_qsize 19, out_qsize 0\n",
      "2023-03-10 14:29:55,223 : INFO : EPOCH 4 - PROGRESS: at 33.88% examples, 318520 words/s, in_qsize 19, out_qsize 0\n",
      "2023-03-10 14:29:56,247 : INFO : EPOCH 4 - PROGRESS: at 34.97% examples, 318104 words/s, in_qsize 19, out_qsize 0\n",
      "2023-03-10 14:29:57,261 : INFO : EPOCH 4 - PROGRESS: at 36.19% examples, 318567 words/s, in_qsize 19, out_qsize 0\n",
      "2023-03-10 14:29:58,265 : INFO : EPOCH 4 - PROGRESS: at 37.30% examples, 318678 words/s, in_qsize 19, out_qsize 0\n",
      "2023-03-10 14:29:59,282 : INFO : EPOCH 4 - PROGRESS: at 38.46% examples, 318453 words/s, in_qsize 19, out_qsize 0\n",
      "2023-03-10 14:30:00,342 : INFO : EPOCH 4 - PROGRESS: at 39.63% examples, 318493 words/s, in_qsize 19, out_qsize 0\n",
      "2023-03-10 14:30:01,370 : INFO : EPOCH 4 - PROGRESS: at 40.79% examples, 318419 words/s, in_qsize 19, out_qsize 0\n",
      "2023-03-10 14:30:02,388 : INFO : EPOCH 4 - PROGRESS: at 42.12% examples, 318754 words/s, in_qsize 19, out_qsize 0\n",
      "2023-03-10 14:30:03,395 : INFO : EPOCH 4 - PROGRESS: at 43.22% examples, 318648 words/s, in_qsize 19, out_qsize 0\n",
      "2023-03-10 14:30:04,426 : INFO : EPOCH 4 - PROGRESS: at 44.44% examples, 318583 words/s, in_qsize 19, out_qsize 0\n",
      "2023-03-10 14:30:05,443 : INFO : EPOCH 4 - PROGRESS: at 45.66% examples, 318887 words/s, in_qsize 19, out_qsize 0\n",
      "2023-03-10 14:30:06,451 : INFO : EPOCH 4 - PROGRESS: at 46.68% examples, 318480 words/s, in_qsize 19, out_qsize 0\n",
      "2023-03-10 14:30:07,483 : INFO : EPOCH 4 - PROGRESS: at 47.77% examples, 318233 words/s, in_qsize 19, out_qsize 0\n",
      "2023-03-10 14:30:08,497 : INFO : EPOCH 4 - PROGRESS: at 48.92% examples, 318262 words/s, in_qsize 19, out_qsize 0\n",
      "2023-03-10 14:30:09,541 : INFO : EPOCH 4 - PROGRESS: at 50.09% examples, 318227 words/s, in_qsize 19, out_qsize 0\n",
      "2023-03-10 14:30:10,604 : INFO : EPOCH 4 - PROGRESS: at 51.22% examples, 318235 words/s, in_qsize 19, out_qsize 0\n",
      "2023-03-10 14:30:11,637 : INFO : EPOCH 4 - PROGRESS: at 52.36% examples, 318532 words/s, in_qsize 19, out_qsize 0\n",
      "2023-03-10 14:30:12,637 : INFO : EPOCH 4 - PROGRESS: at 53.36% examples, 318625 words/s, in_qsize 19, out_qsize 0\n",
      "2023-03-10 14:30:13,647 : INFO : EPOCH 4 - PROGRESS: at 54.49% examples, 318845 words/s, in_qsize 19, out_qsize 0\n",
      "2023-03-10 14:30:14,679 : INFO : EPOCH 4 - PROGRESS: at 55.71% examples, 318767 words/s, in_qsize 19, out_qsize 2\n",
      "2023-03-10 14:30:15,681 : INFO : EPOCH 4 - PROGRESS: at 56.85% examples, 319015 words/s, in_qsize 19, out_qsize 0\n",
      "2023-03-10 14:30:16,694 : INFO : EPOCH 4 - PROGRESS: at 57.98% examples, 319169 words/s, in_qsize 19, out_qsize 0\n",
      "2023-03-10 14:30:17,720 : INFO : EPOCH 4 - PROGRESS: at 59.16% examples, 319381 words/s, in_qsize 19, out_qsize 0\n",
      "2023-03-10 14:30:18,758 : INFO : EPOCH 4 - PROGRESS: at 60.24% examples, 319170 words/s, in_qsize 19, out_qsize 0\n",
      "2023-03-10 14:30:19,819 : INFO : EPOCH 4 - PROGRESS: at 61.38% examples, 318951 words/s, in_qsize 19, out_qsize 0\n",
      "2023-03-10 14:30:20,822 : INFO : EPOCH 4 - PROGRESS: at 62.50% examples, 319038 words/s, in_qsize 19, out_qsize 0\n",
      "2023-03-10 14:30:21,824 : INFO : EPOCH 4 - PROGRESS: at 63.78% examples, 319358 words/s, in_qsize 19, out_qsize 0\n",
      "2023-03-10 14:30:22,830 : INFO : EPOCH 4 - PROGRESS: at 64.98% examples, 319276 words/s, in_qsize 19, out_qsize 0\n",
      "2023-03-10 14:30:23,842 : INFO : EPOCH 4 - PROGRESS: at 65.92% examples, 319176 words/s, in_qsize 19, out_qsize 0\n",
      "2023-03-10 14:30:24,847 : INFO : EPOCH 4 - PROGRESS: at 67.02% examples, 319181 words/s, in_qsize 19, out_qsize 0\n",
      "2023-03-10 14:30:25,897 : INFO : EPOCH 4 - PROGRESS: at 68.07% examples, 318681 words/s, in_qsize 19, out_qsize 0\n",
      "2023-03-10 14:30:26,928 : INFO : EPOCH 4 - PROGRESS: at 69.15% examples, 318607 words/s, in_qsize 19, out_qsize 0\n",
      "2023-03-10 14:30:27,937 : INFO : EPOCH 4 - PROGRESS: at 70.09% examples, 318434 words/s, in_qsize 19, out_qsize 0\n",
      "2023-03-10 14:30:28,947 : INFO : EPOCH 4 - PROGRESS: at 71.11% examples, 318377 words/s, in_qsize 19, out_qsize 0\n",
      "2023-03-10 14:30:29,958 : INFO : EPOCH 4 - PROGRESS: at 72.23% examples, 318419 words/s, in_qsize 19, out_qsize 0\n",
      "2023-03-10 14:30:30,971 : INFO : EPOCH 4 - PROGRESS: at 73.40% examples, 318322 words/s, in_qsize 19, out_qsize 0\n",
      "2023-03-10 14:30:31,985 : INFO : EPOCH 4 - PROGRESS: at 74.49% examples, 318340 words/s, in_qsize 19, out_qsize 0\n",
      "2023-03-10 14:30:32,993 : INFO : EPOCH 4 - PROGRESS: at 75.52% examples, 318403 words/s, in_qsize 19, out_qsize 0\n",
      "2023-03-10 14:30:33,996 : INFO : EPOCH 4 - PROGRESS: at 76.50% examples, 318448 words/s, in_qsize 19, out_qsize 0\n",
      "2023-03-10 14:30:34,996 : INFO : EPOCH 4 - PROGRESS: at 77.50% examples, 318429 words/s, in_qsize 19, out_qsize 0\n",
      "2023-03-10 14:30:36,018 : INFO : EPOCH 4 - PROGRESS: at 78.54% examples, 318401 words/s, in_qsize 19, out_qsize 0\n",
      "2023-03-10 14:30:37,037 : INFO : EPOCH 4 - PROGRESS: at 79.59% examples, 318302 words/s, in_qsize 19, out_qsize 0\n",
      "2023-03-10 14:30:38,048 : INFO : EPOCH 4 - PROGRESS: at 80.60% examples, 318245 words/s, in_qsize 19, out_qsize 0\n",
      "2023-03-10 14:30:39,077 : INFO : EPOCH 4 - PROGRESS: at 81.61% examples, 318017 words/s, in_qsize 20, out_qsize 0\n",
      "2023-03-10 14:30:40,082 : INFO : EPOCH 4 - PROGRESS: at 82.69% examples, 317893 words/s, in_qsize 19, out_qsize 0\n",
      "2023-03-10 14:30:41,099 : INFO : EPOCH 4 - PROGRESS: at 83.76% examples, 317989 words/s, in_qsize 19, out_qsize 0\n",
      "2023-03-10 14:30:42,159 : INFO : EPOCH 4 - PROGRESS: at 84.76% examples, 317817 words/s, in_qsize 19, out_qsize 0\n",
      "2023-03-10 14:30:43,198 : INFO : EPOCH 4 - PROGRESS: at 85.81% examples, 317649 words/s, in_qsize 19, out_qsize 0\n",
      "2023-03-10 14:30:44,213 : INFO : EPOCH 4 - PROGRESS: at 87.03% examples, 317853 words/s, in_qsize 19, out_qsize 0\n",
      "2023-03-10 14:30:45,242 : INFO : EPOCH 4 - PROGRESS: at 88.07% examples, 317397 words/s, in_qsize 19, out_qsize 0\n",
      "2023-03-10 14:30:46,249 : INFO : EPOCH 4 - PROGRESS: at 89.23% examples, 317471 words/s, in_qsize 19, out_qsize 0\n",
      "2023-03-10 14:30:47,263 : INFO : EPOCH 4 - PROGRESS: at 90.31% examples, 317339 words/s, in_qsize 20, out_qsize 0\n",
      "2023-03-10 14:30:48,265 : INFO : EPOCH 4 - PROGRESS: at 91.43% examples, 317342 words/s, in_qsize 19, out_qsize 0\n",
      "2023-03-10 14:30:49,285 : INFO : EPOCH 4 - PROGRESS: at 92.53% examples, 317276 words/s, in_qsize 19, out_qsize 0\n",
      "2023-03-10 14:30:50,296 : INFO : EPOCH 4 - PROGRESS: at 93.59% examples, 317319 words/s, in_qsize 19, out_qsize 0\n",
      "2023-03-10 14:30:51,308 : INFO : EPOCH 4 - PROGRESS: at 94.70% examples, 317366 words/s, in_qsize 19, out_qsize 0\n",
      "2023-03-10 14:30:52,340 : INFO : EPOCH 4 - PROGRESS: at 95.84% examples, 317344 words/s, in_qsize 19, out_qsize 0\n",
      "2023-03-10 14:30:53,354 : INFO : EPOCH 4 - PROGRESS: at 96.89% examples, 317208 words/s, in_qsize 19, out_qsize 0\n",
      "2023-03-10 14:30:54,367 : INFO : EPOCH 4 - PROGRESS: at 97.99% examples, 317150 words/s, in_qsize 19, out_qsize 0\n",
      "2023-03-10 14:30:55,370 : INFO : EPOCH 4 - PROGRESS: at 99.13% examples, 317229 words/s, in_qsize 19, out_qsize 0\n",
      "2023-03-10 14:30:56,110 : INFO : EPOCH 4: training on 41519360 raw words (30348115 effective words) took 95.6s, 317374 effective words/s\n",
      "2023-03-10 14:30:56,111 : INFO : Word2Vec lifecycle event {'msg': 'training on 207596800 raw words (151740907 effective words) took 444.1s, 341698 effective words/s', 'datetime': '2023-03-10T14:30:56.111550', 'gensim': '4.3.1', 'python': '3.11.1 (main, Jan  6 2023, 00:00:00) [GCC 12.2.1 20221121 (Red Hat 12.2.1-4)]', 'platform': 'Linux-6.1.7-200.fc37.x86_64-x86_64-with-glibc2.36', 'event': 'train'}\n",
      "2023-03-10 14:30:56,112 : INFO : Word2Vec lifecycle event {'params': 'Word2Vec<vocab=70537, vector_size=150, alpha=0.025>', 'datetime': '2023-03-10T14:30:56.112014', 'gensim': '4.3.1', 'python': '3.11.1 (main, Jan  6 2023, 00:00:00) [GCC 12.2.1 20221121 (Red Hat 12.2.1-4)]', 'platform': 'Linux-6.1.7-200.fc37.x86_64-x86_64-with-glibc2.36', 'event': 'created'}\n"
     ]
    },
    {
     "name": "stdout",
     "output_type": "stream",
     "text": [
      "Training time: 0:07:30.408562\n"
     ]
    }
   ],
   "source": [
    "from datetime import datetime\n",
    "\n",
    "start_time = datetime.now()\n",
    "\n",
    "model = gensim.models.Word2Vec(documents, vector_size=150, window=10, min_count=2, workers=10, sg=1)\n",
    "\n",
    "print(\"Training time:\", datetime.now() - start_time)"
   ]
  },
  {
   "attachments": {},
   "cell_type": "markdown",
   "metadata": {},
   "source": [
    "#### Exploiting the Word2Vec model\n",
    "\n",
    "We can now inspect the word embeddings that we have trained. We can start by looking at the embeddings of a specific word:\n"
   ]
  },
  {
   "cell_type": "code",
   "execution_count": 6,
   "metadata": {},
   "outputs": [
    {
     "data": {
      "text/plain": [
       "array([-0.20184788,  0.25120226, -0.01529168,  0.36781543,  0.14268288,\n",
       "        0.33395934, -0.04949635,  0.4815595 , -0.09664721,  0.00324589,\n",
       "        0.10913753, -0.10606647,  0.08482643,  0.288222  , -0.4448128 ,\n",
       "       -0.56847024,  0.526851  , -0.06300295, -0.19028804, -0.05129881,\n",
       "       -0.13383302,  0.16894041,  0.3628738 ,  0.12603788,  0.15498677,\n",
       "       -0.09522967, -0.07824305, -0.04589029, -0.26133838,  0.30791888,\n",
       "        0.20085514,  0.22753012,  0.40983334, -0.28360444, -0.05802141,\n",
       "        0.3405921 , -0.16444096, -0.3101441 , -0.09233443,  0.19067836,\n",
       "        0.00097352, -0.13920544, -0.12866285, -0.32589126, -0.13211244,\n",
       "        0.09867942,  0.15117538, -0.3834669 ,  0.07683519,  0.03938243,\n",
       "       -0.50341046, -0.04408384, -0.39747286, -0.06748053, -0.03853539,\n",
       "       -0.02081314, -0.02744504, -0.03185761, -0.03538768, -0.36856836,\n",
       "        0.19033217, -0.38696548,  0.14898682, -0.04553797, -0.14103742,\n",
       "       -0.26053864, -0.28710392,  0.14312027, -0.36077684, -0.4093555 ,\n",
       "        0.02678579,  0.07371852, -0.1797223 , -0.12406431,  0.06841225,\n",
       "       -0.09553845,  0.12617609, -0.1705313 ,  0.28630733,  0.15275478,\n",
       "        0.1320124 , -0.3432558 , -0.30187756,  0.34104323, -0.03198518,\n",
       "        0.02399873, -0.30118802,  0.23993883,  0.30360013,  0.17121978,\n",
       "        0.13294905,  0.0288393 , -0.17660265,  0.21808402, -0.0706455 ,\n",
       "       -0.09641287, -0.2550635 , -0.1434567 , -0.00913855, -0.11057832,\n",
       "        0.38142738, -0.1138639 ,  0.5558741 ,  0.06566185, -0.33022532,\n",
       "        0.0066427 ,  0.09034281,  0.18114828, -0.14136057, -0.21046112,\n",
       "        0.1599913 ,  0.17465603,  0.4548286 , -0.27303204, -0.47840133,\n",
       "       -0.10497095, -0.13343073,  0.44270253,  0.30353573,  0.10492313,\n",
       "       -0.12982376,  0.31107098,  0.13519819, -0.10640246,  0.20668021,\n",
       "        0.6692111 ,  0.1671923 , -0.1607779 , -0.1492803 ,  0.11852455,\n",
       "        0.29882634,  0.117376  ,  0.07147318,  0.22091669, -0.10562922,\n",
       "        0.20331207, -0.13259166, -0.21597758, -0.00742383, -0.05524682,\n",
       "        0.4116806 , -0.1722072 , -0.13131763,  0.24511199, -0.22746852,\n",
       "        0.36746246, -0.34817055, -0.19817197, -0.15190217,  0.20323722],\n",
       "      dtype=float32)"
      ]
     },
     "execution_count": 6,
     "metadata": {},
     "output_type": "execute_result"
    }
   ],
   "source": [
    "# embeddings\n",
    "model.wv.get_vector(\"dirty\")\n"
   ]
  },
  {
   "attachments": {},
   "cell_type": "markdown",
   "metadata": {},
   "source": [
    "Which are the words most similar to this one?\n"
   ]
  },
  {
   "cell_type": "code",
   "execution_count": 7,
   "metadata": {},
   "outputs": [
    {
     "data": {
      "text/plain": [
       "[('filthy', 0.8893615007400513),\n",
       " ('smelly', 0.8409104347229004),\n",
       " ('unclean', 0.8371400833129883),\n",
       " ('dingy', 0.8189204335212708),\n",
       " ('dusty', 0.8083894848823547),\n",
       " ('stained', 0.8047509789466858),\n",
       " ('grubby', 0.7958072423934937),\n",
       " ('disgusting', 0.7953853607177734),\n",
       " ('moldy', 0.7840263247489929),\n",
       " ('grimy', 0.7801765203475952)]"
      ]
     },
     "execution_count": 7,
     "metadata": {},
     "output_type": "execute_result"
    }
   ],
   "source": [
    "# similarity\n",
    "w1 = \"dirty\"\n",
    "model.wv.most_similar(positive=w1)\n"
   ]
  },
  {
   "attachments": {},
   "cell_type": "markdown",
   "metadata": {},
   "source": [
    "You can also limit to a smaller number of hits:\n"
   ]
  },
  {
   "cell_type": "code",
   "execution_count": 8,
   "metadata": {},
   "outputs": [
    {
     "data": {
      "text/plain": [
       "[('courteous', 0.9132347106933594),\n",
       " ('professional', 0.852506697177887),\n",
       " ('attentive', 0.8297198414802551),\n",
       " ('efficient', 0.819435715675354),\n",
       " ('curtious', 0.813020646572113),\n",
       " ('approachable', 0.7948794960975647)]"
      ]
     },
     "execution_count": 8,
     "metadata": {},
     "output_type": "execute_result"
    }
   ],
   "source": [
    "# look up top 6 words similar to 'polite'\n",
    "w1 = [\"polite\"]\n",
    "model.wv.most_similar(positive=w1, topn=6)\n"
   ]
  },
  {
   "cell_type": "code",
   "execution_count": 9,
   "metadata": {},
   "outputs": [
    {
     "data": {
      "text/plain": [
       "[('germany', 0.7032843828201294),\n",
       " ('spain', 0.6831615567207336),\n",
       " ('england', 0.6778567433357239),\n",
       " ('cdg', 0.6501384973526001),\n",
       " ('greece', 0.6442477703094482),\n",
       " ('paris', 0.640069842338562)]"
      ]
     },
     "execution_count": 9,
     "metadata": {},
     "output_type": "execute_result"
    }
   ],
   "source": [
    "# look up top 6 words similar to 'france'\n",
    "w1 = [\"france\"]\n",
    "model.wv.most_similar(positive=w1, topn=6)\n"
   ]
  },
  {
   "attachments": {},
   "cell_type": "markdown",
   "metadata": {},
   "source": [
    "We can also provide to _most_similar_ not only positive concepts, but also negative ones. This allows us to do some arithmetic on the vector representations for certain sets of words!\n",
    "\n",
    "The famous example **king - man + woman = queen** goes as follows:\n"
   ]
  },
  {
   "cell_type": "code",
   "execution_count": 10,
   "metadata": {},
   "outputs": [
    {
     "data": {
      "text/plain": [
       "[('queen', 0.744299590587616)]"
      ]
     },
     "execution_count": 10,
     "metadata": {},
     "output_type": "execute_result"
    }
   ],
   "source": [
    "# arithmetic: vec(“king”) - vec(“man”) + vec(“woman”) =~ vec(“queen”)\n",
    "w1 = [\"king\", \"woman\"]\n",
    "w2 = [\"man\"]\n",
    "model.wv.most_similar(positive=w1, negative=w2, topn=1)"
   ]
  },
  {
   "attachments": {},
   "cell_type": "markdown",
   "metadata": {},
   "source": [
    "We can get the similarity scores for specific word pairs.\n"
   ]
  },
  {
   "cell_type": "code",
   "execution_count": 11,
   "metadata": {},
   "outputs": [
    {
     "data": {
      "text/plain": [
       "0.84091043"
      ]
     },
     "execution_count": 11,
     "metadata": {},
     "output_type": "execute_result"
    }
   ],
   "source": [
    "# similarity between two different words\n",
    "model.wv.similarity(w1=\"dirty\", w2=\"smelly\")\n"
   ]
  },
  {
   "cell_type": "code",
   "execution_count": 12,
   "metadata": {},
   "outputs": [
    {
     "data": {
      "text/plain": [
       "1.0"
      ]
     },
     "execution_count": 12,
     "metadata": {},
     "output_type": "execute_result"
    }
   ],
   "source": [
    "# similarity between two identical words\n",
    "model.wv.similarity(w1=\"dirty\", w2=\"dirty\")\n"
   ]
  },
  {
   "cell_type": "code",
   "execution_count": 13,
   "metadata": {},
   "outputs": [
    {
     "data": {
      "text/plain": [
       "0.34343308"
      ]
     },
     "execution_count": 13,
     "metadata": {},
     "output_type": "execute_result"
    }
   ],
   "source": [
    "# similarity between two unrelated words\n",
    "model.wv.similarity(w1=\"dirty\", w2=\"clean\")\n"
   ]
  },
  {
   "attachments": {},
   "cell_type": "markdown",
   "metadata": {},
   "source": [
    "And we can check which word in a list of words is an intruder:\n"
   ]
  },
  {
   "cell_type": "code",
   "execution_count": 14,
   "metadata": {},
   "outputs": [
    {
     "data": {
      "text/plain": [
       "'france'"
      ]
     },
     "execution_count": 14,
     "metadata": {},
     "output_type": "execute_result"
    }
   ],
   "source": [
    "model.wv.doesnt_match([\"cat\", \"dog\", \"france\"])\n"
   ]
  },
  {
   "cell_type": "code",
   "execution_count": 15,
   "metadata": {},
   "outputs": [
    {
     "data": {
      "text/plain": [
       "'shower'"
      ]
     },
     "execution_count": 15,
     "metadata": {},
     "output_type": "execute_result"
    }
   ],
   "source": [
    "model.wv.doesnt_match([\"bed\", \"pillow\", \"duvet\", \"shower\"])\n"
   ]
  },
  {
   "cell_type": "code",
   "execution_count": 16,
   "metadata": {},
   "outputs": [
    {
     "data": {
      "text/plain": [
       "'plane'"
      ]
     },
     "execution_count": 16,
     "metadata": {},
     "output_type": "execute_result"
    }
   ],
   "source": [
    "model.wv.doesnt_match([\"car\", \"bicycle\", \"plane\", \"skate\"])\n"
   ]
  },
  {
   "cell_type": "code",
   "execution_count": 17,
   "metadata": {},
   "outputs": [
    {
     "data": {
      "text/plain": [
       "'bicycle'"
      ]
     },
     "execution_count": 17,
     "metadata": {},
     "output_type": "execute_result"
    }
   ],
   "source": [
    "model.wv.doesnt_match([\"car\", \"bicycle\", \"bus\", \"trolley\"])\n"
   ]
  },
  {
   "attachments": {},
   "cell_type": "markdown",
   "metadata": {},
   "source": [
    "Make your own experiments! Try to find out:\n",
    "\n",
    "- Which word is most similar to _lift_?\n",
    "- What are the 3 words most similar to _crab_?\n",
    "- How similar are the words _waitress_ and _waiter_?\n",
    "- If you take _portugal_, remove _lisbon_, and add _dublin_, what do you get?\n"
   ]
  },
  {
   "cell_type": "code",
   "execution_count": 18,
   "metadata": {},
   "outputs": [
    {
     "name": "stdout",
     "output_type": "stream",
     "text": [
      "Word most similar to 'lift': [('lifts', 0.8247647285461426)]\n",
      "Top 3 words most similar to 'crab': [('lobster', 0.7811588644981384), ('shrimp', 0.7713722586631775), ('chowder', 0.7569765448570251)]\n",
      "The words 'waitress' and 'waiter' are 0.8841691613197327 similar\n",
      "Removing 'lisbon' from 'portugal' and adding 'dublin' results in [('ireland', 0.6179558038711548)]\n"
     ]
    }
   ],
   "source": [
    "# your code here\n",
    "print(f\"Word most similar to 'lift': {model.wv.most_similar(positive=['lift'], topn=1)}\")\n",
    "print(f\"Top 3 words most similar to 'crab': {model.wv.most_similar(positive=['crab'], topn=3)}\")\n",
    "print(f\"The words 'waitress' and 'waiter' are {model.wv.similarity(w1='waitress', w2='waiter')} similar\")\n",
    "print(f\"Removing 'lisbon' from 'portugal' and adding 'dublin' results in {model.wv.most_similar(positive=['portugal', 'dublin'], negative=['lisbon'], topn=1)}\")\n"
   ]
  },
  {
   "attachments": {},
   "cell_type": "markdown",
   "metadata": {},
   "source": [
    "#### Saving and loading a Word2Vec model\n",
    "\n",
    "You can save a trained model so that you are able to load it again in the future, and optionally continue training it.\n"
   ]
  },
  {
   "cell_type": "code",
   "execution_count": 19,
   "metadata": {},
   "outputs": [],
   "source": [
    "model_path = \"../reviews/reviews_model\""
   ]
  },
  {
   "cell_type": "code",
   "execution_count": 20,
   "metadata": {},
   "outputs": [
    {
     "name": "stderr",
     "output_type": "stream",
     "text": [
      "2023-03-10 14:30:57,254 : INFO : Word2Vec lifecycle event {'fname_or_handle': '../reviews/reviews_model/reviews_model', 'separately': 'None', 'sep_limit': 10485760, 'ignore': frozenset(), 'datetime': '2023-03-10T14:30:57.254457', 'gensim': '4.3.1', 'python': '3.11.1 (main, Jan  6 2023, 00:00:00) [GCC 12.2.1 20221121 (Red Hat 12.2.1-4)]', 'platform': 'Linux-6.1.7-200.fc37.x86_64-x86_64-with-glibc2.36', 'event': 'saving'}\n",
      "2023-03-10 14:30:57,255 : INFO : storing np array 'vectors' to ../reviews/reviews_model/reviews_model.wv.vectors.npy\n",
      "2023-03-10 14:30:57,290 : INFO : storing np array 'syn1neg' to ../reviews/reviews_model/reviews_model.syn1neg.npy\n",
      "2023-03-10 14:30:57,320 : INFO : not storing attribute cum_table\n",
      "2023-03-10 14:30:57,375 : INFO : saved ../reviews/reviews_model/reviews_model\n"
     ]
    }
   ],
   "source": [
    "# save full model (including trainable vectors to resume training)\n",
    "model.save(f\"{model_path}/reviews_model\")\n"
   ]
  },
  {
   "cell_type": "code",
   "execution_count": 21,
   "metadata": {},
   "outputs": [
    {
     "name": "stderr",
     "output_type": "stream",
     "text": [
      "2023-03-10 14:30:57,409 : INFO : loading Word2Vec object from ../reviews/reviews_model/reviews_model\n",
      "2023-03-10 14:30:57,439 : INFO : loading wv recursively from ../reviews/reviews_model/reviews_model.wv.* with mmap=None\n",
      "2023-03-10 14:30:57,440 : INFO : loading vectors from ../reviews/reviews_model/reviews_model.wv.vectors.npy with mmap=None\n",
      "2023-03-10 14:30:57,449 : INFO : loading syn1neg from ../reviews/reviews_model/reviews_model.syn1neg.npy with mmap=None\n",
      "2023-03-10 14:30:57,463 : INFO : setting ignored attribute cum_table to None\n",
      "2023-03-10 14:30:58,007 : INFO : Word2Vec lifecycle event {'fname': '../reviews/reviews_model/reviews_model', 'datetime': '2023-03-10T14:30:58.007568', 'gensim': '4.3.1', 'python': '3.11.1 (main, Jan  6 2023, 00:00:00) [GCC 12.2.1 20221121 (Red Hat 12.2.1-4)]', 'platform': 'Linux-6.1.7-200.fc37.x86_64-x86_64-with-glibc2.36', 'event': 'loaded'}\n"
     ]
    }
   ],
   "source": [
    "# load full model\n",
    "model = gensim.models.Word2Vec.load(f\"{model_path}/reviews_model\")\n"
   ]
  },
  {
   "attachments": {},
   "cell_type": "markdown",
   "metadata": {},
   "source": [
    "#### Saving and loading the word embeddings\n",
    "\n",
    "If you're sure you won't be training the model any longer, you can save its _KeyedVectors_ (the word embeddings).\n"
   ]
  },
  {
   "cell_type": "code",
   "execution_count": 22,
   "metadata": {},
   "outputs": [],
   "source": [
    "model_wv_path = \"../reviews/reviews_model\""
   ]
  },
  {
   "cell_type": "code",
   "execution_count": 23,
   "metadata": {},
   "outputs": [
    {
     "name": "stderr",
     "output_type": "stream",
     "text": [
      "2023-03-10 14:30:58,071 : INFO : KeyedVectors lifecycle event {'fname_or_handle': '../reviews/reviews_model/reviews_wv', 'separately': 'None', 'sep_limit': 10485760, 'ignore': frozenset(), 'datetime': '2023-03-10T14:30:58.071236', 'gensim': '4.3.1', 'python': '3.11.1 (main, Jan  6 2023, 00:00:00) [GCC 12.2.1 20221121 (Red Hat 12.2.1-4)]', 'platform': 'Linux-6.1.7-200.fc37.x86_64-x86_64-with-glibc2.36', 'event': 'saving'}\n",
      "2023-03-10 14:30:58,072 : INFO : storing np array 'vectors' to ../reviews/reviews_model/reviews_wv.vectors.npy\n",
      "2023-03-10 14:30:58,110 : INFO : saved ../reviews/reviews_model/reviews_wv\n"
     ]
    }
   ],
   "source": [
    "# save model word vectors\n",
    "model.wv.save(f\"{model_wv_path}/reviews_wv\")\n"
   ]
  },
  {
   "attachments": {},
   "cell_type": "markdown",
   "metadata": {},
   "source": [
    "After saving the embeddings, you can load them and use them.\n"
   ]
  },
  {
   "cell_type": "code",
   "execution_count": 24,
   "metadata": {},
   "outputs": [
    {
     "name": "stderr",
     "output_type": "stream",
     "text": [
      "2023-03-10 14:30:58,134 : INFO : loading KeyedVectors object from ../reviews/reviews_model/reviews_wv\n",
      "2023-03-10 14:30:58,157 : INFO : loading vectors from ../reviews/reviews_model/reviews_wv.vectors.npy with mmap=None\n",
      "2023-03-10 14:30:58,166 : INFO : KeyedVectors lifecycle event {'fname': '../reviews/reviews_model/reviews_wv', 'datetime': '2023-03-10T14:30:58.166843', 'gensim': '4.3.1', 'python': '3.11.1 (main, Jan  6 2023, 00:00:00) [GCC 12.2.1 20221121 (Red Hat 12.2.1-4)]', 'platform': 'Linux-6.1.7-200.fc37.x86_64-x86_64-with-glibc2.36', 'event': 'loaded'}\n"
     ]
    },
    {
     "name": "stdout",
     "output_type": "stream",
     "text": [
      "[('lifts', 0.8247647285461426)]\n"
     ]
    }
   ],
   "source": [
    "# load model word vectors\n",
    "wv = gensim.models.KeyedVectors.load(f\"{model_wv_path}/reviews_wv\")\n",
    "\n",
    "print(wv.most_similar(positive=\"lift\", topn=1))\n"
   ]
  },
  {
   "attachments": {},
   "cell_type": "markdown",
   "metadata": {},
   "source": [
    "## Visualization\n",
    "\n",
    "Word embeddings can be visualized by reducing dimensionality of the words to 2 dimensions using [tSNE](https://scikit-learn.org/stable/modules/generated/sklearn.manifold.TSNE.html).\n",
    "\n",
    "Given enough training data, we can observe certain patterns in the vector space, including:\n",
    "\n",
    "- Semantic relations: words like _cat_, _dog_, _cow_, etc. have a tendency to lie close by.\n",
    "- Syntactic relations: words like _run_, _running_ or _cut_, _cutting_ lie close together.\n",
    "- Arithmetic properties such as _King - Man = Queen - Woman_.\n"
   ]
  },
  {
   "cell_type": "code",
   "execution_count": 25,
   "metadata": {},
   "outputs": [],
   "source": [
    "from sklearn.manifold import TSNE\n",
    "import numpy as np\n",
    "import matplotlib.pyplot as plt\n",
    "import random\n",
    "\n",
    "\n",
    "def reduce_dimensions(model, num_dimensions=2, words=[], perplexity=2):\n",
    "\n",
    "    vectors = []  # positions in vector space\n",
    "    labels = []  # keep track of words to label our data again later\n",
    "    word_count = 0\n",
    "\n",
    "    # if no word list is given, assume we want to use the whole data in the model\n",
    "    if words == []:\n",
    "        words = model.wv.index_to_key\n",
    "\n",
    "    for word in words:\n",
    "        vectors.append(model.wv[word])\n",
    "        labels.append(word)\n",
    "\n",
    "    # convert both lists into numpy vectors for reduction\n",
    "    vectors = np.asarray(vectors)\n",
    "    labels = np.asarray(labels)\n",
    "\n",
    "    # reduce using t-SNE\n",
    "    tsne = TSNE(n_components=num_dimensions, random_state=0, perplexity=perplexity)\n",
    "    vectors = tsne.fit_transform(vectors)\n",
    "\n",
    "    return vectors, labels\n",
    "\n",
    "\n",
    "# 2 dimension plotting\n",
    "def plot_with_matplotlib(x_vals, y_vals, labels, words=[]):\n",
    "\n",
    "    random.seed(0)\n",
    "\n",
    "    x_vals_new = np.array([])\n",
    "    y_vals_new = np.array([])\n",
    "    labels_new = np.array([])\n",
    "    if words == []:\n",
    "        # if no word list is given, assume we want to plot the whole data\n",
    "        x_vals_new = x_vals\n",
    "        y_vals_new = y_vals\n",
    "        labels_new = labels\n",
    "    else:\n",
    "        for i in range(len(labels)):\n",
    "            if labels[i] in words:\n",
    "                x_vals_new = np.append(x_vals_new, x_vals[i])\n",
    "                y_vals_new = np.append(y_vals_new, y_vals[i])\n",
    "                labels_new = np.append(labels_new, labels[i])\n",
    "\n",
    "    plt.figure(figsize=(12, 12))\n",
    "    plt.scatter(x_vals_new, y_vals_new)\n",
    "\n",
    "    # apply labels\n",
    "    for i in range(len(labels_new)):\n",
    "        plt.annotate(labels_new[i], (x_vals_new[i], y_vals_new[i]))\n",
    "\n",
    "    plt.show()"
   ]
  },
  {
   "cell_type": "code",
   "execution_count": 26,
   "metadata": {},
   "outputs": [
    {
     "name": "stdout",
     "output_type": "stream",
     "text": [
      "[760.1511, -1364.5332, -958.3916, 1575.2256] [4346.375, 438.79013, -4284.9053, -469.4513] ['king' 'man' 'queen' 'woman']\n"
     ]
    },
    {
     "name": "stderr",
     "output_type": "stream",
     "text": [
      "/home/margarida/.local/lib/python3.11/site-packages/sklearn/manifold/_t_sne.py:800: FutureWarning: The default initialization in TSNE will change from 'random' to 'pca' in 1.2.\n",
      "  warnings.warn(\n",
      "/home/margarida/.local/lib/python3.11/site-packages/sklearn/manifold/_t_sne.py:810: FutureWarning: The default learning rate in TSNE will change from 200.0 to 'auto' in 1.2.\n",
      "  warnings.warn(\n"
     ]
    }
   ],
   "source": [
    "words = []\n",
    "words.extend([\"king\", \"man\", \"queen\", \"woman\"])\n",
    "\n",
    "vectors, labels = reduce_dimensions(model, 2, words)\n",
    "x_vals = [v[0] for v in vectors]\n",
    "y_vals = [v[1] for v in vectors]\n",
    "print(x_vals, y_vals, labels)\n"
   ]
  },
  {
   "cell_type": "code",
   "execution_count": 27,
   "metadata": {},
   "outputs": [
    {
     "data": {
      "image/png": "[encoded data removed]",
      "text/plain": [
       "<Figure size 1200x1200 with 1 Axes>"
      ]
     },
     "metadata": {},
     "output_type": "display_data"
    }
   ],
   "source": [
    "plot_with_matplotlib(x_vals, y_vals, labels, [\"king\", \"man\", \"queen\", \"woman\"])\n"
   ]
  },
  {
   "attachments": {},
   "cell_type": "markdown",
   "metadata": {},
   "source": [
    "## Portuguese embeddings\n",
    "\n",
    "A number of embeddings for Portuguese are available at [NILC](http://nilc.icmc.usp.br/embeddings), as well as at the [NLX-group](https://github.com/nlx-group/LX-DSemVectors).\n"
   ]
  },
  {
   "cell_type": "code",
   "execution_count": 4,
   "metadata": {},
   "outputs": [],
   "source": [
    "import gensim\n",
    "from gensim.models import KeyedVectors\n",
    "\n",
    "# takes a while to load...\n",
    "model_pt = KeyedVectors.load_word2vec_format(\"../reviews/reviews_wv/skip_s100.txt\")"
   ]
  },
  {
   "cell_type": "code",
   "execution_count": 5,
   "metadata": {},
   "outputs": [],
   "source": [
    "# save model word vectors\n",
    "model_pt.save(\"../reviews/reviews_wv/reviews_pt_wv\")\n"
   ]
  },
  {
   "cell_type": "code",
   "execution_count": 6,
   "metadata": {},
   "outputs": [],
   "source": [
    "# load model word vectors (much faster than the above)\n",
    "model_pt = gensim.models.KeyedVectors.load(\"../reviews/reviews_wv/reviews_pt_wv\")\n"
   ]
  },
  {
   "cell_type": "code",
   "execution_count": 7,
   "metadata": {},
   "outputs": [
    {
     "data": {
      "text/plain": [
       "[('cachorro', 0.854576826095581),\n",
       " ('gato', 0.8402905464172363),\n",
       " ('monstro', 0.8336718082427979),\n",
       " ('pássaro', 0.8299859166145325),\n",
       " ('ogro', 0.8261020183563232),\n",
       " ('gorila', 0.8195290565490723),\n",
       " ('furão', 0.813050389289856),\n",
       " ('cãozinho', 0.8127979040145874),\n",
       " ('felino', 0.8087738752365112),\n",
       " ('filhote', 0.8069430589675903)]"
      ]
     },
     "execution_count": 7,
     "metadata": {},
     "output_type": "execute_result"
    }
   ],
   "source": [
    "model_pt.most_similar(positive=[\"cão\"])\n"
   ]
  },
  {
   "cell_type": "code",
   "execution_count": 8,
   "metadata": {},
   "outputs": [
    {
     "data": {
      "text/plain": [
       "[('rainha-consorte', 0.7912214994430542),\n",
       " ('primogénita', 0.7738461494445801),\n",
       " ('imperatriz-mãe', 0.7646884322166443),\n",
       " ('paleóloga', 0.752788245677948),\n",
       " ('dama-de-companhia', 0.7478024363517761),\n",
       " ('consorte', 0.7475904226303101),\n",
       " ('princesa-eleitora', 0.7472771406173706),\n",
       " ('piroska', 0.7468665838241577),\n",
       " ('ulrica', 0.7454056143760681),\n",
       " ('ranavalona', 0.7441918253898621)]"
      ]
     },
     "execution_count": 8,
     "metadata": {},
     "output_type": "execute_result"
    }
   ],
   "source": [
    "model_pt.most_similar(positive=[\"rei\", \"mulher\"], negative=[\"homem\"])\n"
   ]
  }
 ],
 "metadata": {
  "kernelspec": {
   "display_name": "Python 3",
   "language": "python",
   "name": "python3"
  },
  "language_info": {
   "codemirror_mode": {
    "name": "ipython",
    "version": 3
   },
   "file_extension": ".py",
   "mimetype": "text/x-python",
   "name": "python",
   "nbconvert_exporter": "python",
   "pygments_lexer": "ipython3",
   "version": "3.11.1"
  }
 },
 "nbformat": 4,
 "nbformat_minor": 2
}
