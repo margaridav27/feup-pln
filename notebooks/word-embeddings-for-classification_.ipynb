{
 "cells": [
  {
   "attachments": {},
   "cell_type": "markdown",
   "metadata": {},
   "source": [
    "Notebook prepared by Henrique Lopes Cardoso (hlc@fe.up.pt).\n",
    "\n",
    "# WORD EMBEDDINGS FOR CLASSIFICATION\n"
   ]
  },
  {
   "attachments": {},
   "cell_type": "markdown",
   "metadata": {},
   "source": [
    "## Pretrained word embeddings\n",
    "\n",
    "We can make use of pretrained word embeddings to represent our input text in a classification problem. Let's try it out with the embeddings we've trained in the word embeddings notebook, which have the advantage of having been trained on data that is similar to our classification task's data (reviews). You could try other embeddings (such as those available in [Gensim](https://radimrehurek.com/gensim/auto_examples/howtos/run_downloader_api.html)).\n"
   ]
  },
  {
   "cell_type": "code",
   "execution_count": 1,
   "metadata": {},
   "outputs": [],
   "source": [
    "import gensim\n",
    "\n",
    "wv = gensim.models.KeyedVectors.load(\"../reviews/reviews_wv/reviews_wv\")"
   ]
  },
  {
   "attachments": {},
   "cell_type": "markdown",
   "metadata": {},
   "source": [
    "Let's load data for our classification task.\n"
   ]
  },
  {
   "cell_type": "code",
   "execution_count": 2,
   "metadata": {},
   "outputs": [
    {
     "data": {
      "text/html": [
       "<div>\n",
       "<style scoped>\n",
       "    .dataframe tbody tr th:only-of-type {\n",
       "        vertical-align: middle;\n",
       "    }\n",
       "\n",
       "    .dataframe tbody tr th {\n",
       "        vertical-align: top;\n",
       "    }\n",
       "\n",
       "    .dataframe thead th {\n",
       "        text-align: right;\n",
       "    }\n",
       "</style>\n",
       "<table border=\"1\" class=\"dataframe\">\n",
       "  <thead>\n",
       "    <tr style=\"text-align: right;\">\n",
       "      <th></th>\n",
       "      <th>Review</th>\n",
       "      <th>Liked</th>\n",
       "    </tr>\n",
       "  </thead>\n",
       "  <tbody>\n",
       "    <tr>\n",
       "      <th>0</th>\n",
       "      <td>Wow... Loved this place.</td>\n",
       "      <td>1</td>\n",
       "    </tr>\n",
       "    <tr>\n",
       "      <th>1</th>\n",
       "      <td>Crust is not good.</td>\n",
       "      <td>0</td>\n",
       "    </tr>\n",
       "    <tr>\n",
       "      <th>2</th>\n",
       "      <td>Not tasty and the texture was just nasty.</td>\n",
       "      <td>0</td>\n",
       "    </tr>\n",
       "    <tr>\n",
       "      <th>3</th>\n",
       "      <td>Stopped by during the late May bank holiday of...</td>\n",
       "      <td>1</td>\n",
       "    </tr>\n",
       "    <tr>\n",
       "      <th>4</th>\n",
       "      <td>The selection on the menu was great and so wer...</td>\n",
       "      <td>1</td>\n",
       "    </tr>\n",
       "    <tr>\n",
       "      <th>...</th>\n",
       "      <td>...</td>\n",
       "      <td>...</td>\n",
       "    </tr>\n",
       "    <tr>\n",
       "      <th>995</th>\n",
       "      <td>I think food should have flavor and texture an...</td>\n",
       "      <td>0</td>\n",
       "    </tr>\n",
       "    <tr>\n",
       "      <th>996</th>\n",
       "      <td>Appetite instantly gone.</td>\n",
       "      <td>0</td>\n",
       "    </tr>\n",
       "    <tr>\n",
       "      <th>997</th>\n",
       "      <td>Overall I was not impressed and would not go b...</td>\n",
       "      <td>0</td>\n",
       "    </tr>\n",
       "    <tr>\n",
       "      <th>998</th>\n",
       "      <td>The whole experience was underwhelming, and I ...</td>\n",
       "      <td>0</td>\n",
       "    </tr>\n",
       "    <tr>\n",
       "      <th>999</th>\n",
       "      <td>Then, as if I hadn't wasted enough of my life ...</td>\n",
       "      <td>0</td>\n",
       "    </tr>\n",
       "  </tbody>\n",
       "</table>\n",
       "<p>1000 rows × 2 columns</p>\n",
       "</div>"
      ],
      "text/plain": [
       "                                                Review  Liked\n",
       "0                             Wow... Loved this place.      1\n",
       "1                                   Crust is not good.      0\n",
       "2            Not tasty and the texture was just nasty.      0\n",
       "3    Stopped by during the late May bank holiday of...      1\n",
       "4    The selection on the menu was great and so wer...      1\n",
       "..                                                 ...    ...\n",
       "995  I think food should have flavor and texture an...      0\n",
       "996                           Appetite instantly gone.      0\n",
       "997  Overall I was not impressed and would not go b...      0\n",
       "998  The whole experience was underwhelming, and I ...      0\n",
       "999  Then, as if I hadn't wasted enough of my life ...      0\n",
       "\n",
       "[1000 rows x 2 columns]"
      ]
     },
     "execution_count": 2,
     "metadata": {},
     "output_type": "execute_result"
    }
   ],
   "source": [
    "import pandas as pd\n",
    "import re\n",
    "\n",
    "# Importing the dataset\n",
    "dataset = pd.read_csv(\"../data/restaurant_reviews.tsv\", delimiter=\"\\t\", quoting=3)\n",
    "\n",
    "dataset\n"
   ]
  },
  {
   "attachments": {},
   "cell_type": "markdown",
   "metadata": {},
   "source": [
    "To make sure we have only tokens (words) that are ready to fetch embeddings for, we'll limit ourselves to lower-case alphabetic sequences. For that, we do some preprocessing:\n"
   ]
  },
  {
   "cell_type": "code",
   "execution_count": 3,
   "metadata": {},
   "outputs": [],
   "source": [
    "# cleanup\n",
    "corpus = []\n",
    "for i in range(0, dataset[\"Review\"].size):\n",
    "    # get review, remove non alpha chars and convert to lower-case\n",
    "    review = re.sub(\"[^a-zA-Z]\", \" \", dataset[\"Review\"][i]).lower()\n",
    "    # add review to corpus\n",
    "    corpus.append(review)\n"
   ]
  },
  {
   "attachments": {},
   "cell_type": "markdown",
   "metadata": {},
   "source": [
    "Now we can convert our \"cleaned\" corpus into embeddings.\n"
   ]
  },
  {
   "attachments": {},
   "cell_type": "markdown",
   "metadata": {},
   "source": [
    "#### Fixing the length of the input\n",
    "\n",
    "The reviews in our corpus have variable length. However, we need to represent them with a fixed-length vector of features. One way to do it is to impose a limit on the number of word embeddings we want to include.\n",
    "\n",
    "To convert words into their vector representations (embeddings), let's create an auxiliary function that takes in the number of embeddings we wish to include in the representation:\n"
   ]
  },
  {
   "cell_type": "code",
   "execution_count": 4,
   "metadata": {},
   "outputs": [],
   "source": [
    "import numpy as np\n",
    "\n",
    "\n",
    "def text_to_vector(embeddings, text, sequence_len):\n",
    "    # split text into tokens\n",
    "    tokens = text.split()\n",
    "\n",
    "    # convert tokens to embedding vectors, up to sequence_len tokens\n",
    "    vec = []\n",
    "    n = 0\n",
    "    i = 0\n",
    "\n",
    "    # while there are tokens and did not reach desired sequence length\n",
    "    while i < len(tokens) and n < sequence_len:\n",
    "        try:\n",
    "            vec.extend(embeddings.get_vector(tokens[i]))\n",
    "            n += 1\n",
    "        except KeyError:\n",
    "            True  # simply ignore out-of-vocabulary tokens\n",
    "        finally:\n",
    "            i += 1\n",
    "\n",
    "    # add blanks up to sequence_len, if needed\n",
    "    for j in range(sequence_len - n):\n",
    "        vec.extend(\n",
    "            np.zeros(\n",
    "                embeddings.vector_size,\n",
    "            )\n",
    "        )\n",
    "\n",
    "    return vec\n"
   ]
  },
  {
   "attachments": {},
   "cell_type": "markdown",
   "metadata": {},
   "source": [
    "The above _text_to_vector_ function takes an _embeddings_ dictionary, the _text_ to convert, and the number of words _sequence_len_ from _text_ to consider. It returns a vector with appended embeddings for the first _sequence_len_ words that exist in the _embeddings_ dictionary (tokens for which no embedding is found are ignored). In case the text has less than _sequence_len_ words for which we have embeddings, blank embeddings will be added.\n",
    "\n",
    "To better decide how many word embeddings we wish to append, let's learn a bit more about the length of each review in our corpus.\n"
   ]
  },
  {
   "cell_type": "code",
   "execution_count": 5,
   "metadata": {},
   "outputs": [
    {
     "name": "stdout",
     "output_type": "stream",
     "text": [
      "1 32 11.04 6.312242073938545 ModeResult(mode=array([4]), count=array([80]))\n"
     ]
    },
    {
     "name": "stderr",
     "output_type": "stream",
     "text": [
      "/tmp/ipykernel_294117/3424672106.py:4: FutureWarning: Unlike other reduction functions (e.g. `skew`, `kurtosis`), the default behavior of `mode` typically preserves the axis it acts along. In SciPy 1.11.0, this behavior will change: the default value of `keepdims` will become False, the `axis` over which the statistic is taken will be eliminated, and the value None will no longer be accepted. Set `keepdims` to True or False to avoid this warning.\n",
      "  print(np.min(lens), np.max(lens), np.mean(lens), np.std(lens), stats.mode(lens))\n"
     ]
    }
   ],
   "source": [
    "from scipy import stats\n",
    "\n",
    "lens = [len(c.split()) for c in corpus]\n",
    "print(np.min(lens), np.max(lens), np.mean(lens), np.std(lens), stats.mode(lens))\n"
   ]
  },
  {
   "attachments": {},
   "cell_type": "markdown",
   "metadata": {},
   "source": [
    "So, we have reviews ranging from 1 to 32 tokens (words), with an average size of 11.04 and a standard deviation of 6.31, being 4 the most frequent review length.\n",
    "\n",
    "Let's limit reviews to, say, length 10: longer reviews will get truncated, while shorter reviews will be padded with empty embeddings for the missing tokens. (Note: according to function _text_to_vector_, this may also happen to reviews of length >= 10, if they happen to include out-of-vocabulary tokens.)\n"
   ]
  },
  {
   "cell_type": "code",
   "execution_count": 6,
   "metadata": {},
   "outputs": [
    {
     "name": "stdout",
     "output_type": "stream",
     "text": [
      "(1000, 1500) (1000,)\n"
     ]
    }
   ],
   "source": [
    "# convert corpus into dataset with appended embeddings representation\n",
    "embeddings_corpus = []\n",
    "for c in corpus:\n",
    "    embeddings_corpus.append(text_to_vector(wv, c, 10))\n",
    "\n",
    "X = np.array(embeddings_corpus)\n",
    "y = dataset[\"Liked\"]\n",
    "\n",
    "print(X.shape, y.shape)\n"
   ]
  },
  {
   "attachments": {},
   "cell_type": "markdown",
   "metadata": {},
   "source": [
    "As expected, our feature vectors have 1500 dimensions: 10 times the size of each embedding vector, which is 150 in this case.\n",
    "\n",
    "Now we can use this feature representation to train a model! Try out training a Logistic Regression or a Support Vector Machine model.\n"
   ]
  },
  {
   "cell_type": "code",
   "execution_count": 7,
   "metadata": {},
   "outputs": [
    {
     "name": "stdout",
     "output_type": "stream",
     "text": [
      "LogisticRegression\n",
      "Score: 0.765\n",
      "Accuracy: 0.765\n",
      "Precision: 0.7692307692307693\n",
      "Recall: 0.7766990291262136\n",
      "F1: 0.7729468599033817\n",
      "\n",
      "LinearSVC\n",
      "Score: 0.75\n",
      "Accuracy: 0.75\n",
      "Precision: 0.7345132743362832\n",
      "Recall: 0.8058252427184466\n",
      "F1: 0.7685185185185185\n",
      "\n"
     ]
    }
   ],
   "source": [
    "# your code here\n",
    "from sklearn.model_selection import train_test_split\n",
    "from sklearn.linear_model import LogisticRegression\n",
    "from sklearn.svm import LinearSVC\n",
    "from sklearn.metrics import precision_score, accuracy_score, recall_score, f1_score\n",
    "\n",
    "X_train, X_test, y_train, y_test = train_test_split(X, y, test_size=0.2, random_state=0)\n",
    "\n",
    "classifiers = [\n",
    "    LogisticRegression(),\n",
    "    LinearSVC(),\n",
    "]\n",
    "\n",
    "for clf in classifiers:\n",
    "    clf.fit(X_train, y_train)\n",
    "    y_pred = clf.predict(X_test)\n",
    "\n",
    "    print(clf.__class__.__name__)\n",
    "    print(f\"Score: {clf.score(X_test, y_test)}\")\n",
    "    print(f\"Accuracy: {accuracy_score(y_test, y_pred)}\")\n",
    "    print(f\"Precision: {precision_score(y_test, y_pred)}\")\n",
    "    print(f\"Recall: {recall_score(y_test, y_pred)}\")\n",
    "    print(f\"F1: {f1_score(y_test, y_pred)}\")\n",
    "    print()"
   ]
  },
  {
   "attachments": {},
   "cell_type": "markdown",
   "metadata": {},
   "source": [
    "#### Aggregating word embeddings\n"
   ]
  },
  {
   "attachments": {},
   "cell_type": "markdown",
   "metadata": {},
   "source": [
    "Instead of appending word embeddings from a fixed number of tokens, we could consider using embeddings for the whole set of tokens, by taking their mean. This way, we will still get a fixed length representation, equal to the embeddings vector size (150 in our case).\n",
    "\n",
    "Implement the _text_to_mean_vector_ function, which takes the embeddings dictionary and the text to convert, and returns the mean of the embeddings of its tokens.\n"
   ]
  },
  {
   "cell_type": "code",
   "execution_count": 8,
   "metadata": {},
   "outputs": [],
   "source": [
    "# your code here\n",
    "def text_to_mean_vector(embeddings, text):\n",
    "    # split text into tokens\n",
    "    tokens = text.split()\n",
    "\n",
    "    # convert tokens to embedding vectors\n",
    "    vec = []\n",
    "    i = 0\n",
    "    while i < len(tokens):  # while there are tokens\n",
    "        try:\n",
    "            vec.append(embeddings.get_vector(tokens[i]))\n",
    "        except KeyError:\n",
    "            True  # simply ignore out-of-vocabulary tokens\n",
    "        finally:\n",
    "            i += 1\n",
    "\n",
    "    return np.mean(vec, axis=0)  # return the mean of vec\n"
   ]
  },
  {
   "attachments": {},
   "cell_type": "markdown",
   "metadata": {},
   "source": [
    "Use the above function to convert the corpus into a dataset with mean embeddings representation. The shape of the feature matrix _X_ should be _(1000, 150)_.\n"
   ]
  },
  {
   "cell_type": "code",
   "execution_count": 9,
   "metadata": {},
   "outputs": [
    {
     "name": "stdout",
     "output_type": "stream",
     "text": [
      "(1000, 150) (1000,)\n"
     ]
    }
   ],
   "source": [
    "# your code here\n",
    "embeddings_corpus = []\n",
    "for c in corpus:\n",
    "    embeddings_corpus.append(text_to_mean_vector(wv, c))\n",
    "\n",
    "X = np.array(embeddings_corpus)\n",
    "y = dataset[\"Liked\"]\n",
    "\n",
    "print(X.shape, y.shape)\n"
   ]
  },
  {
   "attachments": {},
   "cell_type": "markdown",
   "metadata": {},
   "source": [
    "Now we can use this mean embeddings representation to train a model! Try out training a Logistic Regression or a Support Vector Machine model.\n"
   ]
  },
  {
   "cell_type": "code",
   "execution_count": 10,
   "metadata": {},
   "outputs": [
    {
     "name": "stdout",
     "output_type": "stream",
     "text": [
      "LogisticRegression\n",
      "Score: 0.83\n",
      "Accuracy: 0.83\n",
      "Precision: 0.8415841584158416\n",
      "Recall: 0.8252427184466019\n",
      "F1: 0.8333333333333333\n",
      "\n",
      "LinearSVC\n",
      "Score: 0.82\n",
      "Accuracy: 0.82\n",
      "Precision: 0.8252427184466019\n",
      "Recall: 0.8252427184466019\n",
      "F1: 0.8252427184466019\n",
      "\n"
     ]
    }
   ],
   "source": [
    "# your code here\n",
    "X_train, X_test, y_train, y_test = train_test_split(X, y, test_size=0.2, random_state=0)\n",
    "\n",
    "for clf in classifiers:\n",
    "    clf.fit(X_train, y_train)\n",
    "    y_pred = clf.predict(X_test)\n",
    "\n",
    "    print(clf.__class__.__name__)\n",
    "    print(f\"Score: {clf.score(X_test, y_test)}\")\n",
    "    print(f\"Accuracy: {accuracy_score(y_test, y_pred)}\")\n",
    "    print(f\"Precision: {precision_score(y_test, y_pred)}\")\n",
    "    print(f\"Recall: {recall_score(y_test, y_pred)}\")\n",
    "    print(f\"F1: {f1_score(y_test, y_pred)}\")\n",
    "    print()\n"
   ]
  },
  {
   "attachments": {},
   "cell_type": "markdown",
   "metadata": {},
   "source": [
    "It is also possible to use other aggregation functions, besides taking the mean of the word embeddings. For instance, we could take the element-wise _max_. Try it out and check if you notice any changes in the performance of the models!\n"
   ]
  },
  {
   "cell_type": "code",
   "execution_count": 11,
   "metadata": {},
   "outputs": [],
   "source": [
    "# your code here\n",
    "def text_to_max_vector(embeddings, text):\n",
    "    # split text into tokens\n",
    "    tokens = text.split()\n",
    "\n",
    "    # convert tokens to embedding vectors\n",
    "    vec = []\n",
    "    i = 0\n",
    "    while i < len(tokens):  # while there are tokens\n",
    "        try:\n",
    "            vec.append(embeddings.get_vector(tokens[i]))\n",
    "        except KeyError:\n",
    "            True  # simply ignore out-of-vocabulary tokens\n",
    "        finally:\n",
    "            i += 1\n",
    "\n",
    "    return np.max(vec, axis=0)  # return the max of vec\n"
   ]
  },
  {
   "cell_type": "code",
   "execution_count": 12,
   "metadata": {},
   "outputs": [
    {
     "name": "stdout",
     "output_type": "stream",
     "text": [
      "(1000, 150) (1000,)\n"
     ]
    }
   ],
   "source": [
    "# your code here\n",
    "embeddings_corpus = []\n",
    "for c in corpus:\n",
    "    embeddings_corpus.append(text_to_max_vector(wv, c))\n",
    "\n",
    "X = np.array(embeddings_corpus)\n",
    "y = dataset[\"Liked\"]\n",
    "\n",
    "print(X.shape, y.shape)\n"
   ]
  },
  {
   "cell_type": "code",
   "execution_count": 13,
   "metadata": {},
   "outputs": [
    {
     "name": "stdout",
     "output_type": "stream",
     "text": [
      "LogisticRegression\n",
      "Score: 0.78\n",
      "Accuracy: 0.78\n",
      "Precision: 0.8041237113402062\n",
      "Recall: 0.7572815533980582\n",
      "F1: 0.78\n",
      "\n",
      "LinearSVC\n",
      "Score: 0.78\n",
      "Accuracy: 0.78\n",
      "Precision: 0.7920792079207921\n",
      "Recall: 0.7766990291262136\n",
      "F1: 0.7843137254901961\n",
      "\n"
     ]
    }
   ],
   "source": [
    "# your code here\n",
    "X_train, X_test, y_train, y_test = train_test_split(X, y, test_size=0.2, random_state=0)\n",
    "\n",
    "for clf in classifiers:\n",
    "    clf.fit(X_train, y_train)\n",
    "    y_pred = clf.predict(X_test)\n",
    "\n",
    "    print(clf.__class__.__name__)\n",
    "    print(f\"Score: {clf.score(X_test, y_test)}\")\n",
    "    print(f\"Accuracy: {accuracy_score(y_test, y_pred)}\")\n",
    "    print(f\"Precision: {precision_score(y_test, y_pred)}\")\n",
    "    print(f\"Recall: {recall_score(y_test, y_pred)}\")\n",
    "    print(f\"F1: {f1_score(y_test, y_pred)}\")\n",
    "    print()\n"
   ]
  }
 ],
 "metadata": {
  "kernelspec": {
   "display_name": "Python 3",
   "language": "python",
   "name": "python3"
  },
  "language_info": {
   "codemirror_mode": {
    "name": "ipython",
    "version": 3
   },
   "file_extension": ".py",
   "mimetype": "text/x-python",
   "name": "python",
   "nbconvert_exporter": "python",
   "pygments_lexer": "ipython3",
   "version": "3.11.1"
  }
 },
 "nbformat": 4,
 "nbformat_minor": 2
}
