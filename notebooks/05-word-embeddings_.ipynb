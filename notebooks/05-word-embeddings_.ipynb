{
 "cells": [
  {
   "attachments": {},
   "cell_type": "markdown",
   "metadata": {},
   "source": [
    "Notebook prepared by Henrique Lopes Cardoso (hlc@fe.up.pt), based on [Word2Vec Tutorial Notebook](https://github.com/kavgan/nlp-in-practice/tree/master/word2vec) by Kavita Ganesan and on [Gensim's documentation on the Word2Vec Model](https://radimrehurek.com/gensim/auto_examples/tutorials/run_word2vec.html).\n",
    "\n",
    "# WORD EMBEDDINGS\n"
   ]
  },
  {
   "attachments": {},
   "cell_type": "markdown",
   "metadata": {},
   "source": [
    "## Word2Vec in Gensim\n",
    "\n",
    "[Word2Vec](https://code.google.com/archive/p/word2vec/) is a model for training word embeddings that revolutionized the way words are represented. [Gensim](https://radimrehurek.com/gensim_3.8.3/models/word2vec.html) provides an implementation of the algorithm, with which we can train our own word embeddings.\n"
   ]
  },
  {
   "attachments": {},
   "cell_type": "markdown",
   "metadata": {},
   "source": [
    "#### The data\n",
    "\n",
    "Training embeddings requires a big corpus, the bigger the better.\n",
    "\n",
    "For illustration purposes, we'll make use of the (not very big) [OpinRank](http://kavita-ganesan.com/entity-ranking-data/) dataset, which includes full reviews of cars and hotels. More specifically, we'll use an 84MB compressed file with 255404 hotel reviews.\n",
    "\n",
    "This is how each review looks like:\n"
   ]
  },
  {
   "cell_type": "code",
   "execution_count": 1,
   "metadata": {},
   "outputs": [
    {
     "name": "stdout",
     "output_type": "stream",
     "text": [
      "b\"Oct 12 2009 \\tNice trendy hotel location not too bad.\\tI stayed in this hotel for one night. As this is a fairly new place some of the taxi drivers did not know where it was and/or did not want to drive there. Once I have eventually arrived at the hotel, I was very pleasantly surprised with the decor of the lobby/ground floor area. It was very stylish and modern. I found the reception's staff geeting me with 'Aloha' a bit out of place, but I guess they are briefed to say that to keep up the coroporate image.As I have a Starwood Preferred Guest member, I was given a small gift upon-check in. It was only a couple of fridge magnets in a gift box, but nevertheless a nice gesture.My room was nice and roomy, there are tea and coffee facilities in each room and you get two complimentary bottles of water plus some toiletries by 'bliss'.The location is not great. It is at the last metro stop and you then need to take a taxi, but if you are not planning on going to see the historic sites in Beijing, then you will be ok.I chose to have some breakfast in the hotel, which was really tasty and there was a good selection of dishes. There are a couple of computers to use in the communal area, as well as a pool table. There is also a small swimming pool and a gym area.I would definitely stay in this hotel again, but only if I did not plan to travel to central Beijing, as it can take a long time. The location is ok if you plan to do a lot of shopping, as there is a big shopping centre just few minutes away from the hotel and there are plenty of eating options around, including restaurants that serve a dog meat!\\t\\r\\n\"\n"
     ]
    }
   ],
   "source": [
    "import gzip\n",
    "\n",
    "data_file = \"../data/reviews_data.txt.gz\"\n",
    "\n",
    "with gzip.open(data_file, \"rb\") as f:\n",
    "    for i, line in enumerate(f):\n",
    "        print(line)\n",
    "        break"
   ]
  },
  {
   "attachments": {},
   "cell_type": "markdown",
   "metadata": {},
   "source": [
    "Let's read the whole dataset into a list, while providing some logging information.\n",
    "\n",
    "In the process of reading the data directly from the compressed file, we'll perform some pre-processing of the reviews using [gensim.utils.simple_preprocess](https://tedboy.github.io/nlps/generated/generated/gensim.utils.simple_preprocess.html). This does some basic pre-processing such as tokenization and lowercasing, and returns back a list of tokens (words).\n"
   ]
  },
  {
   "cell_type": "code",
   "execution_count": 2,
   "metadata": {},
   "outputs": [],
   "source": [
    "import gensim\n",
    "import logging\n",
    "\n",
    "logging.basicConfig(format=\"%(asctime)s : %(levelname)s : %(message)s\", level=logging.INFO)\n",
    "\n",
    "\n",
    "def read_input(input_file):\n",
    "    \"\"\"This method reads the input file which is in gzip format\"\"\"\n",
    "\n",
    "    logging.info(f\"reading file {input_file}...this may take a while\")\n",
    "\n",
    "    with gzip.open(input_file, \"rb\") as f:\n",
    "        for i, line in enumerate(f):\n",
    "\n",
    "            if i % 10000 == 0:\n",
    "                logging.info(f\"read {i} reviews\")\n",
    "\n",
    "            # do some pre-processing and return a list of words for each review text\n",
    "            yield gensim.utils.simple_preprocess(line)\n",
    "    logging.info(\"Done reading data file\")"
   ]
  },
  {
   "cell_type": "code",
   "execution_count": 3,
   "metadata": {},
   "outputs": [
    {
     "name": "stderr",
     "output_type": "stream",
     "text": [
      "2023-03-10 15:22:08,965 : INFO : reading file ../data/reviews_data.txt.gz...this may take a while\n",
      "2023-03-10 15:22:08,966 : INFO : read 0 reviews\n",
      "2023-03-10 15:22:10,295 : INFO : read 10000 reviews\n",
      "2023-03-10 15:22:11,655 : INFO : read 20000 reviews\n",
      "2023-03-10 15:22:13,234 : INFO : read 30000 reviews\n",
      "2023-03-10 15:22:14,697 : INFO : read 40000 reviews\n",
      "2023-03-10 15:22:16,496 : INFO : read 50000 reviews\n",
      "2023-03-10 15:22:18,073 : INFO : read 60000 reviews\n",
      "2023-03-10 15:22:19,491 : INFO : read 70000 reviews\n",
      "2023-03-10 15:22:20,713 : INFO : read 80000 reviews\n",
      "2023-03-10 15:22:21,942 : INFO : read 90000 reviews\n",
      "2023-03-10 15:22:23,180 : INFO : read 100000 reviews\n",
      "2023-03-10 15:22:24,406 : INFO : read 110000 reviews\n",
      "2023-03-10 15:22:25,693 : INFO : read 120000 reviews\n",
      "2023-03-10 15:22:26,945 : INFO : read 130000 reviews\n",
      "2023-03-10 15:22:28,659 : INFO : read 140000 reviews\n",
      "2023-03-10 15:22:29,897 : INFO : read 150000 reviews\n",
      "2023-03-10 15:22:31,177 : INFO : read 160000 reviews\n",
      "2023-03-10 15:22:32,408 : INFO : read 170000 reviews\n",
      "2023-03-10 15:22:33,711 : INFO : read 180000 reviews\n",
      "2023-03-10 15:22:35,027 : INFO : read 190000 reviews\n",
      "2023-03-10 15:22:36,429 : INFO : read 200000 reviews\n",
      "2023-03-10 15:22:37,781 : INFO : read 210000 reviews\n",
      "2023-03-10 15:22:39,097 : INFO : read 220000 reviews\n",
      "2023-03-10 15:22:40,997 : INFO : read 230000 reviews\n",
      "2023-03-10 15:22:42,256 : INFO : read 240000 reviews\n",
      "2023-03-10 15:22:43,512 : INFO : read 250000 reviews\n",
      "2023-03-10 15:22:44,188 : INFO : Done reading data file\n"
     ]
    },
    {
     "data": {
      "text/plain": [
       "255404"
      ]
     },
     "execution_count": 3,
     "metadata": {},
     "output_type": "execute_result"
    }
   ],
   "source": [
    "# compressed file with the data\n",
    "data_file = \"../data/reviews_data.txt.gz\"\n",
    "\n",
    "# read the tokenized reviews into a list\n",
    "documents = list(read_input(data_file))\n",
    "\n",
    "len(documents)"
   ]
  },
  {
   "attachments": {},
   "cell_type": "markdown",
   "metadata": {},
   "source": [
    "Each review item becomes a list of words, so what we have is a list of lists.\n"
   ]
  },
  {
   "cell_type": "code",
   "execution_count": 4,
   "metadata": {},
   "outputs": [
    {
     "name": "stdout",
     "output_type": "stream",
     "text": [
      "['oct', 'nice', 'trendy', 'hotel', 'location', 'not', 'too', 'bad', 'stayed', 'in', 'this', 'hotel', 'for', 'one', 'night', 'as', 'this', 'is', 'fairly', 'new', 'place', 'some', 'of', 'the', 'taxi', 'drivers', 'did', 'not', 'know', 'where', 'it', 'was', 'and', 'or', 'did', 'not', 'want', 'to', 'drive', 'there', 'once', 'have', 'eventually', 'arrived', 'at', 'the', 'hotel', 'was', 'very', 'pleasantly', 'surprised', 'with', 'the', 'decor', 'of', 'the', 'lobby', 'ground', 'floor', 'area', 'it', 'was', 'very', 'stylish', 'and', 'modern', 'found', 'the', 'reception', 'staff', 'geeting', 'me', 'with', 'aloha', 'bit', 'out', 'of', 'place', 'but', 'guess', 'they', 'are', 'briefed', 'to', 'say', 'that', 'to', 'keep', 'up', 'the', 'coroporate', 'image', 'as', 'have', 'starwood', 'preferred', 'guest', 'member', 'was', 'given', 'small', 'gift', 'upon', 'check', 'in', 'it', 'was', 'only', 'couple', 'of', 'fridge', 'magnets', 'in', 'gift', 'box', 'but', 'nevertheless', 'nice', 'gesture', 'my', 'room', 'was', 'nice', 'and', 'roomy', 'there', 'are', 'tea', 'and', 'coffee', 'facilities', 'in', 'each', 'room', 'and', 'you', 'get', 'two', 'complimentary', 'bottles', 'of', 'water', 'plus', 'some', 'toiletries', 'by', 'bliss', 'the', 'location', 'is', 'not', 'great', 'it', 'is', 'at', 'the', 'last', 'metro', 'stop', 'and', 'you', 'then', 'need', 'to', 'take', 'taxi', 'but', 'if', 'you', 'are', 'not', 'planning', 'on', 'going', 'to', 'see', 'the', 'historic', 'sites', 'in', 'beijing', 'then', 'you', 'will', 'be', 'ok', 'chose', 'to', 'have', 'some', 'breakfast', 'in', 'the', 'hotel', 'which', 'was', 'really', 'tasty', 'and', 'there', 'was', 'good', 'selection', 'of', 'dishes', 'there', 'are', 'couple', 'of', 'computers', 'to', 'use', 'in', 'the', 'communal', 'area', 'as', 'well', 'as', 'pool', 'table', 'there', 'is', 'also', 'small', 'swimming', 'pool', 'and', 'gym', 'area', 'would', 'definitely', 'stay', 'in', 'this', 'hotel', 'again', 'but', 'only', 'if', 'did', 'not', 'plan', 'to', 'travel', 'to', 'central', 'beijing', 'as', 'it', 'can', 'take', 'long', 'time', 'the', 'location', 'is', 'ok', 'if', 'you', 'plan', 'to', 'do', 'lot', 'of', 'shopping', 'as', 'there', 'is', 'big', 'shopping', 'centre', 'just', 'few', 'minutes', 'away', 'from', 'the', 'hotel', 'and', 'there', 'are', 'plenty', 'of', 'eating', 'options', 'around', 'including', 'restaurants', 'that', 'serve', 'dog', 'meat']\n"
     ]
    }
   ],
   "source": [
    "print(documents[0])\n"
   ]
  },
  {
   "attachments": {},
   "cell_type": "markdown",
   "metadata": {},
   "source": [
    "#### Training the Word2Vec model\n",
    "\n",
    "To train a Word2Vec model, we instantiate Word2Vec and pass it the text we have loaded before. You can check the available options for [instantiation](https://radimrehurek.com/gensim_3.8.3/models/word2vec.html#gensim.models.word2vec.Word2Vec) and for [training](https://radimrehurek.com/gensim_3.8.3/models/word2vec.html#gensim.models.word2vec.Word2Vec.train).\n",
    "\n",
    "Training a Word2Vec model takes time, depending on your hardware. In this particular case, expect training to take something between 5 to 10 minutes on an Intel Core-i7 16GB desktop. I know, that's a very wide range, but of course it depends on which other processes are running in the same machine...\n"
   ]
  },
  {
   "cell_type": "code",
   "execution_count": 5,
   "metadata": {},
   "outputs": [
    {
     "name": "stderr",
     "output_type": "stream",
     "text": [
      "2023-03-10 15:22:44,251 : INFO : collecting all words and their counts\n",
      "2023-03-10 15:22:44,252 : INFO : PROGRESS: at sentence #0, processed 0 words, keeping 0 word types\n",
      "2023-03-10 15:22:44,453 : INFO : PROGRESS: at sentence #10000, processed 1655714 words, keeping 25777 word types\n",
      "2023-03-10 15:22:44,652 : INFO : PROGRESS: at sentence #20000, processed 3317863 words, keeping 35016 word types\n",
      "2023-03-10 15:22:44,909 : INFO : PROGRESS: at sentence #30000, processed 5264072 words, keeping 47518 word types\n",
      "2023-03-10 15:22:45,133 : INFO : PROGRESS: at sentence #40000, processed 7081746 words, keeping 56675 word types\n",
      "2023-03-10 15:22:45,376 : INFO : PROGRESS: at sentence #50000, processed 9089491 words, keeping 63744 word types\n",
      "2023-03-10 15:22:45,626 : INFO : PROGRESS: at sentence #60000, processed 11013728 words, keeping 76788 word types\n",
      "2023-03-10 15:22:45,830 : INFO : PROGRESS: at sentence #70000, processed 12637530 words, keeping 83201 word types\n",
      "2023-03-10 15:22:46,026 : INFO : PROGRESS: at sentence #80000, processed 14099756 words, keeping 88461 word types\n",
      "2023-03-10 15:22:46,220 : INFO : PROGRESS: at sentence #90000, processed 15662154 words, keeping 93359 word types\n",
      "2023-03-10 15:22:46,412 : INFO : PROGRESS: at sentence #100000, processed 17164492 words, keeping 97888 word types\n",
      "2023-03-10 15:22:46,599 : INFO : PROGRESS: at sentence #110000, processed 18652297 words, keeping 102134 word types\n",
      "2023-03-10 15:22:46,786 : INFO : PROGRESS: at sentence #120000, processed 20152534 words, keeping 105925 word types\n",
      "2023-03-10 15:22:46,981 : INFO : PROGRESS: at sentence #130000, processed 21684335 words, keeping 110106 word types\n",
      "2023-03-10 15:22:47,190 : INFO : PROGRESS: at sentence #140000, processed 23330211 words, keeping 114110 word types\n",
      "2023-03-10 15:22:47,378 : INFO : PROGRESS: at sentence #150000, processed 24838759 words, keeping 118176 word types\n",
      "2023-03-10 15:22:47,578 : INFO : PROGRESS: at sentence #160000, processed 26390915 words, keeping 118672 word types\n",
      "2023-03-10 15:22:47,774 : INFO : PROGRESS: at sentence #170000, processed 27913921 words, keeping 123358 word types\n",
      "2023-03-10 15:22:47,981 : INFO : PROGRESS: at sentence #180000, processed 29535617 words, keeping 126750 word types\n",
      "2023-03-10 15:22:48,177 : INFO : PROGRESS: at sentence #190000, processed 31096464 words, keeping 129849 word types\n",
      "2023-03-10 15:22:48,393 : INFO : PROGRESS: at sentence #200000, processed 32805276 words, keeping 133257 word types\n",
      "2023-03-10 15:22:48,598 : INFO : PROGRESS: at sentence #210000, processed 34434203 words, keeping 136366 word types\n",
      "2023-03-10 15:22:48,809 : INFO : PROGRESS: at sentence #220000, processed 36083487 words, keeping 139420 word types\n",
      "2023-03-10 15:22:48,995 : INFO : PROGRESS: at sentence #230000, processed 37571767 words, keeping 142401 word types\n",
      "2023-03-10 15:22:49,199 : INFO : PROGRESS: at sentence #240000, processed 39138195 words, keeping 145234 word types\n",
      "2023-03-10 15:22:49,396 : INFO : PROGRESS: at sentence #250000, processed 40695054 words, keeping 147968 word types\n",
      "2023-03-10 15:22:49,501 : INFO : collected 150061 word types from a corpus of 41519360 raw words and 255404 sentences\n",
      "2023-03-10 15:22:49,501 : INFO : Creating a fresh vocabulary\n",
      "2023-03-10 15:22:49,686 : INFO : Word2Vec lifecycle event {'msg': 'effective_min_count=2 retains 70537 unique words (47.01% of original 150061, drops 79524)', 'datetime': '2023-03-10T15:22:49.686934', 'gensim': '4.3.1', 'python': '3.11.1 (main, Jan  6 2023, 00:00:00) [GCC 12.2.1 20221121 (Red Hat 12.2.1-4)]', 'platform': 'Linux-6.1.7-200.fc37.x86_64-x86_64-with-glibc2.36', 'event': 'prepare_vocab'}\n",
      "2023-03-10 15:22:49,687 : INFO : Word2Vec lifecycle event {'msg': 'effective_min_count=2 leaves 41439836 word corpus (99.81% of original 41519360, drops 79524)', 'datetime': '2023-03-10T15:22:49.687373', 'gensim': '4.3.1', 'python': '3.11.1 (main, Jan  6 2023, 00:00:00) [GCC 12.2.1 20221121 (Red Hat 12.2.1-4)]', 'platform': 'Linux-6.1.7-200.fc37.x86_64-x86_64-with-glibc2.36', 'event': 'prepare_vocab'}\n",
      "2023-03-10 15:22:49,931 : INFO : deleting the raw counts dictionary of 150061 items\n",
      "2023-03-10 15:22:49,934 : INFO : sample=0.001 downsamples 55 most-common words\n",
      "2023-03-10 15:22:49,935 : INFO : Word2Vec lifecycle event {'msg': 'downsampling leaves estimated 30349251.36700416 word corpus (73.2%% of prior 41439836)', 'datetime': '2023-03-10T15:22:49.935228', 'gensim': '4.3.1', 'python': '3.11.1 (main, Jan  6 2023, 00:00:00) [GCC 12.2.1 20221121 (Red Hat 12.2.1-4)]', 'platform': 'Linux-6.1.7-200.fc37.x86_64-x86_64-with-glibc2.36', 'event': 'prepare_vocab'}\n",
      "2023-03-10 15:22:50,331 : INFO : estimated required memory for 70537 words and 150 dimensions: 119912900 bytes\n",
      "2023-03-10 15:22:50,332 : INFO : resetting layer weights\n",
      "2023-03-10 15:23:01,038 : INFO : Word2Vec lifecycle event {'update': False, 'trim_rule': 'None', 'datetime': '2023-03-10T15:23:01.038963', 'gensim': '4.3.1', 'python': '3.11.1 (main, Jan  6 2023, 00:00:00) [GCC 12.2.1 20221121 (Red Hat 12.2.1-4)]', 'platform': 'Linux-6.1.7-200.fc37.x86_64-x86_64-with-glibc2.36', 'event': 'build_vocab'}\n",
      "2023-03-10 15:23:01,039 : INFO : Word2Vec lifecycle event {'msg': 'training model with 10 workers on 70537 vocabulary and 150 features, using sg=1 hs=0 sample=0.001 negative=5 window=10 shrink_windows=True', 'datetime': '2023-03-10T15:23:01.039420', 'gensim': '4.3.1', 'python': '3.11.1 (main, Jan  6 2023, 00:00:00) [GCC 12.2.1 20221121 (Red Hat 12.2.1-4)]', 'platform': 'Linux-6.1.7-200.fc37.x86_64-x86_64-with-glibc2.36', 'event': 'train'}\n",
      "2023-03-10 15:23:02,051 : INFO : EPOCH 0 - PROGRESS: at 1.28% examples, 409559 words/s, in_qsize 19, out_qsize 0\n",
      "2023-03-10 15:23:03,062 : INFO : EPOCH 0 - PROGRESS: at 2.89% examples, 447048 words/s, in_qsize 19, out_qsize 0\n",
      "2023-03-10 15:23:04,076 : INFO : EPOCH 0 - PROGRESS: at 4.43% examples, 450103 words/s, in_qsize 19, out_qsize 0\n",
      "2023-03-10 15:23:05,082 : INFO : EPOCH 0 - PROGRESS: at 6.08% examples, 464506 words/s, in_qsize 19, out_qsize 0\n",
      "2023-03-10 15:23:06,089 : INFO : EPOCH 0 - PROGRESS: at 7.25% examples, 444531 words/s, in_qsize 19, out_qsize 0\n",
      "2023-03-10 15:23:07,137 : INFO : EPOCH 0 - PROGRESS: at 8.60% examples, 436559 words/s, in_qsize 19, out_qsize 0\n",
      "2023-03-10 15:23:08,149 : INFO : EPOCH 0 - PROGRESS: at 9.77% examples, 434933 words/s, in_qsize 19, out_qsize 0\n",
      "2023-03-10 15:23:09,211 : INFO : EPOCH 0 - PROGRESS: at 10.85% examples, 427802 words/s, in_qsize 19, out_qsize 0\n",
      "2023-03-10 15:23:10,214 : INFO : EPOCH 0 - PROGRESS: at 11.91% examples, 424848 words/s, in_qsize 19, out_qsize 0\n",
      "2023-03-10 15:23:11,229 : INFO : EPOCH 0 - PROGRESS: at 13.11% examples, 424230 words/s, in_qsize 19, out_qsize 0\n",
      "2023-03-10 15:23:12,275 : INFO : EPOCH 0 - PROGRESS: at 14.31% examples, 421829 words/s, in_qsize 20, out_qsize 0\n",
      "2023-03-10 15:23:13,281 : INFO : EPOCH 0 - PROGRESS: at 15.56% examples, 420819 words/s, in_qsize 19, out_qsize 0\n",
      "2023-03-10 15:23:14,302 : INFO : EPOCH 0 - PROGRESS: at 16.74% examples, 421029 words/s, in_qsize 19, out_qsize 0\n",
      "2023-03-10 15:23:15,339 : INFO : EPOCH 0 - PROGRESS: at 17.79% examples, 418261 words/s, in_qsize 20, out_qsize 0\n",
      "2023-03-10 15:23:16,350 : INFO : EPOCH 0 - PROGRESS: at 18.91% examples, 416832 words/s, in_qsize 19, out_qsize 0\n",
      "2023-03-10 15:23:17,352 : INFO : EPOCH 0 - PROGRESS: at 19.96% examples, 416679 words/s, in_qsize 19, out_qsize 0\n",
      "2023-03-10 15:23:18,370 : INFO : EPOCH 0 - PROGRESS: at 20.96% examples, 415448 words/s, in_qsize 19, out_qsize 0\n",
      "2023-03-10 15:23:19,380 : INFO : EPOCH 0 - PROGRESS: at 22.28% examples, 413154 words/s, in_qsize 19, out_qsize 0\n",
      "2023-03-10 15:23:20,393 : INFO : EPOCH 0 - PROGRESS: at 23.36% examples, 413510 words/s, in_qsize 19, out_qsize 0\n",
      "2023-03-10 15:23:21,453 : INFO : EPOCH 0 - PROGRESS: at 24.44% examples, 412417 words/s, in_qsize 19, out_qsize 0\n",
      "2023-03-10 15:23:22,460 : INFO : EPOCH 0 - PROGRESS: at 25.88% examples, 412202 words/s, in_qsize 19, out_qsize 0\n",
      "2023-03-10 15:23:23,477 : INFO : EPOCH 0 - PROGRESS: at 27.47% examples, 412531 words/s, in_qsize 20, out_qsize 0\n",
      "2023-03-10 15:23:24,555 : INFO : EPOCH 0 - PROGRESS: at 28.99% examples, 411134 words/s, in_qsize 19, out_qsize 0\n",
      "2023-03-10 15:23:25,559 : INFO : EPOCH 0 - PROGRESS: at 30.42% examples, 411278 words/s, in_qsize 19, out_qsize 0\n",
      "2023-03-10 15:23:26,607 : INFO : EPOCH 0 - PROGRESS: at 32.03% examples, 411106 words/s, in_qsize 19, out_qsize 0\n",
      "2023-03-10 15:23:27,612 : INFO : EPOCH 0 - PROGRESS: at 33.44% examples, 410720 words/s, in_qsize 19, out_qsize 0\n",
      "2023-03-10 15:23:28,635 : INFO : EPOCH 0 - PROGRESS: at 34.81% examples, 410730 words/s, in_qsize 19, out_qsize 0\n",
      "2023-03-10 15:23:29,663 : INFO : EPOCH 0 - PROGRESS: at 36.25% examples, 409856 words/s, in_qsize 19, out_qsize 0\n",
      "2023-03-10 15:23:30,665 : INFO : EPOCH 0 - PROGRESS: at 37.65% examples, 409843 words/s, in_qsize 19, out_qsize 0\n",
      "2023-03-10 15:23:31,684 : INFO : EPOCH 0 - PROGRESS: at 39.13% examples, 409364 words/s, in_qsize 19, out_qsize 0\n",
      "2023-03-10 15:23:32,705 : INFO : EPOCH 0 - PROGRESS: at 40.48% examples, 408435 words/s, in_qsize 19, out_qsize 0\n",
      "2023-03-10 15:23:33,713 : INFO : EPOCH 0 - PROGRESS: at 42.09% examples, 408647 words/s, in_qsize 19, out_qsize 0\n",
      "2023-03-10 15:23:34,759 : INFO : EPOCH 0 - PROGRESS: at 43.54% examples, 408345 words/s, in_qsize 19, out_qsize 0\n",
      "2023-03-10 15:23:35,759 : INFO : EPOCH 0 - PROGRESS: at 45.06% examples, 408203 words/s, in_qsize 19, out_qsize 0\n",
      "2023-03-10 15:23:36,770 : INFO : EPOCH 0 - PROGRESS: at 46.46% examples, 407759 words/s, in_qsize 19, out_qsize 0\n",
      "2023-03-10 15:23:37,785 : INFO : EPOCH 0 - PROGRESS: at 47.80% examples, 407281 words/s, in_qsize 19, out_qsize 0\n",
      "2023-03-10 15:23:38,887 : INFO : EPOCH 0 - PROGRESS: at 49.36% examples, 407011 words/s, in_qsize 19, out_qsize 0\n",
      "2023-03-10 15:23:39,900 : INFO : EPOCH 0 - PROGRESS: at 50.80% examples, 407167 words/s, in_qsize 19, out_qsize 0\n",
      "2023-03-10 15:23:40,907 : INFO : EPOCH 0 - PROGRESS: at 52.19% examples, 407305 words/s, in_qsize 19, out_qsize 0\n",
      "2023-03-10 15:23:41,926 : INFO : EPOCH 0 - PROGRESS: at 53.39% examples, 406658 words/s, in_qsize 19, out_qsize 0\n",
      "2023-03-10 15:23:42,948 : INFO : EPOCH 0 - PROGRESS: at 54.75% examples, 406441 words/s, in_qsize 19, out_qsize 0\n",
      "2023-03-10 15:23:43,953 : INFO : EPOCH 0 - PROGRESS: at 56.29% examples, 406668 words/s, in_qsize 19, out_qsize 0\n",
      "2023-03-10 15:23:44,974 : INFO : EPOCH 0 - PROGRESS: at 57.72% examples, 406610 words/s, in_qsize 19, out_qsize 0\n",
      "2023-03-10 15:23:46,022 : INFO : EPOCH 0 - PROGRESS: at 59.16% examples, 406424 words/s, in_qsize 19, out_qsize 0\n",
      "2023-03-10 15:23:47,051 : INFO : EPOCH 0 - PROGRESS: at 60.61% examples, 406487 words/s, in_qsize 20, out_qsize 0\n",
      "2023-03-10 15:23:48,082 : INFO : EPOCH 0 - PROGRESS: at 61.93% examples, 405898 words/s, in_qsize 19, out_qsize 0\n",
      "2023-03-10 15:23:49,100 : INFO : EPOCH 0 - PROGRESS: at 63.41% examples, 405721 words/s, in_qsize 19, out_qsize 0\n",
      "2023-03-10 15:23:50,113 : INFO : EPOCH 0 - PROGRESS: at 65.03% examples, 405984 words/s, in_qsize 19, out_qsize 0\n",
      "2023-03-10 15:23:51,128 : INFO : EPOCH 0 - PROGRESS: at 66.26% examples, 405774 words/s, in_qsize 19, out_qsize 0\n",
      "2023-03-10 15:23:52,144 : INFO : EPOCH 0 - PROGRESS: at 67.76% examples, 406129 words/s, in_qsize 19, out_qsize 0\n",
      "2023-03-10 15:23:53,180 : INFO : EPOCH 0 - PROGRESS: at 69.05% examples, 405508 words/s, in_qsize 19, out_qsize 0\n",
      "2023-03-10 15:23:54,188 : INFO : EPOCH 0 - PROGRESS: at 70.38% examples, 405801 words/s, in_qsize 19, out_qsize 0\n",
      "2023-03-10 15:23:55,204 : INFO : EPOCH 0 - PROGRESS: at 71.71% examples, 405665 words/s, in_qsize 18, out_qsize 1\n",
      "2023-03-10 15:23:56,228 : INFO : EPOCH 0 - PROGRESS: at 73.15% examples, 405578 words/s, in_qsize 19, out_qsize 0\n",
      "2023-03-10 15:23:57,234 : INFO : EPOCH 0 - PROGRESS: at 74.60% examples, 405750 words/s, in_qsize 19, out_qsize 0\n",
      "2023-03-10 15:23:58,236 : INFO : EPOCH 0 - PROGRESS: at 75.86% examples, 405580 words/s, in_qsize 19, out_qsize 0\n",
      "2023-03-10 15:23:59,243 : INFO : EPOCH 0 - PROGRESS: at 77.15% examples, 405713 words/s, in_qsize 19, out_qsize 0\n",
      "2023-03-10 15:24:00,287 : INFO : EPOCH 0 - PROGRESS: at 78.43% examples, 405368 words/s, in_qsize 19, out_qsize 0\n",
      "2023-03-10 15:24:01,295 : INFO : EPOCH 0 - PROGRESS: at 79.78% examples, 405389 words/s, in_qsize 19, out_qsize 0\n",
      "2023-03-10 15:24:02,344 : INFO : EPOCH 0 - PROGRESS: at 81.07% examples, 405147 words/s, in_qsize 19, out_qsize 0\n",
      "2023-03-10 15:24:03,348 : INFO : EPOCH 0 - PROGRESS: at 82.44% examples, 405102 words/s, in_qsize 19, out_qsize 0\n",
      "2023-03-10 15:24:04,380 : INFO : EPOCH 0 - PROGRESS: at 83.76% examples, 404751 words/s, in_qsize 19, out_qsize 0\n",
      "2023-03-10 15:24:05,473 : INFO : EPOCH 0 - PROGRESS: at 85.06% examples, 404445 words/s, in_qsize 19, out_qsize 0\n",
      "2023-03-10 15:24:06,502 : INFO : EPOCH 0 - PROGRESS: at 86.53% examples, 404473 words/s, in_qsize 19, out_qsize 0\n",
      "2023-03-10 15:24:07,538 : INFO : EPOCH 0 - PROGRESS: at 88.01% examples, 404250 words/s, in_qsize 19, out_qsize 0\n",
      "2023-03-10 15:24:08,569 : INFO : EPOCH 0 - PROGRESS: at 89.41% examples, 403969 words/s, in_qsize 19, out_qsize 0\n",
      "2023-03-10 15:24:09,577 : INFO : EPOCH 0 - PROGRESS: at 90.89% examples, 404132 words/s, in_qsize 19, out_qsize 0\n",
      "2023-03-10 15:24:10,612 : INFO : EPOCH 0 - PROGRESS: at 92.23% examples, 403620 words/s, in_qsize 19, out_qsize 0\n",
      "2023-03-10 15:24:11,624 : INFO : EPOCH 0 - PROGRESS: at 93.58% examples, 403647 words/s, in_qsize 19, out_qsize 0\n",
      "2023-03-10 15:24:12,630 : INFO : EPOCH 0 - PROGRESS: at 94.93% examples, 403534 words/s, in_qsize 19, out_qsize 0\n",
      "2023-03-10 15:24:13,637 : INFO : EPOCH 0 - PROGRESS: at 96.23% examples, 403208 words/s, in_qsize 20, out_qsize 0\n",
      "2023-03-10 15:24:14,647 : INFO : EPOCH 0 - PROGRESS: at 97.51% examples, 402651 words/s, in_qsize 19, out_qsize 0\n",
      "2023-03-10 15:24:15,649 : INFO : EPOCH 0 - PROGRESS: at 98.75% examples, 401980 words/s, in_qsize 19, out_qsize 0\n",
      "2023-03-10 15:24:16,482 : INFO : EPOCH 0: training on 41519360 raw words (30346975 effective words) took 75.4s, 402275 effective words/s\n",
      "2023-03-10 15:24:17,490 : INFO : EPOCH 1 - PROGRESS: at 1.04% examples, 338036 words/s, in_qsize 19, out_qsize 0\n",
      "2023-03-10 15:24:18,504 : INFO : EPOCH 1 - PROGRESS: at 2.35% examples, 368008 words/s, in_qsize 19, out_qsize 0\n",
      "2023-03-10 15:24:19,531 : INFO : EPOCH 1 - PROGRESS: at 3.73% examples, 378916 words/s, in_qsize 19, out_qsize 0\n",
      "2023-03-10 15:24:20,542 : INFO : EPOCH 1 - PROGRESS: at 5.03% examples, 382429 words/s, in_qsize 19, out_qsize 0\n",
      "2023-03-10 15:24:21,544 : INFO : EPOCH 1 - PROGRESS: at 6.30% examples, 384725 words/s, in_qsize 19, out_qsize 0\n",
      "2023-03-10 15:24:22,550 : INFO : EPOCH 1 - PROGRESS: at 7.56% examples, 384966 words/s, in_qsize 19, out_qsize 0\n",
      "2023-03-10 15:24:23,632 : INFO : EPOCH 1 - PROGRESS: at 8.88% examples, 385981 words/s, in_qsize 19, out_qsize 0\n",
      "2023-03-10 15:24:24,640 : INFO : EPOCH 1 - PROGRESS: at 9.90% examples, 386736 words/s, in_qsize 19, out_qsize 0\n",
      "2023-03-10 15:24:25,647 : INFO : EPOCH 1 - PROGRESS: at 10.98% examples, 386639 words/s, in_qsize 19, out_qsize 0\n",
      "2023-03-10 15:24:26,665 : INFO : EPOCH 1 - PROGRESS: at 12.01% examples, 386824 words/s, in_qsize 19, out_qsize 0\n",
      "2023-03-10 15:24:27,670 : INFO : EPOCH 1 - PROGRESS: at 13.11% examples, 386235 words/s, in_qsize 19, out_qsize 0\n",
      "2023-03-10 15:24:28,681 : INFO : EPOCH 1 - PROGRESS: at 14.24% examples, 386035 words/s, in_qsize 19, out_qsize 0\n",
      "2023-03-10 15:24:29,687 : INFO : EPOCH 1 - PROGRESS: at 15.40% examples, 386111 words/s, in_qsize 19, out_qsize 0\n",
      "2023-03-10 15:24:30,706 : INFO : EPOCH 1 - PROGRESS: at 16.41% examples, 383794 words/s, in_qsize 19, out_qsize 0\n",
      "2023-03-10 15:24:31,751 : INFO : EPOCH 1 - PROGRESS: at 17.46% examples, 383061 words/s, in_qsize 19, out_qsize 0\n",
      "2023-03-10 15:24:32,826 : INFO : EPOCH 1 - PROGRESS: at 18.56% examples, 382068 words/s, in_qsize 19, out_qsize 0\n",
      "2023-03-10 15:24:33,849 : INFO : EPOCH 1 - PROGRESS: at 19.55% examples, 382202 words/s, in_qsize 19, out_qsize 0\n",
      "2023-03-10 15:24:34,889 : INFO : EPOCH 1 - PROGRESS: at 20.54% examples, 381612 words/s, in_qsize 19, out_qsize 0\n",
      "2023-03-10 15:24:35,906 : INFO : EPOCH 1 - PROGRESS: at 21.83% examples, 381487 words/s, in_qsize 19, out_qsize 0\n",
      "2023-03-10 15:24:36,917 : INFO : EPOCH 1 - PROGRESS: at 22.88% examples, 381654 words/s, in_qsize 19, out_qsize 0\n",
      "2023-03-10 15:24:37,930 : INFO : EPOCH 1 - PROGRESS: at 23.85% examples, 382081 words/s, in_qsize 19, out_qsize 0\n",
      "2023-03-10 15:24:38,934 : INFO : EPOCH 1 - PROGRESS: at 24.98% examples, 381959 words/s, in_qsize 19, out_qsize 0\n",
      "2023-03-10 15:24:39,969 : INFO : EPOCH 1 - PROGRESS: at 26.41% examples, 381742 words/s, in_qsize 19, out_qsize 0\n",
      "2023-03-10 15:24:40,996 : INFO : EPOCH 1 - PROGRESS: at 27.86% examples, 381340 words/s, in_qsize 19, out_qsize 0\n",
      "2023-03-10 15:24:42,026 : INFO : EPOCH 1 - PROGRESS: at 29.19% examples, 380654 words/s, in_qsize 19, out_qsize 0\n",
      "2023-03-10 15:24:43,035 : INFO : EPOCH 1 - PROGRESS: at 30.57% examples, 381101 words/s, in_qsize 19, out_qsize 0\n",
      "2023-03-10 15:24:44,037 : INFO : EPOCH 1 - PROGRESS: at 32.00% examples, 380905 words/s, in_qsize 19, out_qsize 0\n",
      "2023-03-10 15:24:45,056 : INFO : EPOCH 1 - PROGRESS: at 33.35% examples, 380909 words/s, in_qsize 19, out_qsize 0\n",
      "2023-03-10 15:24:46,069 : INFO : EPOCH 1 - PROGRESS: at 34.58% examples, 380356 words/s, in_qsize 19, out_qsize 0\n",
      "2023-03-10 15:24:47,102 : INFO : EPOCH 1 - PROGRESS: at 35.89% examples, 380043 words/s, in_qsize 19, out_qsize 0\n",
      "2023-03-10 15:24:48,105 : INFO : EPOCH 1 - PROGRESS: at 37.14% examples, 379378 words/s, in_qsize 19, out_qsize 0\n",
      "2023-03-10 15:24:49,107 : INFO : EPOCH 1 - PROGRESS: at 38.53% examples, 379164 words/s, in_qsize 19, out_qsize 0\n",
      "2023-03-10 15:24:50,116 : INFO : EPOCH 1 - PROGRESS: at 39.82% examples, 379161 words/s, in_qsize 19, out_qsize 0\n",
      "2023-03-10 15:24:51,149 : INFO : EPOCH 1 - PROGRESS: at 41.22% examples, 378480 words/s, in_qsize 19, out_qsize 0\n",
      "2023-03-10 15:24:52,155 : INFO : EPOCH 1 - PROGRESS: at 42.58% examples, 378499 words/s, in_qsize 19, out_qsize 0\n",
      "2023-03-10 15:24:53,164 : INFO : EPOCH 1 - PROGRESS: at 44.01% examples, 378715 words/s, in_qsize 19, out_qsize 0\n",
      "2023-03-10 15:24:54,202 : INFO : EPOCH 1 - PROGRESS: at 45.46% examples, 378410 words/s, in_qsize 19, out_qsize 0\n",
      "2023-03-10 15:24:55,226 : INFO : EPOCH 1 - PROGRESS: at 46.76% examples, 378437 words/s, in_qsize 19, out_qsize 0\n",
      "2023-03-10 15:24:56,236 : INFO : EPOCH 1 - PROGRESS: at 47.99% examples, 378081 words/s, in_qsize 19, out_qsize 0\n",
      "2023-03-10 15:24:57,246 : INFO : EPOCH 1 - PROGRESS: at 49.38% examples, 378078 words/s, in_qsize 19, out_qsize 0\n",
      "2023-03-10 15:24:58,253 : INFO : EPOCH 1 - PROGRESS: at 50.68% examples, 378105 words/s, in_qsize 19, out_qsize 0\n",
      "2023-03-10 15:24:59,258 : INFO : EPOCH 1 - PROGRESS: at 51.94% examples, 377938 words/s, in_qsize 19, out_qsize 0\n",
      "2023-03-10 15:25:00,262 : INFO : EPOCH 1 - PROGRESS: at 53.12% examples, 377982 words/s, in_qsize 19, out_qsize 0\n",
      "2023-03-10 15:25:01,265 : INFO : EPOCH 1 - PROGRESS: at 54.39% examples, 377922 words/s, in_qsize 19, out_qsize 0\n",
      "2023-03-10 15:25:02,272 : INFO : EPOCH 1 - PROGRESS: at 55.75% examples, 377651 words/s, in_qsize 19, out_qsize 0\n",
      "2023-03-10 15:25:03,276 : INFO : EPOCH 1 - PROGRESS: at 57.03% examples, 377438 words/s, in_qsize 19, out_qsize 0\n",
      "2023-03-10 15:25:04,333 : INFO : EPOCH 1 - PROGRESS: at 58.25% examples, 376634 words/s, in_qsize 19, out_qsize 0\n",
      "2023-03-10 15:25:05,337 : INFO : EPOCH 1 - PROGRESS: at 59.56% examples, 376589 words/s, in_qsize 19, out_qsize 0\n",
      "2023-03-10 15:25:06,349 : INFO : EPOCH 1 - PROGRESS: at 60.85% examples, 376383 words/s, in_qsize 19, out_qsize 0\n",
      "2023-03-10 15:25:07,352 : INFO : EPOCH 1 - PROGRESS: at 62.06% examples, 376078 words/s, in_qsize 18, out_qsize 1\n",
      "2023-03-10 15:25:08,364 : INFO : EPOCH 1 - PROGRESS: at 63.47% examples, 376116 words/s, in_qsize 19, out_qsize 0\n",
      "2023-03-10 15:25:09,384 : INFO : EPOCH 1 - PROGRESS: at 64.96% examples, 376188 words/s, in_qsize 19, out_qsize 0\n",
      "2023-03-10 15:25:10,406 : INFO : EPOCH 1 - PROGRESS: at 66.17% examples, 376258 words/s, in_qsize 19, out_qsize 0\n",
      "2023-03-10 15:25:11,425 : INFO : EPOCH 1 - PROGRESS: at 67.40% examples, 375909 words/s, in_qsize 19, out_qsize 0\n",
      "2023-03-10 15:25:12,430 : INFO : EPOCH 1 - PROGRESS: at 68.57% examples, 375469 words/s, in_qsize 19, out_qsize 0\n",
      "2023-03-10 15:25:13,449 : INFO : EPOCH 1 - PROGRESS: at 69.79% examples, 375196 words/s, in_qsize 19, out_qsize 0\n",
      "2023-03-10 15:25:14,471 : INFO : EPOCH 1 - PROGRESS: at 70.92% examples, 374920 words/s, in_qsize 19, out_qsize 0\n",
      "2023-03-10 15:25:15,489 : INFO : EPOCH 1 - PROGRESS: at 72.14% examples, 374576 words/s, in_qsize 19, out_qsize 0\n",
      "2023-03-10 15:25:16,535 : INFO : EPOCH 1 - PROGRESS: at 73.56% examples, 374397 words/s, in_qsize 19, out_qsize 0\n",
      "2023-03-10 15:25:17,590 : INFO : EPOCH 1 - PROGRESS: at 74.84% examples, 374172 words/s, in_qsize 19, out_qsize 0\n",
      "2023-03-10 15:25:18,591 : INFO : EPOCH 1 - PROGRESS: at 75.97% examples, 374069 words/s, in_qsize 19, out_qsize 0\n",
      "2023-03-10 15:25:19,603 : INFO : EPOCH 1 - PROGRESS: at 77.06% examples, 373646 words/s, in_qsize 19, out_qsize 0\n",
      "2023-03-10 15:25:20,611 : INFO : EPOCH 1 - PROGRESS: at 78.23% examples, 373615 words/s, in_qsize 19, out_qsize 0\n",
      "2023-03-10 15:25:21,668 : INFO : EPOCH 1 - PROGRESS: at 79.47% examples, 373293 words/s, in_qsize 19, out_qsize 0\n",
      "2023-03-10 15:25:22,688 : INFO : EPOCH 1 - PROGRESS: at 80.66% examples, 373200 words/s, in_qsize 19, out_qsize 0\n",
      "2023-03-10 15:25:23,695 : INFO : EPOCH 1 - PROGRESS: at 81.97% examples, 373394 words/s, in_qsize 19, out_qsize 0\n",
      "2023-03-10 15:25:24,701 : INFO : EPOCH 1 - PROGRESS: at 83.29% examples, 373591 words/s, in_qsize 19, out_qsize 0\n",
      "2023-03-10 15:25:25,712 : INFO : EPOCH 1 - PROGRESS: at 84.47% examples, 373627 words/s, in_qsize 19, out_qsize 0\n",
      "2023-03-10 15:25:26,725 : INFO : EPOCH 1 - PROGRESS: at 85.67% examples, 373449 words/s, in_qsize 19, out_qsize 0\n",
      "2023-03-10 15:25:27,738 : INFO : EPOCH 1 - PROGRESS: at 86.94% examples, 373206 words/s, in_qsize 19, out_qsize 0\n",
      "2023-03-10 15:25:28,744 : INFO : EPOCH 1 - PROGRESS: at 88.30% examples, 373194 words/s, in_qsize 19, out_qsize 0\n",
      "2023-03-10 15:25:29,752 : INFO : EPOCH 1 - PROGRESS: at 89.66% examples, 373301 words/s, in_qsize 19, out_qsize 0\n",
      "2023-03-10 15:25:30,758 : INFO : EPOCH 1 - PROGRESS: at 90.95% examples, 373207 words/s, in_qsize 19, out_qsize 0\n",
      "2023-03-10 15:25:31,778 : INFO : EPOCH 1 - PROGRESS: at 92.29% examples, 373138 words/s, in_qsize 19, out_qsize 0\n",
      "2023-03-10 15:25:32,813 : INFO : EPOCH 1 - PROGRESS: at 93.52% examples, 373076 words/s, in_qsize 20, out_qsize 0\n",
      "2023-03-10 15:25:33,839 : INFO : EPOCH 1 - PROGRESS: at 94.73% examples, 372711 words/s, in_qsize 19, out_qsize 0\n",
      "2023-03-10 15:25:34,840 : INFO : EPOCH 1 - PROGRESS: at 95.97% examples, 372559 words/s, in_qsize 19, out_qsize 0\n",
      "2023-03-10 15:25:35,875 : INFO : EPOCH 1 - PROGRESS: at 97.24% examples, 372224 words/s, in_qsize 19, out_qsize 0\n",
      "2023-03-10 15:25:36,881 : INFO : EPOCH 1 - PROGRESS: at 98.47% examples, 372051 words/s, in_qsize 19, out_qsize 0\n",
      "2023-03-10 15:25:37,883 : INFO : EPOCH 1 - PROGRESS: at 99.76% examples, 371993 words/s, in_qsize 10, out_qsize 0\n",
      "2023-03-10 15:25:37,995 : INFO : EPOCH 1: training on 41519360 raw words (30348131 effective words) took 81.5s, 372322 effective words/s\n",
      "2023-03-10 15:25:39,005 : INFO : EPOCH 2 - PROGRESS: at 1.00% examples, 323635 words/s, in_qsize 20, out_qsize 0\n",
      "2023-03-10 15:25:40,011 : INFO : EPOCH 2 - PROGRESS: at 2.20% examples, 348216 words/s, in_qsize 19, out_qsize 0\n",
      "2023-03-10 15:25:41,016 : INFO : EPOCH 2 - PROGRESS: at 3.46% examples, 356365 words/s, in_qsize 19, out_qsize 0\n",
      "2023-03-10 15:25:42,022 : INFO : EPOCH 2 - PROGRESS: at 4.66% examples, 357225 words/s, in_qsize 19, out_qsize 0\n",
      "2023-03-10 15:25:43,025 : INFO : EPOCH 2 - PROGRESS: at 5.80% examples, 356025 words/s, in_qsize 19, out_qsize 0\n",
      "2023-03-10 15:25:44,052 : INFO : EPOCH 2 - PROGRESS: at 6.98% examples, 355063 words/s, in_qsize 19, out_qsize 0\n",
      "2023-03-10 15:25:45,053 : INFO : EPOCH 2 - PROGRESS: at 8.14% examples, 357653 words/s, in_qsize 19, out_qsize 0\n",
      "2023-03-10 15:25:46,057 : INFO : EPOCH 2 - PROGRESS: at 9.24% examples, 357620 words/s, in_qsize 19, out_qsize 0\n",
      "2023-03-10 15:25:47,133 : INFO : EPOCH 2 - PROGRESS: at 10.17% examples, 355631 words/s, in_qsize 18, out_qsize 1\n",
      "2023-03-10 15:25:48,142 : INFO : EPOCH 2 - PROGRESS: at 11.13% examples, 354998 words/s, in_qsize 19, out_qsize 0\n",
      "2023-03-10 15:25:49,203 : INFO : EPOCH 2 - PROGRESS: at 12.05% examples, 352778 words/s, in_qsize 19, out_qsize 0\n",
      "2023-03-10 15:25:50,230 : INFO : EPOCH 2 - PROGRESS: at 13.11% examples, 353196 words/s, in_qsize 19, out_qsize 0\n",
      "2023-03-10 15:25:51,262 : INFO : EPOCH 2 - PROGRESS: at 14.18% examples, 353360 words/s, in_qsize 19, out_qsize 0\n",
      "2023-03-10 15:25:52,266 : INFO : EPOCH 2 - PROGRESS: at 15.20% examples, 353246 words/s, in_qsize 19, out_qsize 0\n",
      "2023-03-10 15:25:53,294 : INFO : EPOCH 2 - PROGRESS: at 16.23% examples, 352161 words/s, in_qsize 19, out_qsize 0\n",
      "2023-03-10 15:25:54,297 : INFO : EPOCH 2 - PROGRESS: at 17.14% examples, 351719 words/s, in_qsize 19, out_qsize 0\n",
      "2023-03-10 15:25:55,302 : INFO : EPOCH 2 - PROGRESS: at 18.02% examples, 350014 words/s, in_qsize 19, out_qsize 0\n",
      "2023-03-10 15:25:56,313 : INFO : EPOCH 2 - PROGRESS: at 18.96% examples, 349485 words/s, in_qsize 19, out_qsize 0\n",
      "2023-03-10 15:25:57,327 : INFO : EPOCH 2 - PROGRESS: at 19.85% examples, 349285 words/s, in_qsize 19, out_qsize 0\n",
      "2023-03-10 15:25:58,365 : INFO : EPOCH 2 - PROGRESS: at 20.70% examples, 348374 words/s, in_qsize 18, out_qsize 1\n",
      "2023-03-10 15:25:59,367 : INFO : EPOCH 2 - PROGRESS: at 21.94% examples, 348721 words/s, in_qsize 19, out_qsize 0\n",
      "2023-03-10 15:26:00,391 : INFO : EPOCH 2 - PROGRESS: at 22.86% examples, 347898 words/s, in_qsize 19, out_qsize 0\n",
      "2023-03-10 15:26:01,476 : INFO : EPOCH 2 - PROGRESS: at 23.78% examples, 347747 words/s, in_qsize 19, out_qsize 0\n",
      "2023-03-10 15:26:02,493 : INFO : EPOCH 2 - PROGRESS: at 24.75% examples, 347995 words/s, in_qsize 19, out_qsize 0\n",
      "2023-03-10 15:26:03,502 : INFO : EPOCH 2 - PROGRESS: at 26.16% examples, 348949 words/s, in_qsize 19, out_qsize 0\n",
      "2023-03-10 15:26:04,511 : INFO : EPOCH 2 - PROGRESS: at 27.58% examples, 349855 words/s, in_qsize 19, out_qsize 0\n",
      "2023-03-10 15:26:05,537 : INFO : EPOCH 2 - PROGRESS: at 28.80% examples, 349128 words/s, in_qsize 18, out_qsize 1\n",
      "2023-03-10 15:26:06,559 : INFO : EPOCH 2 - PROGRESS: at 30.12% examples, 349990 words/s, in_qsize 19, out_qsize 0\n",
      "2023-03-10 15:26:07,578 : INFO : EPOCH 2 - PROGRESS: at 31.62% examples, 351121 words/s, in_qsize 20, out_qsize 0\n",
      "2023-03-10 15:26:08,600 : INFO : EPOCH 2 - PROGRESS: at 32.93% examples, 351412 words/s, in_qsize 19, out_qsize 0\n",
      "2023-03-10 15:26:09,606 : INFO : EPOCH 2 - PROGRESS: at 34.05% examples, 351439 words/s, in_qsize 19, out_qsize 0\n",
      "2023-03-10 15:26:10,623 : INFO : EPOCH 2 - PROGRESS: at 35.25% examples, 351119 words/s, in_qsize 19, out_qsize 0\n",
      "2023-03-10 15:26:11,625 : INFO : EPOCH 2 - PROGRESS: at 36.59% examples, 351587 words/s, in_qsize 19, out_qsize 0\n",
      "2023-03-10 15:26:12,629 : INFO : EPOCH 2 - PROGRESS: at 37.74% examples, 351159 words/s, in_qsize 19, out_qsize 0\n",
      "2023-03-10 15:26:13,632 : INFO : EPOCH 2 - PROGRESS: at 39.08% examples, 351581 words/s, in_qsize 19, out_qsize 0\n",
      "2023-03-10 15:26:14,643 : INFO : EPOCH 2 - PROGRESS: at 40.39% examples, 352107 words/s, in_qsize 19, out_qsize 0\n",
      "2023-03-10 15:26:15,673 : INFO : EPOCH 2 - PROGRESS: at 41.76% examples, 351880 words/s, in_qsize 20, out_qsize 0\n",
      "2023-03-10 15:26:16,740 : INFO : EPOCH 2 - PROGRESS: at 43.04% examples, 351828 words/s, in_qsize 19, out_qsize 0\n",
      "2023-03-10 15:26:17,773 : INFO : EPOCH 2 - PROGRESS: at 44.51% examples, 352503 words/s, in_qsize 19, out_qsize 0\n",
      "2023-03-10 15:26:18,818 : INFO : EPOCH 2 - PROGRESS: at 45.91% examples, 352827 words/s, in_qsize 19, out_qsize 2\n",
      "2023-03-10 15:26:19,874 : INFO : EPOCH 2 - PROGRESS: at 47.18% examples, 353219 words/s, in_qsize 19, out_qsize 0\n",
      "2023-03-10 15:26:20,938 : INFO : EPOCH 2 - PROGRESS: at 48.54% examples, 353541 words/s, in_qsize 19, out_qsize 0\n",
      "2023-03-10 15:26:21,940 : INFO : EPOCH 2 - PROGRESS: at 49.75% examples, 353344 words/s, in_qsize 19, out_qsize 0\n",
      "2023-03-10 15:26:22,945 : INFO : EPOCH 2 - PROGRESS: at 51.01% examples, 353461 words/s, in_qsize 19, out_qsize 0\n",
      "2023-03-10 15:26:23,978 : INFO : EPOCH 2 - PROGRESS: at 52.25% examples, 353623 words/s, in_qsize 20, out_qsize 0\n",
      "2023-03-10 15:26:25,031 : INFO : EPOCH 2 - PROGRESS: at 53.42% examples, 353659 words/s, in_qsize 19, out_qsize 0\n",
      "2023-03-10 15:26:26,036 : INFO : EPOCH 2 - PROGRESS: at 54.67% examples, 354112 words/s, in_qsize 19, out_qsize 0\n",
      "2023-03-10 15:26:27,045 : INFO : EPOCH 2 - PROGRESS: at 56.00% examples, 353890 words/s, in_qsize 19, out_qsize 0\n",
      "2023-03-10 15:26:28,075 : INFO : EPOCH 2 - PROGRESS: at 57.29% examples, 354119 words/s, in_qsize 19, out_qsize 0\n",
      "2023-03-10 15:26:29,094 : INFO : EPOCH 2 - PROGRESS: at 58.51% examples, 354251 words/s, in_qsize 19, out_qsize 0\n",
      "2023-03-10 15:26:30,099 : INFO : EPOCH 2 - PROGRESS: at 59.80% examples, 354367 words/s, in_qsize 19, out_qsize 0\n",
      "2023-03-10 15:26:31,145 : INFO : EPOCH 2 - PROGRESS: at 61.05% examples, 354216 words/s, in_qsize 19, out_qsize 0\n",
      "2023-03-10 15:26:32,216 : INFO : EPOCH 2 - PROGRESS: at 62.31% examples, 354164 words/s, in_qsize 19, out_qsize 0\n",
      "2023-03-10 15:26:33,224 : INFO : EPOCH 2 - PROGRESS: at 63.68% examples, 354236 words/s, in_qsize 19, out_qsize 0\n",
      "2023-03-10 15:26:34,241 : INFO : EPOCH 2 - PROGRESS: at 65.00% examples, 354085 words/s, in_qsize 19, out_qsize 0\n",
      "2023-03-10 15:26:35,280 : INFO : EPOCH 2 - PROGRESS: at 66.13% examples, 354067 words/s, in_qsize 19, out_qsize 0\n",
      "2023-03-10 15:26:36,288 : INFO : EPOCH 2 - PROGRESS: at 67.40% examples, 354313 words/s, in_qsize 19, out_qsize 0\n",
      "2023-03-10 15:26:37,295 : INFO : EPOCH 2 - PROGRESS: at 68.55% examples, 354135 words/s, in_qsize 19, out_qsize 0\n",
      "2023-03-10 15:26:38,315 : INFO : EPOCH 2 - PROGRESS: at 69.78% examples, 354338 words/s, in_qsize 19, out_qsize 0\n",
      "2023-03-10 15:26:39,323 : INFO : EPOCH 2 - PROGRESS: at 70.90% examples, 354399 words/s, in_qsize 19, out_qsize 0\n",
      "2023-03-10 15:26:40,328 : INFO : EPOCH 2 - PROGRESS: at 72.14% examples, 354597 words/s, in_qsize 19, out_qsize 0\n",
      "2023-03-10 15:26:41,350 : INFO : EPOCH 2 - PROGRESS: at 73.47% examples, 354545 words/s, in_qsize 19, out_qsize 0\n",
      "2023-03-10 15:26:42,389 : INFO : EPOCH 2 - PROGRESS: at 74.74% examples, 354521 words/s, in_qsize 20, out_qsize 0\n",
      "2023-03-10 15:26:43,409 : INFO : EPOCH 2 - PROGRESS: at 75.87% examples, 354621 words/s, in_qsize 19, out_qsize 0\n",
      "2023-03-10 15:26:44,410 : INFO : EPOCH 2 - PROGRESS: at 77.03% examples, 354909 words/s, in_qsize 19, out_qsize 0\n",
      "2023-03-10 15:26:45,423 : INFO : EPOCH 2 - PROGRESS: at 78.12% examples, 354796 words/s, in_qsize 19, out_qsize 0\n",
      "2023-03-10 15:26:46,429 : INFO : EPOCH 2 - PROGRESS: at 79.33% examples, 354838 words/s, in_qsize 19, out_qsize 0\n",
      "2023-03-10 15:26:47,438 : INFO : EPOCH 2 - PROGRESS: at 80.50% examples, 354984 words/s, in_qsize 19, out_qsize 0\n",
      "2023-03-10 15:26:48,457 : INFO : EPOCH 2 - PROGRESS: at 81.72% examples, 355145 words/s, in_qsize 19, out_qsize 0\n",
      "2023-03-10 15:26:49,468 : INFO : EPOCH 2 - PROGRESS: at 82.94% examples, 355169 words/s, in_qsize 19, out_qsize 0\n",
      "2023-03-10 15:26:50,472 : INFO : EPOCH 2 - PROGRESS: at 84.12% examples, 355215 words/s, in_qsize 19, out_qsize 0\n",
      "2023-03-10 15:26:51,477 : INFO : EPOCH 2 - PROGRESS: at 85.27% examples, 355434 words/s, in_qsize 19, out_qsize 0\n",
      "2023-03-10 15:26:52,497 : INFO : EPOCH 2 - PROGRESS: at 86.53% examples, 355397 words/s, in_qsize 19, out_qsize 0\n",
      "2023-03-10 15:26:53,513 : INFO : EPOCH 2 - PROGRESS: at 87.83% examples, 355302 words/s, in_qsize 19, out_qsize 0\n",
      "2023-03-10 15:26:54,520 : INFO : EPOCH 2 - PROGRESS: at 89.15% examples, 355535 words/s, in_qsize 19, out_qsize 0\n",
      "2023-03-10 15:26:55,536 : INFO : EPOCH 2 - PROGRESS: at 90.39% examples, 355454 words/s, in_qsize 19, out_qsize 0\n",
      "2023-03-10 15:26:56,604 : INFO : EPOCH 2 - PROGRESS: at 91.71% examples, 355396 words/s, in_qsize 19, out_qsize 0\n",
      "2023-03-10 15:26:57,613 : INFO : EPOCH 2 - PROGRESS: at 92.91% examples, 355415 words/s, in_qsize 19, out_qsize 0\n",
      "2023-03-10 15:26:58,632 : INFO : EPOCH 2 - PROGRESS: at 94.21% examples, 355581 words/s, in_qsize 19, out_qsize 0\n",
      "2023-03-10 15:26:59,636 : INFO : EPOCH 2 - PROGRESS: at 95.40% examples, 355453 words/s, in_qsize 19, out_qsize 0\n",
      "2023-03-10 15:27:00,662 : INFO : EPOCH 2 - PROGRESS: at 96.63% examples, 355493 words/s, in_qsize 19, out_qsize 0\n",
      "2023-03-10 15:27:01,673 : INFO : EPOCH 2 - PROGRESS: at 97.85% examples, 355399 words/s, in_qsize 19, out_qsize 0\n",
      "2023-03-10 15:27:02,715 : INFO : EPOCH 2 - PROGRESS: at 99.13% examples, 355304 words/s, in_qsize 19, out_qsize 0\n",
      "2023-03-10 15:27:03,358 : INFO : EPOCH 2: training on 41519360 raw words (30348531 effective words) took 85.4s, 355538 effective words/s\n",
      "2023-03-10 15:27:04,439 : INFO : EPOCH 3 - PROGRESS: at 0.94% examples, 288690 words/s, in_qsize 19, out_qsize 0\n",
      "2023-03-10 15:27:05,464 : INFO : EPOCH 3 - PROGRESS: at 2.04% examples, 305701 words/s, in_qsize 19, out_qsize 0\n",
      "2023-03-10 15:27:06,520 : INFO : EPOCH 3 - PROGRESS: at 3.25% examples, 319873 words/s, in_qsize 19, out_qsize 0\n",
      "2023-03-10 15:27:07,527 : INFO : EPOCH 3 - PROGRESS: at 4.43% examples, 327446 words/s, in_qsize 19, out_qsize 0\n",
      "2023-03-10 15:27:08,555 : INFO : EPOCH 3 - PROGRESS: at 5.57% examples, 330517 words/s, in_qsize 19, out_qsize 0\n",
      "2023-03-10 15:27:09,605 : INFO : EPOCH 3 - PROGRESS: at 6.82% examples, 335976 words/s, in_qsize 20, out_qsize 0\n",
      "2023-03-10 15:27:10,625 : INFO : EPOCH 3 - PROGRESS: at 7.97% examples, 340366 words/s, in_qsize 19, out_qsize 0\n",
      "2023-03-10 15:27:11,626 : INFO : EPOCH 3 - PROGRESS: at 9.03% examples, 340910 words/s, in_qsize 19, out_qsize 0\n",
      "2023-03-10 15:27:12,628 : INFO : EPOCH 3 - PROGRESS: at 9.96% examples, 342734 words/s, in_qsize 19, out_qsize 0\n",
      "2023-03-10 15:27:13,652 : INFO : EPOCH 3 - PROGRESS: at 10.96% examples, 343614 words/s, in_qsize 19, out_qsize 0\n",
      "2023-03-10 15:27:14,655 : INFO : EPOCH 3 - PROGRESS: at 11.88% examples, 344263 words/s, in_qsize 19, out_qsize 0\n",
      "2023-03-10 15:27:15,661 : INFO : EPOCH 3 - PROGRESS: at 12.84% examples, 344747 words/s, in_qsize 19, out_qsize 0\n",
      "2023-03-10 15:27:16,674 : INFO : EPOCH 3 - PROGRESS: at 13.92% examples, 345552 words/s, in_qsize 19, out_qsize 0\n",
      "2023-03-10 15:27:17,682 : INFO : EPOCH 3 - PROGRESS: at 14.98% examples, 346914 words/s, in_qsize 19, out_qsize 0\n",
      "2023-03-10 15:27:18,684 : INFO : EPOCH 3 - PROGRESS: at 16.03% examples, 347389 words/s, in_qsize 19, out_qsize 0\n",
      "2023-03-10 15:27:19,695 : INFO : EPOCH 3 - PROGRESS: at 17.03% examples, 347872 words/s, in_qsize 19, out_qsize 0\n",
      "2023-03-10 15:27:20,714 : INFO : EPOCH 3 - PROGRESS: at 17.92% examples, 347011 words/s, in_qsize 19, out_qsize 0\n",
      "2023-03-10 15:27:21,741 : INFO : EPOCH 3 - PROGRESS: at 18.93% examples, 347511 words/s, in_qsize 19, out_qsize 0\n",
      "2023-03-10 15:27:22,742 : INFO : EPOCH 3 - PROGRESS: at 19.78% examples, 347278 words/s, in_qsize 19, out_qsize 0\n",
      "2023-03-10 15:27:23,751 : INFO : EPOCH 3 - PROGRESS: at 20.64% examples, 346958 words/s, in_qsize 19, out_qsize 0\n",
      "2023-03-10 15:27:24,779 : INFO : EPOCH 3 - PROGRESS: at 21.90% examples, 347297 words/s, in_qsize 19, out_qsize 0\n",
      "2023-03-10 15:27:25,801 : INFO : EPOCH 3 - PROGRESS: at 22.88% examples, 347518 words/s, in_qsize 19, out_qsize 0\n",
      "2023-03-10 15:27:26,848 : INFO : EPOCH 3 - PROGRESS: at 23.71% examples, 346435 words/s, in_qsize 19, out_qsize 1\n",
      "2023-03-10 15:27:27,857 : INFO : EPOCH 3 - PROGRESS: at 24.60% examples, 346232 words/s, in_qsize 19, out_qsize 0\n",
      "2023-03-10 15:27:28,867 : INFO : EPOCH 3 - PROGRESS: at 25.93% examples, 346653 words/s, in_qsize 19, out_qsize 0\n",
      "2023-03-10 15:27:29,889 : INFO : EPOCH 3 - PROGRESS: at 27.24% examples, 346389 words/s, in_qsize 19, out_qsize 0\n",
      "2023-03-10 15:27:30,909 : INFO : EPOCH 3 - PROGRESS: at 28.54% examples, 346418 words/s, in_qsize 19, out_qsize 0\n",
      "2023-03-10 15:27:31,957 : INFO : EPOCH 3 - PROGRESS: at 29.80% examples, 346027 words/s, in_qsize 19, out_qsize 0\n",
      "2023-03-10 15:27:32,976 : INFO : EPOCH 3 - PROGRESS: at 31.14% examples, 346595 words/s, in_qsize 19, out_qsize 0\n",
      "2023-03-10 15:27:34,019 : INFO : EPOCH 3 - PROGRESS: at 32.27% examples, 344879 words/s, in_qsize 19, out_qsize 1\n",
      "2023-03-10 15:27:35,023 : INFO : EPOCH 3 - PROGRESS: at 33.56% examples, 345790 words/s, in_qsize 19, out_qsize 0\n",
      "2023-03-10 15:27:36,054 : INFO : EPOCH 3 - PROGRESS: at 34.67% examples, 345072 words/s, in_qsize 20, out_qsize 0\n",
      "2023-03-10 15:27:37,056 : INFO : EPOCH 3 - PROGRESS: at 35.89% examples, 345324 words/s, in_qsize 19, out_qsize 0\n",
      "2023-03-10 15:27:38,063 : INFO : EPOCH 3 - PROGRESS: at 37.10% examples, 345257 words/s, in_qsize 19, out_qsize 0\n",
      "2023-03-10 15:27:39,081 : INFO : EPOCH 3 - PROGRESS: at 38.38% examples, 345253 words/s, in_qsize 19, out_qsize 0\n",
      "2023-03-10 15:27:40,086 : INFO : EPOCH 3 - PROGRESS: at 39.58% examples, 345249 words/s, in_qsize 19, out_qsize 0\n",
      "2023-03-10 15:27:41,100 : INFO : EPOCH 3 - PROGRESS: at 40.78% examples, 344952 words/s, in_qsize 19, out_qsize 0\n",
      "2023-03-10 15:27:42,171 : INFO : EPOCH 3 - PROGRESS: at 42.22% examples, 344882 words/s, in_qsize 19, out_qsize 0\n",
      "2023-03-10 15:27:43,173 : INFO : EPOCH 3 - PROGRESS: at 43.44% examples, 345079 words/s, in_qsize 19, out_qsize 0\n",
      "2023-03-10 15:27:44,179 : INFO : EPOCH 3 - PROGRESS: at 44.73% examples, 344886 words/s, in_qsize 20, out_qsize 0\n",
      "2023-03-10 15:27:45,201 : INFO : EPOCH 3 - PROGRESS: at 45.99% examples, 344742 words/s, in_qsize 19, out_qsize 0\n",
      "2023-03-10 15:27:46,255 : INFO : EPOCH 3 - PROGRESS: at 47.18% examples, 344829 words/s, in_qsize 19, out_qsize 0\n",
      "2023-03-10 15:27:47,262 : INFO : EPOCH 3 - PROGRESS: at 48.41% examples, 344959 words/s, in_qsize 19, out_qsize 0\n",
      "2023-03-10 15:27:48,311 : INFO : EPOCH 3 - PROGRESS: at 49.63% examples, 344597 words/s, in_qsize 16, out_qsize 3\n",
      "2023-03-10 15:27:49,359 : INFO : EPOCH 3 - PROGRESS: at 50.90% examples, 344591 words/s, in_qsize 19, out_qsize 0\n",
      "2023-03-10 15:27:50,369 : INFO : EPOCH 3 - PROGRESS: at 51.97% examples, 344034 words/s, in_qsize 19, out_qsize 0\n",
      "2023-03-10 15:27:51,406 : INFO : EPOCH 3 - PROGRESS: at 52.96% examples, 343335 words/s, in_qsize 19, out_qsize 0\n",
      "2023-03-10 15:27:52,411 : INFO : EPOCH 3 - PROGRESS: at 53.96% examples, 342324 words/s, in_qsize 19, out_qsize 0\n",
      "2023-03-10 15:27:53,413 : INFO : EPOCH 3 - PROGRESS: at 55.00% examples, 341566 words/s, in_qsize 19, out_qsize 0\n",
      "2023-03-10 15:27:54,438 : INFO : EPOCH 3 - PROGRESS: at 56.29% examples, 341638 words/s, in_qsize 19, out_qsize 0\n",
      "2023-03-10 15:27:55,451 : INFO : EPOCH 3 - PROGRESS: at 57.44% examples, 341251 words/s, in_qsize 19, out_qsize 0\n",
      "2023-03-10 15:27:56,471 : INFO : EPOCH 3 - PROGRESS: at 58.51% examples, 340798 words/s, in_qsize 19, out_qsize 0\n",
      "2023-03-10 15:27:57,499 : INFO : EPOCH 3 - PROGRESS: at 59.72% examples, 340612 words/s, in_qsize 19, out_qsize 0\n",
      "2023-03-10 15:27:58,503 : INFO : EPOCH 3 - PROGRESS: at 60.78% examples, 339956 words/s, in_qsize 19, out_qsize 0\n",
      "2023-03-10 15:27:59,518 : INFO : EPOCH 3 - PROGRESS: at 61.78% examples, 339213 words/s, in_qsize 19, out_qsize 0\n",
      "2023-03-10 15:28:00,546 : INFO : EPOCH 3 - PROGRESS: at 62.92% examples, 338809 words/s, in_qsize 19, out_qsize 0\n",
      "2023-03-10 15:28:01,624 : INFO : EPOCH 3 - PROGRESS: at 64.21% examples, 338115 words/s, in_qsize 19, out_qsize 0\n",
      "2023-03-10 15:28:02,667 : INFO : EPOCH 3 - PROGRESS: at 65.41% examples, 338106 words/s, in_qsize 19, out_qsize 0\n",
      "2023-03-10 15:28:03,715 : INFO : EPOCH 3 - PROGRESS: at 66.41% examples, 337340 words/s, in_qsize 19, out_qsize 0\n",
      "2023-03-10 15:28:04,718 : INFO : EPOCH 3 - PROGRESS: at 67.46% examples, 336840 words/s, in_qsize 19, out_qsize 0\n",
      "2023-03-10 15:28:05,777 : INFO : EPOCH 3 - PROGRESS: at 68.62% examples, 336668 words/s, in_qsize 19, out_qsize 0\n",
      "2023-03-10 15:28:06,783 : INFO : EPOCH 3 - PROGRESS: at 69.75% examples, 336884 words/s, in_qsize 19, out_qsize 0\n",
      "2023-03-10 15:28:07,796 : INFO : EPOCH 3 - PROGRESS: at 70.81% examples, 336739 words/s, in_qsize 19, out_qsize 0\n",
      "2023-03-10 15:28:08,798 : INFO : EPOCH 3 - PROGRESS: at 71.90% examples, 336765 words/s, in_qsize 19, out_qsize 0\n",
      "2023-03-10 15:28:09,803 : INFO : EPOCH 3 - PROGRESS: at 73.10% examples, 336661 words/s, in_qsize 19, out_qsize 0\n",
      "2023-03-10 15:28:10,814 : INFO : EPOCH 3 - PROGRESS: at 74.35% examples, 336732 words/s, in_qsize 19, out_qsize 0\n",
      "2023-03-10 15:28:11,829 : INFO : EPOCH 3 - PROGRESS: at 75.43% examples, 336698 words/s, in_qsize 19, out_qsize 0\n",
      "2023-03-10 15:28:12,840 : INFO : EPOCH 3 - PROGRESS: at 76.48% examples, 336968 words/s, in_qsize 19, out_qsize 0\n",
      "2023-03-10 15:28:13,864 : INFO : EPOCH 3 - PROGRESS: at 77.50% examples, 336574 words/s, in_qsize 19, out_qsize 0\n",
      "2023-03-10 15:28:14,909 : INFO : EPOCH 3 - PROGRESS: at 78.63% examples, 336479 words/s, in_qsize 19, out_qsize 0\n",
      "2023-03-10 15:28:15,914 : INFO : EPOCH 3 - PROGRESS: at 79.69% examples, 336290 words/s, in_qsize 18, out_qsize 1\n",
      "2023-03-10 15:28:16,930 : INFO : EPOCH 3 - PROGRESS: at 80.70% examples, 336045 words/s, in_qsize 19, out_qsize 0\n",
      "2023-03-10 15:28:17,976 : INFO : EPOCH 3 - PROGRESS: at 81.73% examples, 335489 words/s, in_qsize 19, out_qsize 0\n",
      "2023-03-10 15:28:18,986 : INFO : EPOCH 3 - PROGRESS: at 82.88% examples, 335396 words/s, in_qsize 19, out_qsize 0\n",
      "2023-03-10 15:28:20,018 : INFO : EPOCH 3 - PROGRESS: at 83.93% examples, 335106 words/s, in_qsize 19, out_qsize 0\n",
      "2023-03-10 15:28:21,021 : INFO : EPOCH 3 - PROGRESS: at 84.91% examples, 334934 words/s, in_qsize 19, out_qsize 0\n",
      "2023-03-10 15:28:22,041 : INFO : EPOCH 3 - PROGRESS: at 86.04% examples, 334886 words/s, in_qsize 19, out_qsize 0\n",
      "2023-03-10 15:28:23,064 : INFO : EPOCH 3 - PROGRESS: at 87.28% examples, 334839 words/s, in_qsize 19, out_qsize 0\n",
      "2023-03-10 15:28:24,072 : INFO : EPOCH 3 - PROGRESS: at 88.49% examples, 334771 words/s, in_qsize 19, out_qsize 0\n",
      "2023-03-10 15:28:25,077 : INFO : EPOCH 3 - PROGRESS: at 89.66% examples, 334730 words/s, in_qsize 19, out_qsize 0\n",
      "2023-03-10 15:28:26,086 : INFO : EPOCH 3 - PROGRESS: at 90.88% examples, 334841 words/s, in_qsize 19, out_qsize 0\n",
      "2023-03-10 15:28:27,087 : INFO : EPOCH 3 - PROGRESS: at 92.10% examples, 334978 words/s, in_qsize 19, out_qsize 0\n",
      "2023-03-10 15:28:28,124 : INFO : EPOCH 3 - PROGRESS: at 93.22% examples, 335042 words/s, in_qsize 19, out_qsize 0\n",
      "2023-03-10 15:28:29,130 : INFO : EPOCH 3 - PROGRESS: at 94.41% examples, 334990 words/s, in_qsize 19, out_qsize 0\n",
      "2023-03-10 15:28:30,140 : INFO : EPOCH 3 - PROGRESS: at 95.54% examples, 334839 words/s, in_qsize 19, out_qsize 0\n",
      "2023-03-10 15:28:31,154 : INFO : EPOCH 3 - PROGRESS: at 96.65% examples, 334832 words/s, in_qsize 19, out_qsize 0\n",
      "2023-03-10 15:28:32,165 : INFO : EPOCH 3 - PROGRESS: at 97.81% examples, 334735 words/s, in_qsize 19, out_qsize 0\n",
      "2023-03-10 15:28:33,165 : INFO : EPOCH 3 - PROGRESS: at 99.00% examples, 334794 words/s, in_qsize 19, out_qsize 0\n",
      "2023-03-10 15:28:33,931 : INFO : EPOCH 3: training on 41519360 raw words (30350055 effective words) took 90.6s, 335105 effective words/s\n",
      "2023-03-10 15:28:34,976 : INFO : EPOCH 4 - PROGRESS: at 0.94% examples, 298942 words/s, in_qsize 19, out_qsize 0\n",
      "2023-03-10 15:28:35,981 : INFO : EPOCH 4 - PROGRESS: at 1.99% examples, 307026 words/s, in_qsize 19, out_qsize 0\n",
      "2023-03-10 15:28:37,002 : INFO : EPOCH 4 - PROGRESS: at 3.22% examples, 324739 words/s, in_qsize 19, out_qsize 0\n",
      "2023-03-10 15:28:38,008 : INFO : EPOCH 4 - PROGRESS: at 4.30% examples, 324255 words/s, in_qsize 19, out_qsize 0\n",
      "2023-03-10 15:28:39,013 : INFO : EPOCH 4 - PROGRESS: at 5.29% examples, 322687 words/s, in_qsize 19, out_qsize 0\n",
      "2023-03-10 15:28:40,016 : INFO : EPOCH 4 - PROGRESS: at 6.38% examples, 323685 words/s, in_qsize 19, out_qsize 0\n",
      "2023-03-10 15:28:41,082 : INFO : EPOCH 4 - PROGRESS: at 7.40% examples, 319731 words/s, in_qsize 19, out_qsize 0\n",
      "2023-03-10 15:28:42,095 : INFO : EPOCH 4 - PROGRESS: at 8.51% examples, 322321 words/s, in_qsize 19, out_qsize 0\n",
      "2023-03-10 15:28:43,123 : INFO : EPOCH 4 - PROGRESS: at 9.45% examples, 322291 words/s, in_qsize 19, out_qsize 0\n",
      "2023-03-10 15:28:44,123 : INFO : EPOCH 4 - PROGRESS: at 10.31% examples, 323779 words/s, in_qsize 19, out_qsize 0\n",
      "2023-03-10 15:28:45,128 : INFO : EPOCH 4 - PROGRESS: at 11.11% examples, 321019 words/s, in_qsize 19, out_qsize 0\n",
      "2023-03-10 15:28:46,164 : INFO : EPOCH 4 - PROGRESS: at 11.94% examples, 319650 words/s, in_qsize 20, out_qsize 0\n",
      "2023-03-10 15:28:47,174 : INFO : EPOCH 4 - PROGRESS: at 12.87% examples, 320798 words/s, in_qsize 19, out_qsize 0\n",
      "2023-03-10 15:28:48,192 : INFO : EPOCH 4 - PROGRESS: at 13.88% examples, 321618 words/s, in_qsize 19, out_qsize 0\n",
      "2023-03-10 15:28:49,214 : INFO : EPOCH 4 - PROGRESS: at 14.82% examples, 321355 words/s, in_qsize 19, out_qsize 0\n",
      "2023-03-10 15:28:50,228 : INFO : EPOCH 4 - PROGRESS: at 15.79% examples, 320923 words/s, in_qsize 19, out_qsize 0\n",
      "2023-03-10 15:28:51,229 : INFO : EPOCH 4 - PROGRESS: at 16.66% examples, 321081 words/s, in_qsize 19, out_qsize 0\n",
      "2023-03-10 15:28:52,247 : INFO : EPOCH 4 - PROGRESS: at 17.47% examples, 319794 words/s, in_qsize 19, out_qsize 0\n",
      "2023-03-10 15:28:53,251 : INFO : EPOCH 4 - PROGRESS: at 18.35% examples, 319523 words/s, in_qsize 19, out_qsize 0\n",
      "2023-03-10 15:28:54,254 : INFO : EPOCH 4 - PROGRESS: at 19.26% examples, 320988 words/s, in_qsize 19, out_qsize 0\n",
      "2023-03-10 15:28:55,271 : INFO : EPOCH 4 - PROGRESS: at 20.06% examples, 320445 words/s, in_qsize 19, out_qsize 0\n",
      "2023-03-10 15:28:56,291 : INFO : EPOCH 4 - PROGRESS: at 20.93% examples, 321300 words/s, in_qsize 19, out_qsize 0\n",
      "2023-03-10 15:28:57,299 : INFO : EPOCH 4 - PROGRESS: at 22.10% examples, 321463 words/s, in_qsize 19, out_qsize 0\n",
      "2023-03-10 15:28:58,324 : INFO : EPOCH 4 - PROGRESS: at 22.96% examples, 321255 words/s, in_qsize 20, out_qsize 0\n",
      "2023-03-10 15:28:59,414 : INFO : EPOCH 4 - PROGRESS: at 23.88% examples, 322134 words/s, in_qsize 19, out_qsize 0\n",
      "2023-03-10 15:29:00,416 : INFO : EPOCH 4 - PROGRESS: at 24.83% examples, 322734 words/s, in_qsize 19, out_qsize 0\n",
      "2023-03-10 15:29:01,451 : INFO : EPOCH 4 - PROGRESS: at 26.14% examples, 323181 words/s, in_qsize 19, out_qsize 0\n",
      "2023-03-10 15:29:02,455 : INFO : EPOCH 4 - PROGRESS: at 27.37% examples, 323458 words/s, in_qsize 19, out_qsize 0\n",
      "2023-03-10 15:29:03,457 : INFO : EPOCH 4 - PROGRESS: at 28.61% examples, 323972 words/s, in_qsize 19, out_qsize 0\n",
      "2023-03-10 15:29:04,500 : INFO : EPOCH 4 - PROGRESS: at 29.83% examples, 323968 words/s, in_qsize 19, out_qsize 0\n",
      "2023-03-10 15:29:05,520 : INFO : EPOCH 4 - PROGRESS: at 31.02% examples, 324294 words/s, in_qsize 19, out_qsize 0\n",
      "2023-03-10 15:29:06,554 : INFO : EPOCH 4 - PROGRESS: at 32.27% examples, 324165 words/s, in_qsize 19, out_qsize 0\n",
      "2023-03-10 15:29:07,556 : INFO : EPOCH 4 - PROGRESS: at 33.44% examples, 324570 words/s, in_qsize 19, out_qsize 0\n",
      "2023-03-10 15:29:08,594 : INFO : EPOCH 4 - PROGRESS: at 34.58% examples, 324690 words/s, in_qsize 19, out_qsize 0\n",
      "2023-03-10 15:29:09,623 : INFO : EPOCH 4 - PROGRESS: at 35.70% examples, 324426 words/s, in_qsize 19, out_qsize 0\n",
      "2023-03-10 15:29:10,637 : INFO : EPOCH 4 - PROGRESS: at 36.89% examples, 324674 words/s, in_qsize 19, out_qsize 0\n",
      "2023-03-10 15:29:11,676 : INFO : EPOCH 4 - PROGRESS: at 38.14% examples, 325083 words/s, in_qsize 19, out_qsize 0\n",
      "2023-03-10 15:29:12,679 : INFO : EPOCH 4 - PROGRESS: at 39.38% examples, 325424 words/s, in_qsize 19, out_qsize 0\n",
      "2023-03-10 15:29:13,711 : INFO : EPOCH 4 - PROGRESS: at 40.54% examples, 325669 words/s, in_qsize 19, out_qsize 0\n",
      "2023-03-10 15:29:14,726 : INFO : EPOCH 4 - PROGRESS: at 41.89% examples, 325892 words/s, in_qsize 19, out_qsize 0\n",
      "2023-03-10 15:29:15,770 : INFO : EPOCH 4 - PROGRESS: at 43.04% examples, 325827 words/s, in_qsize 19, out_qsize 0\n",
      "2023-03-10 15:29:16,794 : INFO : EPOCH 4 - PROGRESS: at 44.31% examples, 325973 words/s, in_qsize 19, out_qsize 0\n",
      "2023-03-10 15:29:17,842 : INFO : EPOCH 4 - PROGRESS: at 45.59% examples, 326053 words/s, in_qsize 18, out_qsize 1\n",
      "2023-03-10 15:29:18,853 : INFO : EPOCH 4 - PROGRESS: at 46.66% examples, 325767 words/s, in_qsize 19, out_qsize 0\n",
      "2023-03-10 15:29:19,854 : INFO : EPOCH 4 - PROGRESS: at 47.74% examples, 325586 words/s, in_qsize 19, out_qsize 0\n",
      "2023-03-10 15:29:20,864 : INFO : EPOCH 4 - PROGRESS: at 48.87% examples, 325340 words/s, in_qsize 19, out_qsize 0\n",
      "2023-03-10 15:29:21,908 : INFO : EPOCH 4 - PROGRESS: at 49.97% examples, 324852 words/s, in_qsize 20, out_qsize 1\n",
      "2023-03-10 15:29:22,911 : INFO : EPOCH 4 - PROGRESS: at 51.12% examples, 325254 words/s, in_qsize 19, out_qsize 0\n",
      "2023-03-10 15:29:23,976 : INFO : EPOCH 4 - PROGRESS: at 52.29% examples, 325207 words/s, in_qsize 19, out_qsize 0\n",
      "2023-03-10 15:29:24,990 : INFO : EPOCH 4 - PROGRESS: at 53.28% examples, 325092 words/s, in_qsize 19, out_qsize 0\n",
      "2023-03-10 15:29:26,011 : INFO : EPOCH 4 - PROGRESS: at 54.49% examples, 325538 words/s, in_qsize 19, out_qsize 0\n",
      "2023-03-10 15:29:27,020 : INFO : EPOCH 4 - PROGRESS: at 55.69% examples, 325342 words/s, in_qsize 19, out_qsize 0\n",
      "2023-03-10 15:29:28,022 : INFO : EPOCH 4 - PROGRESS: at 56.85% examples, 325596 words/s, in_qsize 19, out_qsize 0\n",
      "2023-03-10 15:29:29,044 : INFO : EPOCH 4 - PROGRESS: at 57.99% examples, 325713 words/s, in_qsize 19, out_qsize 0\n",
      "2023-03-10 15:29:30,049 : INFO : EPOCH 4 - PROGRESS: at 59.12% examples, 325539 words/s, in_qsize 19, out_qsize 0\n",
      "2023-03-10 15:29:31,054 : INFO : EPOCH 4 - PROGRESS: at 60.23% examples, 325535 words/s, in_qsize 19, out_qsize 0\n",
      "2023-03-10 15:29:32,064 : INFO : EPOCH 4 - PROGRESS: at 61.31% examples, 325242 words/s, in_qsize 19, out_qsize 0\n",
      "2023-03-10 15:29:33,075 : INFO : EPOCH 4 - PROGRESS: at 62.39% examples, 325062 words/s, in_qsize 18, out_qsize 1\n",
      "2023-03-10 15:29:34,115 : INFO : EPOCH 4 - PROGRESS: at 63.70% examples, 325205 words/s, in_qsize 19, out_qsize 0\n",
      "2023-03-10 15:29:35,124 : INFO : EPOCH 4 - PROGRESS: at 64.94% examples, 325118 words/s, in_qsize 19, out_qsize 0\n",
      "2023-03-10 15:29:36,127 : INFO : EPOCH 4 - PROGRESS: at 65.91% examples, 325083 words/s, in_qsize 19, out_qsize 0\n",
      "2023-03-10 15:29:37,141 : INFO : EPOCH 4 - PROGRESS: at 67.06% examples, 325170 words/s, in_qsize 19, out_qsize 0\n",
      "2023-03-10 15:29:38,193 : INFO : EPOCH 4 - PROGRESS: at 68.15% examples, 324781 words/s, in_qsize 19, out_qsize 0\n",
      "2023-03-10 15:29:39,228 : INFO : EPOCH 4 - PROGRESS: at 69.32% examples, 325136 words/s, in_qsize 19, out_qsize 0\n",
      "2023-03-10 15:29:40,257 : INFO : EPOCH 4 - PROGRESS: at 70.28% examples, 324753 words/s, in_qsize 19, out_qsize 0\n",
      "2023-03-10 15:29:41,267 : INFO : EPOCH 4 - PROGRESS: at 71.36% examples, 324719 words/s, in_qsize 19, out_qsize 0\n",
      "2023-03-10 15:29:42,299 : INFO : EPOCH 4 - PROGRESS: at 72.49% examples, 324682 words/s, in_qsize 19, out_qsize 0\n",
      "2023-03-10 15:29:43,315 : INFO : EPOCH 4 - PROGRESS: at 73.67% examples, 324484 words/s, in_qsize 18, out_qsize 1\n",
      "2023-03-10 15:29:44,321 : INFO : EPOCH 4 - PROGRESS: at 74.78% examples, 324545 words/s, in_qsize 19, out_qsize 0\n",
      "2023-03-10 15:29:45,326 : INFO : EPOCH 4 - PROGRESS: at 75.77% examples, 324525 words/s, in_qsize 19, out_qsize 0\n",
      "2023-03-10 15:29:46,417 : INFO : EPOCH 4 - PROGRESS: at 76.78% examples, 324102 words/s, in_qsize 19, out_qsize 0\n",
      "2023-03-10 15:29:47,438 : INFO : EPOCH 4 - PROGRESS: at 77.74% examples, 323802 words/s, in_qsize 19, out_qsize 0\n",
      "2023-03-10 15:29:48,455 : INFO : EPOCH 4 - PROGRESS: at 78.78% examples, 323724 words/s, in_qsize 19, out_qsize 0\n",
      "2023-03-10 15:29:49,481 : INFO : EPOCH 4 - PROGRESS: at 79.89% examples, 323816 words/s, in_qsize 20, out_qsize 0\n",
      "2023-03-10 15:29:50,497 : INFO : EPOCH 4 - PROGRESS: at 80.94% examples, 323834 words/s, in_qsize 19, out_qsize 0\n",
      "2023-03-10 15:29:51,502 : INFO : EPOCH 4 - PROGRESS: at 82.05% examples, 323817 words/s, in_qsize 19, out_qsize 0\n",
      "2023-03-10 15:29:52,505 : INFO : EPOCH 4 - PROGRESS: at 83.10% examples, 323637 words/s, in_qsize 19, out_qsize 0\n",
      "2023-03-10 15:29:53,520 : INFO : EPOCH 4 - PROGRESS: at 84.16% examples, 323664 words/s, in_qsize 19, out_qsize 0\n",
      "2023-03-10 15:29:54,583 : INFO : EPOCH 4 - PROGRESS: at 85.22% examples, 323669 words/s, in_qsize 19, out_qsize 0\n",
      "2023-03-10 15:29:55,590 : INFO : EPOCH 4 - PROGRESS: at 86.33% examples, 323639 words/s, in_qsize 19, out_qsize 0\n",
      "2023-03-10 15:29:56,596 : INFO : EPOCH 4 - PROGRESS: at 87.47% examples, 323459 words/s, in_qsize 20, out_qsize 1\n",
      "2023-03-10 15:29:57,613 : INFO : EPOCH 4 - PROGRESS: at 88.71% examples, 323586 words/s, in_qsize 19, out_qsize 0\n",
      "2023-03-10 15:29:58,625 : INFO : EPOCH 4 - PROGRESS: at 89.77% examples, 323388 words/s, in_qsize 19, out_qsize 0\n",
      "2023-03-10 15:29:59,628 : INFO : EPOCH 4 - PROGRESS: at 90.96% examples, 323483 words/s, in_qsize 18, out_qsize 0\n",
      "2023-03-10 15:30:00,647 : INFO : EPOCH 4 - PROGRESS: at 92.10% examples, 323428 words/s, in_qsize 19, out_qsize 0\n",
      "2023-03-10 15:30:01,650 : INFO : EPOCH 4 - PROGRESS: at 93.13% examples, 323419 words/s, in_qsize 19, out_qsize 0\n",
      "2023-03-10 15:30:02,660 : INFO : EPOCH 4 - PROGRESS: at 94.28% examples, 323407 words/s, in_qsize 19, out_qsize 0\n",
      "2023-03-10 15:30:03,674 : INFO : EPOCH 4 - PROGRESS: at 95.44% examples, 323457 words/s, in_qsize 19, out_qsize 0\n",
      "2023-03-10 15:30:04,688 : INFO : EPOCH 4 - PROGRESS: at 96.51% examples, 323342 words/s, in_qsize 19, out_qsize 0\n",
      "2023-03-10 15:30:05,693 : INFO : EPOCH 4 - PROGRESS: at 97.69% examples, 323623 words/s, in_qsize 19, out_qsize 0\n",
      "2023-03-10 15:30:06,712 : INFO : EPOCH 4 - PROGRESS: at 98.86% examples, 323584 words/s, in_qsize 19, out_qsize 0\n",
      "2023-03-10 15:30:07,635 : INFO : EPOCH 4: training on 41519360 raw words (30349500 effective words) took 93.7s, 323901 effective words/s\n",
      "2023-03-10 15:30:07,636 : INFO : Word2Vec lifecycle event {'msg': 'training on 207596800 raw words (151743192 effective words) took 426.6s, 355707 effective words/s', 'datetime': '2023-03-10T15:30:07.636200', 'gensim': '4.3.1', 'python': '3.11.1 (main, Jan  6 2023, 00:00:00) [GCC 12.2.1 20221121 (Red Hat 12.2.1-4)]', 'platform': 'Linux-6.1.7-200.fc37.x86_64-x86_64-with-glibc2.36', 'event': 'train'}\n",
      "2023-03-10 15:30:07,636 : INFO : Word2Vec lifecycle event {'params': 'Word2Vec<vocab=70537, vector_size=150, alpha=0.025>', 'datetime': '2023-03-10T15:30:07.636693', 'gensim': '4.3.1', 'python': '3.11.1 (main, Jan  6 2023, 00:00:00) [GCC 12.2.1 20221121 (Red Hat 12.2.1-4)]', 'platform': 'Linux-6.1.7-200.fc37.x86_64-x86_64-with-glibc2.36', 'event': 'created'}\n"
     ]
    },
    {
     "name": "stdout",
     "output_type": "stream",
     "text": [
      "Training time: 0:07:23.386114\n"
     ]
    }
   ],
   "source": [
    "from datetime import datetime\n",
    "\n",
    "start_time = datetime.now()\n",
    "\n",
    "model = gensim.models.Word2Vec(documents, vector_size=150, window=10, min_count=2, workers=10, sg=1)\n",
    "\n",
    "print(\"Training time:\", datetime.now() - start_time)"
   ]
  },
  {
   "attachments": {},
   "cell_type": "markdown",
   "metadata": {},
   "source": [
    "#### Exploiting the Word2Vec model\n",
    "\n",
    "We can now inspect the word embeddings that we have trained. We can start by looking at the embeddings of a specific word:\n"
   ]
  },
  {
   "cell_type": "code",
   "execution_count": 6,
   "metadata": {},
   "outputs": [
    {
     "data": {
      "text/plain": [
       "array([-1.56970084e-01, -3.01830590e-01, -1.18823089e-01,  1.09980419e-01,\n",
       "       -3.38316053e-01, -2.47057721e-01, -1.91001058e-01,  3.37381184e-01,\n",
       "       -2.12417603e-01,  1.67610303e-01, -3.20701778e-01, -3.54176871e-02,\n",
       "       -1.81559861e-01,  1.90398023e-02, -9.59860757e-02, -3.16600710e-01,\n",
       "        4.22646999e-01,  2.76238561e-01, -2.17504755e-01, -1.95383295e-01,\n",
       "       -1.79151639e-01,  4.00280714e-01, -1.43013559e-02, -2.35554606e-01,\n",
       "        1.40768185e-01,  1.18741700e-02, -1.86091393e-01, -1.60317063e-01,\n",
       "       -3.09104800e-01,  7.19331503e-02,  1.39453262e-01,  7.30138458e-03,\n",
       "       -7.86894094e-03, -2.03384176e-01,  4.36092056e-02,  1.61481500e-01,\n",
       "        1.21806741e-01, -1.35611638e-01,  1.40874147e-01,  2.00481471e-02,\n",
       "        3.66863281e-01, -2.53031075e-01,  6.78020492e-02, -2.94696447e-02,\n",
       "        2.86103413e-02,  1.63775086e-01,  2.21901417e-01,  3.57618406e-02,\n",
       "       -1.73813805e-01,  8.36217217e-03, -2.14418575e-01,  3.25676888e-01,\n",
       "       -8.45552236e-02, -2.79487133e-01,  2.12182865e-01, -1.88949391e-01,\n",
       "        1.79607630e-01, -4.59582638e-03, -3.39731812e-01, -3.29574168e-01,\n",
       "        4.22550172e-01, -9.89712477e-02, -4.88552898e-01,  6.44928543e-03,\n",
       "        1.64021328e-01, -9.22620818e-02, -3.63646001e-01, -1.81508780e-01,\n",
       "       -6.77578986e-01, -1.79184318e-01,  2.09855270e-02,  9.18319747e-02,\n",
       "       -1.76793590e-01, -1.94605529e-01,  1.14726059e-01, -2.79704899e-01,\n",
       "        1.65236980e-01,  1.69541299e-01, -2.43945181e-01,  1.08438529e-01,\n",
       "       -8.33896846e-02, -7.79820919e-01,  1.66987374e-01, -3.68795730e-02,\n",
       "       -4.55205180e-02, -9.73027721e-02, -2.45811924e-01, -1.76684203e-04,\n",
       "        2.44720012e-01, -7.46447816e-02,  4.23812985e-01,  2.69503832e-01,\n",
       "        2.70160645e-01, -1.55149579e-01,  2.79224217e-01, -1.22122364e-02,\n",
       "       -8.16108510e-02, -7.99900442e-02,  9.06436592e-02,  2.82199144e-01,\n",
       "        5.03044605e-01,  5.17275408e-02,  4.08662975e-01,  4.84296791e-02,\n",
       "        6.88687041e-02, -1.92991823e-01, -9.23929885e-02,  3.49244952e-01,\n",
       "       -8.70136544e-03, -3.45753133e-01, -4.33037020e-02,  2.96023279e-01,\n",
       "        2.88156301e-01, -1.13571405e-01, -3.73367071e-01,  2.73370832e-01,\n",
       "        1.37244552e-01,  2.72483021e-01, -2.19770998e-01, -1.86721995e-01,\n",
       "       -1.15485437e-01,  3.98482054e-01,  2.23551258e-01, -2.01667584e-02,\n",
       "        2.25086167e-01,  9.30399075e-02,  1.23421408e-01, -1.10873647e-01,\n",
       "        3.20423961e-01,  3.72928590e-01,  1.96651161e-01,  2.63773948e-01,\n",
       "       -1.24602869e-01, -1.92987412e-01, -1.47491932e-01,  2.36952126e-01,\n",
       "        1.64362956e-02, -4.65942144e-01,  1.03320731e-02,  3.81294675e-02,\n",
       "        3.34905118e-01, -1.66044191e-01, -1.02301471e-01, -4.24873173e-01,\n",
       "       -3.78933728e-01,  2.70662308e-01, -3.10216963e-01,  1.79173797e-01,\n",
       "       -2.82373369e-01, -3.14794958e-01], dtype=float32)"
      ]
     },
     "execution_count": 6,
     "metadata": {},
     "output_type": "execute_result"
    }
   ],
   "source": [
    "# embeddings\n",
    "model.wv.get_vector(\"dirty\")\n"
   ]
  },
  {
   "attachments": {},
   "cell_type": "markdown",
   "metadata": {},
   "source": [
    "Which are the words most similar to this one?\n"
   ]
  },
  {
   "cell_type": "code",
   "execution_count": 7,
   "metadata": {},
   "outputs": [
    {
     "data": {
      "text/plain": [
       "[('filthy', 0.8818126916885376),\n",
       " ('unclean', 0.842048704624176),\n",
       " ('smelly', 0.8416223526000977),\n",
       " ('stained', 0.821882963180542),\n",
       " ('dingy', 0.8164083361625671),\n",
       " ('dusty', 0.8043937087059021),\n",
       " ('grubby', 0.7881690859794617),\n",
       " ('disgusting', 0.7780450582504272),\n",
       " ('soiled', 0.7760621905326843),\n",
       " ('moldy', 0.7698391675949097)]"
      ]
     },
     "execution_count": 7,
     "metadata": {},
     "output_type": "execute_result"
    }
   ],
   "source": [
    "# similarity\n",
    "w1 = \"dirty\"\n",
    "model.wv.most_similar(positive=w1)\n"
   ]
  },
  {
   "attachments": {},
   "cell_type": "markdown",
   "metadata": {},
   "source": [
    "You can also limit to a smaller number of hits:\n"
   ]
  },
  {
   "cell_type": "code",
   "execution_count": 8,
   "metadata": {},
   "outputs": [
    {
     "data": {
      "text/plain": [
       "[('courteous', 0.9197719097137451),\n",
       " ('professional', 0.8643068075180054),\n",
       " ('attentive', 0.8366281390190125),\n",
       " ('curtious', 0.8138929009437561),\n",
       " ('efficient', 0.8089599013328552),\n",
       " ('approachable', 0.8074056506156921)]"
      ]
     },
     "execution_count": 8,
     "metadata": {},
     "output_type": "execute_result"
    }
   ],
   "source": [
    "# look up top 6 words similar to 'polite'\n",
    "w1 = [\"polite\"]\n",
    "model.wv.most_similar(positive=w1, topn=6)\n"
   ]
  },
  {
   "cell_type": "code",
   "execution_count": 9,
   "metadata": {},
   "outputs": [
    {
     "data": {
      "text/plain": [
       "[('germany', 0.7297115325927734),\n",
       " ('england', 0.6851173639297485),\n",
       " ('europe', 0.6638819575309753),\n",
       " ('malaysia', 0.6443825960159302),\n",
       " ('ukraine', 0.6416096091270447),\n",
       " ('spain', 0.6379836201667786)]"
      ]
     },
     "execution_count": 9,
     "metadata": {},
     "output_type": "execute_result"
    }
   ],
   "source": [
    "# look up top 6 words similar to 'france'\n",
    "w1 = [\"france\"]\n",
    "model.wv.most_similar(positive=w1, topn=6)\n"
   ]
  },
  {
   "attachments": {},
   "cell_type": "markdown",
   "metadata": {},
   "source": [
    "We can also provide to _most_similar_ not only positive concepts, but also negative ones. This allows us to do some arithmetic on the vector representations for certain sets of words!\n",
    "\n",
    "The famous example **king - man + woman = queen** goes as follows:\n"
   ]
  },
  {
   "cell_type": "code",
   "execution_count": 10,
   "metadata": {},
   "outputs": [
    {
     "data": {
      "text/plain": [
       "[('queen', 0.7543559074401855)]"
      ]
     },
     "execution_count": 10,
     "metadata": {},
     "output_type": "execute_result"
    }
   ],
   "source": [
    "# arithmetic: vec(“king”) - vec(“man”) + vec(“woman”) =~ vec(“queen”)\n",
    "w1 = [\"king\", \"woman\"]\n",
    "w2 = [\"man\"]\n",
    "model.wv.most_similar(positive=w1, negative=w2, topn=1)"
   ]
  },
  {
   "attachments": {},
   "cell_type": "markdown",
   "metadata": {},
   "source": [
    "We can get the similarity scores for specific word pairs.\n"
   ]
  },
  {
   "cell_type": "code",
   "execution_count": 11,
   "metadata": {},
   "outputs": [
    {
     "data": {
      "text/plain": [
       "0.8416223"
      ]
     },
     "execution_count": 11,
     "metadata": {},
     "output_type": "execute_result"
    }
   ],
   "source": [
    "# similarity between two different words\n",
    "model.wv.similarity(w1=\"dirty\", w2=\"smelly\")\n"
   ]
  },
  {
   "cell_type": "code",
   "execution_count": 12,
   "metadata": {},
   "outputs": [
    {
     "data": {
      "text/plain": [
       "1.0"
      ]
     },
     "execution_count": 12,
     "metadata": {},
     "output_type": "execute_result"
    }
   ],
   "source": [
    "# similarity between two identical words\n",
    "model.wv.similarity(w1=\"dirty\", w2=\"dirty\")\n"
   ]
  },
  {
   "cell_type": "code",
   "execution_count": 13,
   "metadata": {},
   "outputs": [
    {
     "data": {
      "text/plain": [
       "0.35772517"
      ]
     },
     "execution_count": 13,
     "metadata": {},
     "output_type": "execute_result"
    }
   ],
   "source": [
    "# similarity between two unrelated words\n",
    "model.wv.similarity(w1=\"dirty\", w2=\"clean\")\n"
   ]
  },
  {
   "attachments": {},
   "cell_type": "markdown",
   "metadata": {},
   "source": [
    "And we can check which word in a list of words is an intruder:\n"
   ]
  },
  {
   "cell_type": "code",
   "execution_count": 14,
   "metadata": {},
   "outputs": [
    {
     "data": {
      "text/plain": [
       "'france'"
      ]
     },
     "execution_count": 14,
     "metadata": {},
     "output_type": "execute_result"
    }
   ],
   "source": [
    "model.wv.doesnt_match([\"cat\", \"dog\", \"france\"])\n"
   ]
  },
  {
   "cell_type": "code",
   "execution_count": 15,
   "metadata": {},
   "outputs": [
    {
     "data": {
      "text/plain": [
       "'shower'"
      ]
     },
     "execution_count": 15,
     "metadata": {},
     "output_type": "execute_result"
    }
   ],
   "source": [
    "model.wv.doesnt_match([\"bed\", \"pillow\", \"duvet\", \"shower\"])\n"
   ]
  },
  {
   "cell_type": "code",
   "execution_count": 16,
   "metadata": {},
   "outputs": [
    {
     "data": {
      "text/plain": [
       "'plane'"
      ]
     },
     "execution_count": 16,
     "metadata": {},
     "output_type": "execute_result"
    }
   ],
   "source": [
    "model.wv.doesnt_match([\"car\", \"bicycle\", \"plane\", \"skate\"])\n"
   ]
  },
  {
   "cell_type": "code",
   "execution_count": 17,
   "metadata": {},
   "outputs": [
    {
     "data": {
      "text/plain": [
       "'bicycle'"
      ]
     },
     "execution_count": 17,
     "metadata": {},
     "output_type": "execute_result"
    }
   ],
   "source": [
    "model.wv.doesnt_match([\"car\", \"bicycle\", \"bus\", \"trolley\"])\n"
   ]
  },
  {
   "attachments": {},
   "cell_type": "markdown",
   "metadata": {},
   "source": [
    "Make your own experiments! Try to find out:\n",
    "\n",
    "- Which word is most similar to _lift_?\n",
    "- What are the 3 words most similar to _crab_?\n",
    "- How similar are the words _waitress_ and _waiter_?\n",
    "- If you take _portugal_, remove _lisbon_, and add _dublin_, what do you get?\n"
   ]
  },
  {
   "cell_type": "code",
   "execution_count": 18,
   "metadata": {},
   "outputs": [
    {
     "name": "stdout",
     "output_type": "stream",
     "text": [
      "Word most similar to 'lift': [('lifts', 0.8329899311065674)]\n",
      "Top 3 words most similar to 'crab': [('lobster', 0.7850492596626282), ('chowder', 0.7762135863304138), ('oysters', 0.7705119848251343)]\n",
      "The words 'waitress' and 'waiter' are 0.8855078220367432 similar\n",
      "Removing 'lisbon' from 'portugal' and adding 'dublin' results in [('ireland', 0.6771841645240784)]\n"
     ]
    }
   ],
   "source": [
    "# your code here\n",
    "print(f\"Word most similar to 'lift': {model.wv.most_similar(positive=['lift'], topn=1)}\")\n",
    "print(f\"Top 3 words most similar to 'crab': {model.wv.most_similar(positive=['crab'], topn=3)}\")\n",
    "print(f\"The words 'waitress' and 'waiter' are {model.wv.similarity(w1='waitress', w2='waiter')} similar\")\n",
    "print(f\"Removing 'lisbon' from 'portugal' and adding 'dublin' results in {model.wv.most_similar(positive=['portugal', 'dublin'], negative=['lisbon'], topn=1)}\")\n"
   ]
  },
  {
   "attachments": {},
   "cell_type": "markdown",
   "metadata": {},
   "source": [
    "#### Saving and loading a Word2Vec model\n",
    "\n",
    "You can save a trained model so that you are able to load it again in the future, and optionally continue training it.\n"
   ]
  },
  {
   "cell_type": "code",
   "execution_count": 19,
   "metadata": {},
   "outputs": [],
   "source": [
    "model_path = \"../reviews/reviews_model\""
   ]
  },
  {
   "cell_type": "code",
   "execution_count": 20,
   "metadata": {},
   "outputs": [
    {
     "name": "stderr",
     "output_type": "stream",
     "text": [
      "2023-03-10 15:30:08,806 : INFO : Word2Vec lifecycle event {'fname_or_handle': '../reviews/reviews_model/reviews_model', 'separately': 'None', 'sep_limit': 10485760, 'ignore': frozenset(), 'datetime': '2023-03-10T15:30:08.806504', 'gensim': '4.3.1', 'python': '3.11.1 (main, Jan  6 2023, 00:00:00) [GCC 12.2.1 20221121 (Red Hat 12.2.1-4)]', 'platform': 'Linux-6.1.7-200.fc37.x86_64-x86_64-with-glibc2.36', 'event': 'saving'}\n",
      "2023-03-10 15:30:08,807 : INFO : storing np array 'vectors' to ../reviews/reviews_model/reviews_model.wv.vectors.npy\n",
      "2023-03-10 15:30:08,858 : INFO : storing np array 'syn1neg' to ../reviews/reviews_model/reviews_model.syn1neg.npy\n",
      "2023-03-10 15:30:08,900 : INFO : not storing attribute cum_table\n",
      "2023-03-10 15:30:08,939 : INFO : saved ../reviews/reviews_model/reviews_model\n"
     ]
    }
   ],
   "source": [
    "# save full model (including trainable vectors to resume training)\n",
    "model.save(f\"{model_path}/reviews_model\")\n"
   ]
  },
  {
   "cell_type": "code",
   "execution_count": 21,
   "metadata": {},
   "outputs": [
    {
     "name": "stderr",
     "output_type": "stream",
     "text": [
      "2023-03-10 15:30:08,961 : INFO : loading Word2Vec object from ../reviews/reviews_model/reviews_model\n",
      "2023-03-10 15:30:08,985 : INFO : loading wv recursively from ../reviews/reviews_model/reviews_model.wv.* with mmap=None\n",
      "2023-03-10 15:30:08,985 : INFO : loading vectors from ../reviews/reviews_model/reviews_model.wv.vectors.npy with mmap=None\n",
      "2023-03-10 15:30:09,103 : INFO : loading syn1neg from ../reviews/reviews_model/reviews_model.syn1neg.npy with mmap=None\n",
      "2023-03-10 15:30:09,148 : INFO : setting ignored attribute cum_table to None\n",
      "2023-03-10 15:30:09,625 : INFO : Word2Vec lifecycle event {'fname': '../reviews/reviews_model/reviews_model', 'datetime': '2023-03-10T15:30:09.625840', 'gensim': '4.3.1', 'python': '3.11.1 (main, Jan  6 2023, 00:00:00) [GCC 12.2.1 20221121 (Red Hat 12.2.1-4)]', 'platform': 'Linux-6.1.7-200.fc37.x86_64-x86_64-with-glibc2.36', 'event': 'loaded'}\n"
     ]
    }
   ],
   "source": [
    "# load full model\n",
    "model = gensim.models.Word2Vec.load(f\"{model_path}/reviews_model\")\n"
   ]
  },
  {
   "attachments": {},
   "cell_type": "markdown",
   "metadata": {},
   "source": [
    "#### Saving and loading the word embeddings\n",
    "\n",
    "If you're sure you won't be training the model any longer, you can save its _KeyedVectors_ (the word embeddings).\n"
   ]
  },
  {
   "cell_type": "code",
   "execution_count": 22,
   "metadata": {},
   "outputs": [],
   "source": [
    "model_wv_path = \"../reviews/reviews_model\""
   ]
  },
  {
   "cell_type": "code",
   "execution_count": 23,
   "metadata": {},
   "outputs": [
    {
     "name": "stderr",
     "output_type": "stream",
     "text": [
      "2023-03-10 15:30:09,727 : INFO : KeyedVectors lifecycle event {'fname_or_handle': '../reviews/reviews_model/reviews_wv', 'separately': 'None', 'sep_limit': 10485760, 'ignore': frozenset(), 'datetime': '2023-03-10T15:30:09.727735', 'gensim': '4.3.1', 'python': '3.11.1 (main, Jan  6 2023, 00:00:00) [GCC 12.2.1 20221121 (Red Hat 12.2.1-4)]', 'platform': 'Linux-6.1.7-200.fc37.x86_64-x86_64-with-glibc2.36', 'event': 'saving'}\n",
      "2023-03-10 15:30:09,728 : INFO : storing np array 'vectors' to ../reviews/reviews_model/reviews_wv.vectors.npy\n",
      "2023-03-10 15:30:09,782 : INFO : saved ../reviews/reviews_model/reviews_wv\n"
     ]
    }
   ],
   "source": [
    "# save model word vectors\n",
    "model.wv.save(f\"{model_wv_path}/reviews_wv\")\n"
   ]
  },
  {
   "attachments": {},
   "cell_type": "markdown",
   "metadata": {},
   "source": [
    "After saving the embeddings, you can load them and use them.\n"
   ]
  },
  {
   "cell_type": "code",
   "execution_count": 24,
   "metadata": {},
   "outputs": [
    {
     "name": "stderr",
     "output_type": "stream",
     "text": [
      "2023-03-10 15:30:09,839 : INFO : loading KeyedVectors object from ../reviews/reviews_model/reviews_wv\n",
      "2023-03-10 15:30:09,865 : INFO : loading vectors from ../reviews/reviews_model/reviews_wv.vectors.npy with mmap=None\n",
      "2023-03-10 15:30:17,764 : INFO : KeyedVectors lifecycle event {'fname': '../reviews/reviews_model/reviews_wv', 'datetime': '2023-03-10T15:30:17.764255', 'gensim': '4.3.1', 'python': '3.11.1 (main, Jan  6 2023, 00:00:00) [GCC 12.2.1 20221121 (Red Hat 12.2.1-4)]', 'platform': 'Linux-6.1.7-200.fc37.x86_64-x86_64-with-glibc2.36', 'event': 'loaded'}\n"
     ]
    },
    {
     "name": "stdout",
     "output_type": "stream",
     "text": [
      "[('lifts', 0.8329899311065674)]\n"
     ]
    }
   ],
   "source": [
    "# load model word vectors\n",
    "wv = gensim.models.KeyedVectors.load(f\"{model_wv_path}/reviews_wv\")\n",
    "\n",
    "print(wv.most_similar(positive=\"lift\", topn=1))\n"
   ]
  },
  {
   "attachments": {},
   "cell_type": "markdown",
   "metadata": {},
   "source": [
    "## Visualization\n",
    "\n",
    "Word embeddings can be visualized by reducing dimensionality of the words to 2 dimensions using [tSNE](https://scikit-learn.org/stable/modules/generated/sklearn.manifold.TSNE.html).\n",
    "\n",
    "Given enough training data, we can observe certain patterns in the vector space, including:\n",
    "\n",
    "- Semantic relations: words like _cat_, _dog_, _cow_, etc. have a tendency to lie close by.\n",
    "- Syntactic relations: words like _run_, _running_ or _cut_, _cutting_ lie close together.\n",
    "- Arithmetic properties such as _King - Man = Queen - Woman_.\n"
   ]
  },
  {
   "cell_type": "code",
   "execution_count": 25,
   "metadata": {},
   "outputs": [],
   "source": [
    "from sklearn.manifold import TSNE\n",
    "import numpy as np\n",
    "import matplotlib.pyplot as plt\n",
    "import random\n",
    "\n",
    "\n",
    "def reduce_dimensions(model, num_dimensions=2, words=[], perplexity=2):\n",
    "\n",
    "    vectors = []  # positions in vector space\n",
    "    labels = []  # keep track of words to label our data again later\n",
    "    word_count = 0\n",
    "\n",
    "    # if no word list is given, assume we want to use the whole data in the model\n",
    "    if words == []:\n",
    "        words = model.wv.index_to_key\n",
    "\n",
    "    for word in words:\n",
    "        vectors.append(model.wv[word])\n",
    "        labels.append(word)\n",
    "\n",
    "    # convert both lists into numpy vectors for reduction\n",
    "    vectors = np.asarray(vectors)\n",
    "    labels = np.asarray(labels)\n",
    "\n",
    "    # reduce using t-SNE\n",
    "    tsne = TSNE(n_components=num_dimensions, random_state=0, perplexity=perplexity)\n",
    "    vectors = tsne.fit_transform(vectors)\n",
    "\n",
    "    return vectors, labels\n",
    "\n",
    "\n",
    "# 2 dimension plotting\n",
    "def plot_with_matplotlib(x_vals, y_vals, labels, words=[]):\n",
    "\n",
    "    random.seed(0)\n",
    "\n",
    "    x_vals_new = np.array([])\n",
    "    y_vals_new = np.array([])\n",
    "    labels_new = np.array([])\n",
    "    if words == []:\n",
    "        # if no word list is given, assume we want to plot the whole data\n",
    "        x_vals_new = x_vals\n",
    "        y_vals_new = y_vals\n",
    "        labels_new = labels\n",
    "    else:\n",
    "        for i in range(len(labels)):\n",
    "            if labels[i] in words:\n",
    "                x_vals_new = np.append(x_vals_new, x_vals[i])\n",
    "                y_vals_new = np.append(y_vals_new, y_vals[i])\n",
    "                labels_new = np.append(labels_new, labels[i])\n",
    "\n",
    "    plt.figure(figsize=(12, 12))\n",
    "    plt.scatter(x_vals_new, y_vals_new)\n",
    "\n",
    "    # apply labels\n",
    "    for i in range(len(labels_new)):\n",
    "        plt.annotate(labels_new[i], (x_vals_new[i], y_vals_new[i]))\n",
    "\n",
    "    plt.show()"
   ]
  },
  {
   "cell_type": "code",
   "execution_count": 26,
   "metadata": {},
   "outputs": [
    {
     "name": "stderr",
     "output_type": "stream",
     "text": [
      "/home/margarida/.local/lib/python3.11/site-packages/sklearn/manifold/_t_sne.py:800: FutureWarning: The default initialization in TSNE will change from 'random' to 'pca' in 1.2.\n",
      "  warnings.warn(\n",
      "/home/margarida/.local/lib/python3.11/site-packages/sklearn/manifold/_t_sne.py:810: FutureWarning: The default learning rate in TSNE will change from 200.0 to 'auto' in 1.2.\n",
      "  warnings.warn(\n"
     ]
    },
    {
     "name": "stdout",
     "output_type": "stream",
     "text": [
      "[-481.3555, 2048.5508, 314.55887, -2067.4458] [-798.27637, -1081.9902, 664.7978, 1226.7571] ['king' 'man' 'queen' 'woman']\n"
     ]
    }
   ],
   "source": [
    "words = []\n",
    "words.extend([\"king\", \"man\", \"queen\", \"woman\"])\n",
    "\n",
    "vectors, labels = reduce_dimensions(model, 2, words)\n",
    "x_vals = [v[0] for v in vectors]\n",
    "y_vals = [v[1] for v in vectors]\n",
    "print(x_vals, y_vals, labels)\n"
   ]
  },
  {
   "cell_type": "code",
   "execution_count": 27,
   "metadata": {},
   "outputs": [
    {
     "data": {
      "image/png": "[encoded data removed]",
      "text/plain": [
       "<Figure size 1200x1200 with 1 Axes>"
      ]
     },
     "metadata": {},
     "output_type": "display_data"
    }
   ],
   "source": [
    "plot_with_matplotlib(x_vals, y_vals, labels, [\"king\", \"man\", \"queen\", \"woman\"])\n"
   ]
  },
  {
   "attachments": {},
   "cell_type": "markdown",
   "metadata": {},
   "source": [
    "## Portuguese embeddings\n",
    "\n",
    "A number of embeddings for Portuguese are available at [NILC](http://nilc.icmc.usp.br/embeddings), as well as at the [NLX-group](https://github.com/nlx-group/LX-DSemVectors).\n"
   ]
  },
  {
   "cell_type": "code",
   "execution_count": 1,
   "metadata": {},
   "outputs": [],
   "source": [
    "import gensim\n",
    "from gensim.models import KeyedVectors\n",
    "\n",
    "# takes a while to load...\n",
    "model_pt = KeyedVectors.load_word2vec_format(\"../reviews/reviews_wv/skip_s100.txt\")"
   ]
  },
  {
   "cell_type": "code",
   "execution_count": 2,
   "metadata": {},
   "outputs": [],
   "source": [
    "# save model word vectors\n",
    "model_pt.save(\"../reviews/reviews_wv/reviews_pt_wv\")\n"
   ]
  },
  {
   "cell_type": "code",
   "execution_count": 3,
   "metadata": {},
   "outputs": [],
   "source": [
    "# load model word vectors (much faster than the above)\n",
    "model_pt = gensim.models.KeyedVectors.load(\"../reviews/reviews_wv/reviews_pt_wv\")\n"
   ]
  },
  {
   "cell_type": "code",
   "execution_count": 4,
   "metadata": {},
   "outputs": [
    {
     "data": {
      "text/plain": [
       "[('cachorro', 0.854576826095581),\n",
       " ('gato', 0.8402905464172363),\n",
       " ('monstro', 0.8336718082427979),\n",
       " ('pássaro', 0.8299859166145325),\n",
       " ('ogro', 0.8261020183563232),\n",
       " ('gorila', 0.8195290565490723),\n",
       " ('furão', 0.813050389289856),\n",
       " ('cãozinho', 0.8127979040145874),\n",
       " ('felino', 0.8087738752365112),\n",
       " ('filhote', 0.8069430589675903)]"
      ]
     },
     "execution_count": 4,
     "metadata": {},
     "output_type": "execute_result"
    }
   ],
   "source": [
    "model_pt.most_similar(positive=[\"cão\"])\n"
   ]
  },
  {
   "cell_type": "code",
   "execution_count": 5,
   "metadata": {},
   "outputs": [
    {
     "data": {
      "text/plain": [
       "[('rainha-consorte', 0.7912214994430542),\n",
       " ('primogénita', 0.7738461494445801),\n",
       " ('imperatriz-mãe', 0.7646884322166443),\n",
       " ('paleóloga', 0.752788245677948),\n",
       " ('dama-de-companhia', 0.7478024363517761),\n",
       " ('consorte', 0.7475904226303101),\n",
       " ('princesa-eleitora', 0.7472771406173706),\n",
       " ('piroska', 0.7468665838241577),\n",
       " ('ulrica', 0.7454056143760681),\n",
       " ('ranavalona', 0.7441918253898621)]"
      ]
     },
     "execution_count": 5,
     "metadata": {},
     "output_type": "execute_result"
    }
   ],
   "source": [
    "model_pt.most_similar(positive=[\"rei\", \"mulher\"], negative=[\"homem\"])\n"
   ]
  }
 ],
 "metadata": {
  "kernelspec": {
   "display_name": "Python 3",
   "language": "python",
   "name": "python3"
  },
  "language_info": {
   "codemirror_mode": {
    "name": "ipython",
    "version": 3
   },
   "file_extension": ".py",
   "mimetype": "text/x-python",
   "name": "python",
   "nbconvert_exporter": "python",
   "pygments_lexer": "ipython3",
   "version": "3.11.1"
  }
 },
 "nbformat": 4,
 "nbformat_minor": 2
}
